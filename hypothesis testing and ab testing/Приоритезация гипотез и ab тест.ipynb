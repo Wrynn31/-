{
 "cells": [
  {
   "cell_type": "markdown",
   "metadata": {},
   "source": [
    "---"
   ]
  },
  {
   "cell_type": "markdown",
   "metadata": {},
   "source": [
    "###   Описание проекта\n",
    "<em> Я — аналитик крупного интернет-магазина. Вместе с отделом маркетинга я подготовили список гипотез для увеличения выручки.\n",
    "Приоритизируем гипотезы, запустим A/B-тест и проанализируем результаты.<em>  \n",
    "\n",
    "####  Цель исследования\n",
    "<em> Узнать какая из гипотез приведёт к наибольшему увеличению выручки.<em>\n",
    "\n",
    "####   Ход исследования\n",
    "1. <em> Выполнить обзор и предобработку данных; <em>\n",
    "2. <em> Выполнить приоритезацию гипотез; <em>\n",
    "3. <em> Проанализировать A/В - тест, принять решение по его результату. <em>"
   ]
  },
  {
   "cell_type": "markdown",
   "metadata": {},
   "source": [
    "### Обзор и предобработка данных"
   ]
  },
  {
   "cell_type": "code",
   "execution_count": 1,
   "metadata": {},
   "outputs": [],
   "source": [
    "import pandas as pd\n",
    "import matplotlib.pyplot as plt\n",
    "import seaborn as sns\n",
    "from scipy import stats as st\n",
    "import numpy as np"
   ]
  },
  {
   "cell_type": "code",
   "execution_count": 2,
   "metadata": {},
   "outputs": [],
   "source": [
    "try:\n",
    "    hypothesis = pd.read_csv('hypothesis.csv')\n",
    "    orders = pd.read_csv('orders.csv')\n",
    "    visitors = pd.read_csv('visitors.csv')\n",
    "except:\n",
    "    print('FileNotFoundError')"
   ]
  },
  {
   "cell_type": "code",
   "execution_count": 3,
   "metadata": {},
   "outputs": [
    {
     "data": {
      "text/html": [
       "<style  type=\"text/css\" >\n",
       "#T_7b494_row0_col0,#T_7b494_row1_col0,#T_7b494_row2_col0,#T_7b494_row3_col0,#T_7b494_row4_col0{\n",
       "            background-color:  #3b4cc0;\n",
       "            color:  #f1f1f1;\n",
       "        }</style><table id=\"T_7b494_\" ><thead>    <tr>        <th class=\"blank level0\" ></th>        <th class=\"col_heading level0 col0\" >0</th>    </tr></thead><tbody>\n",
       "                <tr>\n",
       "                        <th id=\"T_7b494_level0_row0\" class=\"row_heading level0 row0\" >Hypothesis</th>\n",
       "                        <td id=\"T_7b494_row0_col0\" class=\"data row0 col0\" >0.000000</td>\n",
       "            </tr>\n",
       "            <tr>\n",
       "                        <th id=\"T_7b494_level0_row1\" class=\"row_heading level0 row1\" >Reach</th>\n",
       "                        <td id=\"T_7b494_row1_col0\" class=\"data row1 col0\" >0.000000</td>\n",
       "            </tr>\n",
       "            <tr>\n",
       "                        <th id=\"T_7b494_level0_row2\" class=\"row_heading level0 row2\" >Impact</th>\n",
       "                        <td id=\"T_7b494_row2_col0\" class=\"data row2 col0\" >0.000000</td>\n",
       "            </tr>\n",
       "            <tr>\n",
       "                        <th id=\"T_7b494_level0_row3\" class=\"row_heading level0 row3\" >Confidence</th>\n",
       "                        <td id=\"T_7b494_row3_col0\" class=\"data row3 col0\" >0.000000</td>\n",
       "            </tr>\n",
       "            <tr>\n",
       "                        <th id=\"T_7b494_level0_row4\" class=\"row_heading level0 row4\" >Efforts</th>\n",
       "                        <td id=\"T_7b494_row4_col0\" class=\"data row4 col0\" >0.000000</td>\n",
       "            </tr>\n",
       "    </tbody></table>"
      ],
      "text/plain": [
       "<pandas.io.formats.style.Styler at 0x1b8cf93e1f0>"
      ]
     },
     "execution_count": 3,
     "metadata": {},
     "output_type": "execute_result"
    }
   ],
   "source": [
    "pd.DataFrame(round(hypothesis.isna().mean()*100,)).style.background_gradient('coolwarm')"
   ]
  },
  {
   "cell_type": "code",
   "execution_count": 4,
   "metadata": {},
   "outputs": [
    {
     "name": "stdout",
     "output_type": "stream",
     "text": [
      "<class 'pandas.core.frame.DataFrame'>\n",
      "RangeIndex: 9 entries, 0 to 8\n",
      "Data columns (total 5 columns):\n",
      " #   Column      Non-Null Count  Dtype \n",
      "---  ------      --------------  ----- \n",
      " 0   Hypothesis  9 non-null      object\n",
      " 1   Reach       9 non-null      int64 \n",
      " 2   Impact      9 non-null      int64 \n",
      " 3   Confidence  9 non-null      int64 \n",
      " 4   Efforts     9 non-null      int64 \n",
      "dtypes: int64(4), object(1)\n",
      "memory usage: 488.0+ bytes\n"
     ]
    }
   ],
   "source": [
    "hypothesis.info()"
   ]
  },
  {
   "cell_type": "code",
   "execution_count": 5,
   "metadata": {},
   "outputs": [
    {
     "data": {
      "text/html": [
       "<div>\n",
       "<style scoped>\n",
       "    .dataframe tbody tr th:only-of-type {\n",
       "        vertical-align: middle;\n",
       "    }\n",
       "\n",
       "    .dataframe tbody tr th {\n",
       "        vertical-align: top;\n",
       "    }\n",
       "\n",
       "    .dataframe thead th {\n",
       "        text-align: right;\n",
       "    }\n",
       "</style>\n",
       "<table border=\"1\" class=\"dataframe\">\n",
       "  <thead>\n",
       "    <tr style=\"text-align: right;\">\n",
       "      <th></th>\n",
       "      <th>Hypothesis</th>\n",
       "      <th>Reach</th>\n",
       "      <th>Impact</th>\n",
       "      <th>Confidence</th>\n",
       "      <th>Efforts</th>\n",
       "    </tr>\n",
       "  </thead>\n",
       "  <tbody>\n",
       "    <tr>\n",
       "      <th>0</th>\n",
       "      <td>Добавить два новых канала привлечения трафика,...</td>\n",
       "      <td>3</td>\n",
       "      <td>10</td>\n",
       "      <td>8</td>\n",
       "      <td>6</td>\n",
       "    </tr>\n",
       "    <tr>\n",
       "      <th>1</th>\n",
       "      <td>Запустить собственную службу доставки, что сок...</td>\n",
       "      <td>2</td>\n",
       "      <td>5</td>\n",
       "      <td>4</td>\n",
       "      <td>10</td>\n",
       "    </tr>\n",
       "    <tr>\n",
       "      <th>2</th>\n",
       "      <td>Добавить блоки рекомендаций товаров на сайт ин...</td>\n",
       "      <td>8</td>\n",
       "      <td>3</td>\n",
       "      <td>7</td>\n",
       "      <td>3</td>\n",
       "    </tr>\n",
       "    <tr>\n",
       "      <th>3</th>\n",
       "      <td>Изменить структура категорий, что увеличит кон...</td>\n",
       "      <td>8</td>\n",
       "      <td>3</td>\n",
       "      <td>3</td>\n",
       "      <td>8</td>\n",
       "    </tr>\n",
       "    <tr>\n",
       "      <th>4</th>\n",
       "      <td>Изменить цвет фона главной страницы, чтобы уве...</td>\n",
       "      <td>3</td>\n",
       "      <td>1</td>\n",
       "      <td>1</td>\n",
       "      <td>1</td>\n",
       "    </tr>\n",
       "    <tr>\n",
       "      <th>5</th>\n",
       "      <td>Добавить страницу отзывов клиентов о магазине,...</td>\n",
       "      <td>3</td>\n",
       "      <td>2</td>\n",
       "      <td>2</td>\n",
       "      <td>3</td>\n",
       "    </tr>\n",
       "    <tr>\n",
       "      <th>6</th>\n",
       "      <td>Показать на главной странице баннеры с актуаль...</td>\n",
       "      <td>5</td>\n",
       "      <td>3</td>\n",
       "      <td>8</td>\n",
       "      <td>3</td>\n",
       "    </tr>\n",
       "    <tr>\n",
       "      <th>7</th>\n",
       "      <td>Добавить форму подписки на все основные страни...</td>\n",
       "      <td>10</td>\n",
       "      <td>7</td>\n",
       "      <td>8</td>\n",
       "      <td>5</td>\n",
       "    </tr>\n",
       "    <tr>\n",
       "      <th>8</th>\n",
       "      <td>Запустить акцию, дающую скидку на товар в день...</td>\n",
       "      <td>1</td>\n",
       "      <td>9</td>\n",
       "      <td>9</td>\n",
       "      <td>5</td>\n",
       "    </tr>\n",
       "  </tbody>\n",
       "</table>\n",
       "</div>"
      ],
      "text/plain": [
       "                                          Hypothesis  Reach  Impact  \\\n",
       "0  Добавить два новых канала привлечения трафика,...      3      10   \n",
       "1  Запустить собственную службу доставки, что сок...      2       5   \n",
       "2  Добавить блоки рекомендаций товаров на сайт ин...      8       3   \n",
       "3  Изменить структура категорий, что увеличит кон...      8       3   \n",
       "4  Изменить цвет фона главной страницы, чтобы уве...      3       1   \n",
       "5  Добавить страницу отзывов клиентов о магазине,...      3       2   \n",
       "6  Показать на главной странице баннеры с актуаль...      5       3   \n",
       "7  Добавить форму подписки на все основные страни...     10       7   \n",
       "8  Запустить акцию, дающую скидку на товар в день...      1       9   \n",
       "\n",
       "   Confidence  Efforts  \n",
       "0           8        6  \n",
       "1           4       10  \n",
       "2           7        3  \n",
       "3           3        8  \n",
       "4           1        1  \n",
       "5           2        3  \n",
       "6           8        3  \n",
       "7           8        5  \n",
       "8           9        5  "
      ]
     },
     "execution_count": 5,
     "metadata": {},
     "output_type": "execute_result"
    }
   ],
   "source": [
    "hypothesis"
   ]
  },
  {
   "cell_type": "code",
   "execution_count": 6,
   "metadata": {},
   "outputs": [],
   "source": [
    "hypothesis.columns = [x.lower().replace(' ', '_') for x in hypothesis.columns]"
   ]
  },
  {
   "cell_type": "code",
   "execution_count": 7,
   "metadata": {},
   "outputs": [
    {
     "name": "stdout",
     "output_type": "stream",
     "text": [
      "<class 'pandas.core.frame.DataFrame'>\n",
      "RangeIndex: 9 entries, 0 to 8\n",
      "Data columns (total 5 columns):\n",
      " #   Column      Non-Null Count  Dtype \n",
      "---  ------      --------------  ----- \n",
      " 0   hypothesis  9 non-null      object\n",
      " 1   reach       9 non-null      int64 \n",
      " 2   impact      9 non-null      int64 \n",
      " 3   confidence  9 non-null      int64 \n",
      " 4   efforts     9 non-null      int64 \n",
      "dtypes: int64(4), object(1)\n",
      "memory usage: 488.0+ bytes\n"
     ]
    }
   ],
   "source": [
    "hypothesis.info()"
   ]
  },
  {
   "cell_type": "code",
   "execution_count": 8,
   "metadata": {},
   "outputs": [
    {
     "data": {
      "text/html": [
       "<style  type=\"text/css\" >\n",
       "#T_469b4_row0_col0,#T_469b4_row1_col0,#T_469b4_row2_col0,#T_469b4_row3_col0,#T_469b4_row4_col0{\n",
       "            background-color:  #3b4cc0;\n",
       "            color:  #f1f1f1;\n",
       "        }</style><table id=\"T_469b4_\" ><thead>    <tr>        <th class=\"blank level0\" ></th>        <th class=\"col_heading level0 col0\" >0</th>    </tr></thead><tbody>\n",
       "                <tr>\n",
       "                        <th id=\"T_469b4_level0_row0\" class=\"row_heading level0 row0\" >transactionId</th>\n",
       "                        <td id=\"T_469b4_row0_col0\" class=\"data row0 col0\" >0.000000</td>\n",
       "            </tr>\n",
       "            <tr>\n",
       "                        <th id=\"T_469b4_level0_row1\" class=\"row_heading level0 row1\" >visitorId</th>\n",
       "                        <td id=\"T_469b4_row1_col0\" class=\"data row1 col0\" >0.000000</td>\n",
       "            </tr>\n",
       "            <tr>\n",
       "                        <th id=\"T_469b4_level0_row2\" class=\"row_heading level0 row2\" >date</th>\n",
       "                        <td id=\"T_469b4_row2_col0\" class=\"data row2 col0\" >0.000000</td>\n",
       "            </tr>\n",
       "            <tr>\n",
       "                        <th id=\"T_469b4_level0_row3\" class=\"row_heading level0 row3\" >revenue</th>\n",
       "                        <td id=\"T_469b4_row3_col0\" class=\"data row3 col0\" >0.000000</td>\n",
       "            </tr>\n",
       "            <tr>\n",
       "                        <th id=\"T_469b4_level0_row4\" class=\"row_heading level0 row4\" >group</th>\n",
       "                        <td id=\"T_469b4_row4_col0\" class=\"data row4 col0\" >0.000000</td>\n",
       "            </tr>\n",
       "    </tbody></table>"
      ],
      "text/plain": [
       "<pandas.io.formats.style.Styler at 0x1b8cfc7d790>"
      ]
     },
     "execution_count": 8,
     "metadata": {},
     "output_type": "execute_result"
    }
   ],
   "source": [
    "pd.DataFrame(round(orders.isna().mean()*100,)).style.background_gradient('coolwarm')"
   ]
  },
  {
   "cell_type": "code",
   "execution_count": 9,
   "metadata": {},
   "outputs": [
    {
     "name": "stdout",
     "output_type": "stream",
     "text": [
      "<class 'pandas.core.frame.DataFrame'>\n",
      "RangeIndex: 1197 entries, 0 to 1196\n",
      "Data columns (total 5 columns):\n",
      " #   Column         Non-Null Count  Dtype \n",
      "---  ------         --------------  ----- \n",
      " 0   transactionId  1197 non-null   int64 \n",
      " 1   visitorId      1197 non-null   int64 \n",
      " 2   date           1197 non-null   object\n",
      " 3   revenue        1197 non-null   int64 \n",
      " 4   group          1197 non-null   object\n",
      "dtypes: int64(3), object(2)\n",
      "memory usage: 46.9+ KB\n"
     ]
    }
   ],
   "source": [
    "orders.info()"
   ]
  },
  {
   "cell_type": "code",
   "execution_count": 10,
   "metadata": {},
   "outputs": [
    {
     "data": {
      "text/html": [
       "<div>\n",
       "<style scoped>\n",
       "    .dataframe tbody tr th:only-of-type {\n",
       "        vertical-align: middle;\n",
       "    }\n",
       "\n",
       "    .dataframe tbody tr th {\n",
       "        vertical-align: top;\n",
       "    }\n",
       "\n",
       "    .dataframe thead th {\n",
       "        text-align: right;\n",
       "    }\n",
       "</style>\n",
       "<table border=\"1\" class=\"dataframe\">\n",
       "  <thead>\n",
       "    <tr style=\"text-align: right;\">\n",
       "      <th></th>\n",
       "      <th>transactionId</th>\n",
       "      <th>visitorId</th>\n",
       "      <th>date</th>\n",
       "      <th>revenue</th>\n",
       "      <th>group</th>\n",
       "    </tr>\n",
       "  </thead>\n",
       "  <tbody>\n",
       "    <tr>\n",
       "      <th>0</th>\n",
       "      <td>3667963787</td>\n",
       "      <td>3312258926</td>\n",
       "      <td>2019-08-15</td>\n",
       "      <td>1650</td>\n",
       "      <td>B</td>\n",
       "    </tr>\n",
       "    <tr>\n",
       "      <th>1</th>\n",
       "      <td>2804400009</td>\n",
       "      <td>3642806036</td>\n",
       "      <td>2019-08-15</td>\n",
       "      <td>730</td>\n",
       "      <td>B</td>\n",
       "    </tr>\n",
       "    <tr>\n",
       "      <th>2</th>\n",
       "      <td>2961555356</td>\n",
       "      <td>4069496402</td>\n",
       "      <td>2019-08-15</td>\n",
       "      <td>400</td>\n",
       "      <td>A</td>\n",
       "    </tr>\n",
       "    <tr>\n",
       "      <th>3</th>\n",
       "      <td>3797467345</td>\n",
       "      <td>1196621759</td>\n",
       "      <td>2019-08-15</td>\n",
       "      <td>9759</td>\n",
       "      <td>B</td>\n",
       "    </tr>\n",
       "    <tr>\n",
       "      <th>4</th>\n",
       "      <td>2282983706</td>\n",
       "      <td>2322279887</td>\n",
       "      <td>2019-08-15</td>\n",
       "      <td>2308</td>\n",
       "      <td>B</td>\n",
       "    </tr>\n",
       "    <tr>\n",
       "      <th>...</th>\n",
       "      <td>...</td>\n",
       "      <td>...</td>\n",
       "      <td>...</td>\n",
       "      <td>...</td>\n",
       "      <td>...</td>\n",
       "    </tr>\n",
       "    <tr>\n",
       "      <th>1192</th>\n",
       "      <td>2662137336</td>\n",
       "      <td>3733762160</td>\n",
       "      <td>2019-08-14</td>\n",
       "      <td>6490</td>\n",
       "      <td>B</td>\n",
       "    </tr>\n",
       "    <tr>\n",
       "      <th>1193</th>\n",
       "      <td>2203539145</td>\n",
       "      <td>370388673</td>\n",
       "      <td>2019-08-14</td>\n",
       "      <td>3190</td>\n",
       "      <td>A</td>\n",
       "    </tr>\n",
       "    <tr>\n",
       "      <th>1194</th>\n",
       "      <td>1807773912</td>\n",
       "      <td>573423106</td>\n",
       "      <td>2019-08-14</td>\n",
       "      <td>10550</td>\n",
       "      <td>A</td>\n",
       "    </tr>\n",
       "    <tr>\n",
       "      <th>1195</th>\n",
       "      <td>1947021204</td>\n",
       "      <td>1614305549</td>\n",
       "      <td>2019-08-14</td>\n",
       "      <td>100</td>\n",
       "      <td>A</td>\n",
       "    </tr>\n",
       "    <tr>\n",
       "      <th>1196</th>\n",
       "      <td>3936777065</td>\n",
       "      <td>2108080724</td>\n",
       "      <td>2019-08-15</td>\n",
       "      <td>202740</td>\n",
       "      <td>B</td>\n",
       "    </tr>\n",
       "  </tbody>\n",
       "</table>\n",
       "<p>1197 rows × 5 columns</p>\n",
       "</div>"
      ],
      "text/plain": [
       "      transactionId   visitorId        date  revenue group\n",
       "0        3667963787  3312258926  2019-08-15     1650     B\n",
       "1        2804400009  3642806036  2019-08-15      730     B\n",
       "2        2961555356  4069496402  2019-08-15      400     A\n",
       "3        3797467345  1196621759  2019-08-15     9759     B\n",
       "4        2282983706  2322279887  2019-08-15     2308     B\n",
       "...             ...         ...         ...      ...   ...\n",
       "1192     2662137336  3733762160  2019-08-14     6490     B\n",
       "1193     2203539145   370388673  2019-08-14     3190     A\n",
       "1194     1807773912   573423106  2019-08-14    10550     A\n",
       "1195     1947021204  1614305549  2019-08-14      100     A\n",
       "1196     3936777065  2108080724  2019-08-15   202740     B\n",
       "\n",
       "[1197 rows x 5 columns]"
      ]
     },
     "execution_count": 10,
     "metadata": {},
     "output_type": "execute_result"
    }
   ],
   "source": [
    "orders"
   ]
  },
  {
   "cell_type": "code",
   "execution_count": 11,
   "metadata": {},
   "outputs": [],
   "source": [
    "orders.columns = [x.lower().replace(' ', '_') for x in orders.columns]"
   ]
  },
  {
   "cell_type": "code",
   "execution_count": 12,
   "metadata": {},
   "outputs": [],
   "source": [
    "orders.columns = ['transaction_id','visitor_id', 'date','revenue','group']"
   ]
  },
  {
   "cell_type": "code",
   "execution_count": 13,
   "metadata": {},
   "outputs": [],
   "source": [
    "orders['date'] = pd.to_datetime(orders['date'])"
   ]
  },
  {
   "cell_type": "code",
   "execution_count": 14,
   "metadata": {},
   "outputs": [
    {
     "data": {
      "text/html": [
       "<style  type=\"text/css\" >\n",
       "#T_ab993_row0_col0,#T_ab993_row1_col0,#T_ab993_row2_col0{\n",
       "            background-color:  #3b4cc0;\n",
       "            color:  #f1f1f1;\n",
       "        }</style><table id=\"T_ab993_\" ><thead>    <tr>        <th class=\"blank level0\" ></th>        <th class=\"col_heading level0 col0\" >0</th>    </tr></thead><tbody>\n",
       "                <tr>\n",
       "                        <th id=\"T_ab993_level0_row0\" class=\"row_heading level0 row0\" >date</th>\n",
       "                        <td id=\"T_ab993_row0_col0\" class=\"data row0 col0\" >0.000000</td>\n",
       "            </tr>\n",
       "            <tr>\n",
       "                        <th id=\"T_ab993_level0_row1\" class=\"row_heading level0 row1\" >group</th>\n",
       "                        <td id=\"T_ab993_row1_col0\" class=\"data row1 col0\" >0.000000</td>\n",
       "            </tr>\n",
       "            <tr>\n",
       "                        <th id=\"T_ab993_level0_row2\" class=\"row_heading level0 row2\" >visitors</th>\n",
       "                        <td id=\"T_ab993_row2_col0\" class=\"data row2 col0\" >0.000000</td>\n",
       "            </tr>\n",
       "    </tbody></table>"
      ],
      "text/plain": [
       "<pandas.io.formats.style.Styler at 0x1b8cfce5220>"
      ]
     },
     "execution_count": 14,
     "metadata": {},
     "output_type": "execute_result"
    }
   ],
   "source": [
    "pd.DataFrame(round(visitors.isna().mean()*100,)).style.background_gradient('coolwarm')"
   ]
  },
  {
   "cell_type": "code",
   "execution_count": 15,
   "metadata": {},
   "outputs": [
    {
     "name": "stdout",
     "output_type": "stream",
     "text": [
      "<class 'pandas.core.frame.DataFrame'>\n",
      "RangeIndex: 62 entries, 0 to 61\n",
      "Data columns (total 3 columns):\n",
      " #   Column    Non-Null Count  Dtype \n",
      "---  ------    --------------  ----- \n",
      " 0   date      62 non-null     object\n",
      " 1   group     62 non-null     object\n",
      " 2   visitors  62 non-null     int64 \n",
      "dtypes: int64(1), object(2)\n",
      "memory usage: 1.6+ KB\n"
     ]
    }
   ],
   "source": [
    "visitors.info()"
   ]
  },
  {
   "cell_type": "code",
   "execution_count": 16,
   "metadata": {},
   "outputs": [
    {
     "data": {
      "text/html": [
       "<div>\n",
       "<style scoped>\n",
       "    .dataframe tbody tr th:only-of-type {\n",
       "        vertical-align: middle;\n",
       "    }\n",
       "\n",
       "    .dataframe tbody tr th {\n",
       "        vertical-align: top;\n",
       "    }\n",
       "\n",
       "    .dataframe thead th {\n",
       "        text-align: right;\n",
       "    }\n",
       "</style>\n",
       "<table border=\"1\" class=\"dataframe\">\n",
       "  <thead>\n",
       "    <tr style=\"text-align: right;\">\n",
       "      <th></th>\n",
       "      <th>date</th>\n",
       "      <th>group</th>\n",
       "      <th>visitors</th>\n",
       "    </tr>\n",
       "  </thead>\n",
       "  <tbody>\n",
       "    <tr>\n",
       "      <th>0</th>\n",
       "      <td>2019-08-01</td>\n",
       "      <td>A</td>\n",
       "      <td>719</td>\n",
       "    </tr>\n",
       "    <tr>\n",
       "      <th>1</th>\n",
       "      <td>2019-08-02</td>\n",
       "      <td>A</td>\n",
       "      <td>619</td>\n",
       "    </tr>\n",
       "    <tr>\n",
       "      <th>2</th>\n",
       "      <td>2019-08-03</td>\n",
       "      <td>A</td>\n",
       "      <td>507</td>\n",
       "    </tr>\n",
       "    <tr>\n",
       "      <th>3</th>\n",
       "      <td>2019-08-04</td>\n",
       "      <td>A</td>\n",
       "      <td>717</td>\n",
       "    </tr>\n",
       "    <tr>\n",
       "      <th>4</th>\n",
       "      <td>2019-08-05</td>\n",
       "      <td>A</td>\n",
       "      <td>756</td>\n",
       "    </tr>\n",
       "    <tr>\n",
       "      <th>...</th>\n",
       "      <td>...</td>\n",
       "      <td>...</td>\n",
       "      <td>...</td>\n",
       "    </tr>\n",
       "    <tr>\n",
       "      <th>57</th>\n",
       "      <td>2019-08-27</td>\n",
       "      <td>B</td>\n",
       "      <td>720</td>\n",
       "    </tr>\n",
       "    <tr>\n",
       "      <th>58</th>\n",
       "      <td>2019-08-28</td>\n",
       "      <td>B</td>\n",
       "      <td>654</td>\n",
       "    </tr>\n",
       "    <tr>\n",
       "      <th>59</th>\n",
       "      <td>2019-08-29</td>\n",
       "      <td>B</td>\n",
       "      <td>531</td>\n",
       "    </tr>\n",
       "    <tr>\n",
       "      <th>60</th>\n",
       "      <td>2019-08-30</td>\n",
       "      <td>B</td>\n",
       "      <td>490</td>\n",
       "    </tr>\n",
       "    <tr>\n",
       "      <th>61</th>\n",
       "      <td>2019-08-31</td>\n",
       "      <td>B</td>\n",
       "      <td>718</td>\n",
       "    </tr>\n",
       "  </tbody>\n",
       "</table>\n",
       "<p>62 rows × 3 columns</p>\n",
       "</div>"
      ],
      "text/plain": [
       "          date group  visitors\n",
       "0   2019-08-01     A       719\n",
       "1   2019-08-02     A       619\n",
       "2   2019-08-03     A       507\n",
       "3   2019-08-04     A       717\n",
       "4   2019-08-05     A       756\n",
       "..         ...   ...       ...\n",
       "57  2019-08-27     B       720\n",
       "58  2019-08-28     B       654\n",
       "59  2019-08-29     B       531\n",
       "60  2019-08-30     B       490\n",
       "61  2019-08-31     B       718\n",
       "\n",
       "[62 rows x 3 columns]"
      ]
     },
     "execution_count": 16,
     "metadata": {},
     "output_type": "execute_result"
    }
   ],
   "source": [
    "visitors"
   ]
  },
  {
   "cell_type": "code",
   "execution_count": 17,
   "metadata": {},
   "outputs": [],
   "source": [
    "visitors['date'] = pd.to_datetime(visitors['date'])"
   ]
  },
  {
   "cell_type": "code",
   "execution_count": 18,
   "metadata": {},
   "outputs": [
    {
     "data": {
      "text/plain": [
       "0"
      ]
     },
     "execution_count": 18,
     "metadata": {},
     "output_type": "execute_result"
    }
   ],
   "source": [
    "hypothesis.duplicated().sum()\n",
    "orders.duplicated().sum()\n",
    "visitors.duplicated().sum()"
   ]
  },
  {
   "cell_type": "markdown",
   "metadata": {},
   "source": [
    "<strong> Мы выполнили предобработку данных: <strong>\n",
    "1. <em> Столбцы приведены к нижнему регистру, пропуски между словами в названии убраны; <em>\n",
    "2. <em> Столбец `date` преобразован к нужному типу данных; <em>\n",
    "3. <em> Дубликатов и пропусков нет. <em>"
   ]
  },
  {
   "cell_type": "markdown",
   "metadata": {},
   "source": [
    "### Приоритезация гипотез"
   ]
  },
  {
   "cell_type": "markdown",
   "metadata": {},
   "source": [
    "#### ICE"
   ]
  },
  {
   "cell_type": "code",
   "execution_count": 19,
   "metadata": {},
   "outputs": [],
   "source": [
    "hypothesis['ICE'] = hypothesis['impact'] * hypothesis['confidence'] / hypothesis['efforts']"
   ]
  },
  {
   "cell_type": "code",
   "execution_count": 20,
   "metadata": {},
   "outputs": [],
   "source": [
    "pd.set_option('display.max_columns', None)"
   ]
  },
  {
   "cell_type": "code",
   "execution_count": 21,
   "metadata": {},
   "outputs": [
    {
     "data": {
      "text/html": [
       "<div>\n",
       "<style scoped>\n",
       "    .dataframe tbody tr th:only-of-type {\n",
       "        vertical-align: middle;\n",
       "    }\n",
       "\n",
       "    .dataframe tbody tr th {\n",
       "        vertical-align: top;\n",
       "    }\n",
       "\n",
       "    .dataframe thead th {\n",
       "        text-align: right;\n",
       "    }\n",
       "</style>\n",
       "<table border=\"1\" class=\"dataframe\">\n",
       "  <thead>\n",
       "    <tr style=\"text-align: right;\">\n",
       "      <th></th>\n",
       "      <th>hypothesis</th>\n",
       "      <th>reach</th>\n",
       "      <th>impact</th>\n",
       "      <th>confidence</th>\n",
       "      <th>efforts</th>\n",
       "      <th>ICE</th>\n",
       "    </tr>\n",
       "  </thead>\n",
       "  <tbody>\n",
       "    <tr>\n",
       "      <th>8</th>\n",
       "      <td>Запустить акцию, дающую скидку на товар в день рождения</td>\n",
       "      <td>1</td>\n",
       "      <td>9</td>\n",
       "      <td>9</td>\n",
       "      <td>5</td>\n",
       "      <td>16.200000</td>\n",
       "    </tr>\n",
       "    <tr>\n",
       "      <th>0</th>\n",
       "      <td>Добавить два новых канала привлечения трафика, что позволит привлекать на 30% больше пользователей</td>\n",
       "      <td>3</td>\n",
       "      <td>10</td>\n",
       "      <td>8</td>\n",
       "      <td>6</td>\n",
       "      <td>13.333333</td>\n",
       "    </tr>\n",
       "    <tr>\n",
       "      <th>7</th>\n",
       "      <td>Добавить форму подписки на все основные страницы, чтобы собрать базу клиентов для email-рассылок</td>\n",
       "      <td>10</td>\n",
       "      <td>7</td>\n",
       "      <td>8</td>\n",
       "      <td>5</td>\n",
       "      <td>11.200000</td>\n",
       "    </tr>\n",
       "    <tr>\n",
       "      <th>6</th>\n",
       "      <td>Показать на главной странице баннеры с актуальными акциями и распродажами, чтобы увеличить конверсию</td>\n",
       "      <td>5</td>\n",
       "      <td>3</td>\n",
       "      <td>8</td>\n",
       "      <td>3</td>\n",
       "      <td>8.000000</td>\n",
       "    </tr>\n",
       "    <tr>\n",
       "      <th>2</th>\n",
       "      <td>Добавить блоки рекомендаций товаров на сайт интернет магазина, чтобы повысить конверсию и средний чек заказа</td>\n",
       "      <td>8</td>\n",
       "      <td>3</td>\n",
       "      <td>7</td>\n",
       "      <td>3</td>\n",
       "      <td>7.000000</td>\n",
       "    </tr>\n",
       "    <tr>\n",
       "      <th>1</th>\n",
       "      <td>Запустить собственную службу доставки, что сократит срок доставки заказов</td>\n",
       "      <td>2</td>\n",
       "      <td>5</td>\n",
       "      <td>4</td>\n",
       "      <td>10</td>\n",
       "      <td>2.000000</td>\n",
       "    </tr>\n",
       "    <tr>\n",
       "      <th>5</th>\n",
       "      <td>Добавить страницу отзывов клиентов о магазине, что позволит увеличить количество заказов</td>\n",
       "      <td>3</td>\n",
       "      <td>2</td>\n",
       "      <td>2</td>\n",
       "      <td>3</td>\n",
       "      <td>1.333333</td>\n",
       "    </tr>\n",
       "    <tr>\n",
       "      <th>3</th>\n",
       "      <td>Изменить структура категорий, что увеличит конверсию, т.к. пользователи быстрее найдут нужный товар</td>\n",
       "      <td>8</td>\n",
       "      <td>3</td>\n",
       "      <td>3</td>\n",
       "      <td>8</td>\n",
       "      <td>1.125000</td>\n",
       "    </tr>\n",
       "    <tr>\n",
       "      <th>4</th>\n",
       "      <td>Изменить цвет фона главной страницы, чтобы увеличить вовлеченность пользователей</td>\n",
       "      <td>3</td>\n",
       "      <td>1</td>\n",
       "      <td>1</td>\n",
       "      <td>1</td>\n",
       "      <td>1.000000</td>\n",
       "    </tr>\n",
       "  </tbody>\n",
       "</table>\n",
       "</div>"
      ],
      "text/plain": [
       "                                                                                                     hypothesis  \\\n",
       "8                                                       Запустить акцию, дающую скидку на товар в день рождения   \n",
       "0            Добавить два новых канала привлечения трафика, что позволит привлекать на 30% больше пользователей   \n",
       "7              Добавить форму подписки на все основные страницы, чтобы собрать базу клиентов для email-рассылок   \n",
       "6          Показать на главной странице баннеры с актуальными акциями и распродажами, чтобы увеличить конверсию   \n",
       "2  Добавить блоки рекомендаций товаров на сайт интернет магазина, чтобы повысить конверсию и средний чек заказа   \n",
       "1                                     Запустить собственную службу доставки, что сократит срок доставки заказов   \n",
       "5                      Добавить страницу отзывов клиентов о магазине, что позволит увеличить количество заказов   \n",
       "3           Изменить структура категорий, что увеличит конверсию, т.к. пользователи быстрее найдут нужный товар   \n",
       "4                              Изменить цвет фона главной страницы, чтобы увеличить вовлеченность пользователей   \n",
       "\n",
       "   reach  impact  confidence  efforts        ICE  \n",
       "8      1       9           9        5  16.200000  \n",
       "0      3      10           8        6  13.333333  \n",
       "7     10       7           8        5  11.200000  \n",
       "6      5       3           8        3   8.000000  \n",
       "2      8       3           7        3   7.000000  \n",
       "1      2       5           4       10   2.000000  \n",
       "5      3       2           2        3   1.333333  \n",
       "3      8       3           3        8   1.125000  \n",
       "4      3       1           1        1   1.000000  "
      ]
     },
     "execution_count": 21,
     "metadata": {},
     "output_type": "execute_result"
    }
   ],
   "source": [
    "pd.options.display.max_colwidth = 150 \n",
    "hypothesis.sort_values(by = 'ICE', ascending=False)"
   ]
  },
  {
   "cell_type": "markdown",
   "metadata": {},
   "source": [
    "#### RICE"
   ]
  },
  {
   "cell_type": "code",
   "execution_count": 22,
   "metadata": {},
   "outputs": [],
   "source": [
    "hypothesis['RICE'] = hypothesis['reach'] * hypothesis['impact'] * hypothesis['confidence'] / hypothesis['efforts']"
   ]
  },
  {
   "cell_type": "code",
   "execution_count": 23,
   "metadata": {},
   "outputs": [
    {
     "data": {
      "text/html": [
       "<style  type=\"text/css\" >\n",
       "#T_4294f_row0_col5{\n",
       "            background-color:  #e22e27;\n",
       "            color:  #f1f1f1;\n",
       "        }#T_4294f_row0_col6,#T_4294f_row4_col5{\n",
       "            background-color:  #67000d;\n",
       "            color:  #f1f1f1;\n",
       "        }#T_4294f_row1_col5{\n",
       "            background-color:  #fc8b6b;\n",
       "            color:  #000000;\n",
       "        }#T_4294f_row1_col6{\n",
       "            background-color:  #fb6e4e;\n",
       "            color:  #000000;\n",
       "        }#T_4294f_row2_col5{\n",
       "            background-color:  #b81419;\n",
       "            color:  #f1f1f1;\n",
       "        }#T_4294f_row2_col6,#T_4294f_row3_col6{\n",
       "            background-color:  #fc9e80;\n",
       "            color:  #000000;\n",
       "        }#T_4294f_row3_col5{\n",
       "            background-color:  #fb7757;\n",
       "            color:  #000000;\n",
       "        }#T_4294f_row4_col6{\n",
       "            background-color:  #fee1d3;\n",
       "            color:  #000000;\n",
       "        }#T_4294f_row5_col5,#T_4294f_row6_col6,#T_4294f_row7_col6{\n",
       "            background-color:  #fff4ee;\n",
       "            color:  #000000;\n",
       "        }#T_4294f_row5_col6{\n",
       "            background-color:  #ffece3;\n",
       "            color:  #000000;\n",
       "        }#T_4294f_row6_col5{\n",
       "            background-color:  #feeae1;\n",
       "            color:  #000000;\n",
       "        }#T_4294f_row7_col5{\n",
       "            background-color:  #fff2eb;\n",
       "            color:  #000000;\n",
       "        }#T_4294f_row8_col5,#T_4294f_row8_col6{\n",
       "            background-color:  #fff5f0;\n",
       "            color:  #000000;\n",
       "        }</style><table id=\"T_4294f_\" ><thead>    <tr>        <th class=\"blank level0\" ></th>        <th class=\"col_heading level0 col0\" >hypothesis</th>        <th class=\"col_heading level0 col1\" >reach</th>        <th class=\"col_heading level0 col2\" >impact</th>        <th class=\"col_heading level0 col3\" >confidence</th>        <th class=\"col_heading level0 col4\" >efforts</th>        <th class=\"col_heading level0 col5\" >ICE</th>        <th class=\"col_heading level0 col6\" >RICE</th>    </tr></thead><tbody>\n",
       "                <tr>\n",
       "                        <th id=\"T_4294f_level0_row0\" class=\"row_heading level0 row0\" >7</th>\n",
       "                        <td id=\"T_4294f_row0_col0\" class=\"data row0 col0\" >Добавить форму подписки на все основные страницы, чтобы собрать базу клиентов для email-рассылок</td>\n",
       "                        <td id=\"T_4294f_row0_col1\" class=\"data row0 col1\" >10</td>\n",
       "                        <td id=\"T_4294f_row0_col2\" class=\"data row0 col2\" >7</td>\n",
       "                        <td id=\"T_4294f_row0_col3\" class=\"data row0 col3\" >8</td>\n",
       "                        <td id=\"T_4294f_row0_col4\" class=\"data row0 col4\" >5</td>\n",
       "                        <td id=\"T_4294f_row0_col5\" class=\"data row0 col5\" >11.200000</td>\n",
       "                        <td id=\"T_4294f_row0_col6\" class=\"data row0 col6\" >112.000000</td>\n",
       "            </tr>\n",
       "            <tr>\n",
       "                        <th id=\"T_4294f_level0_row1\" class=\"row_heading level0 row1\" >2</th>\n",
       "                        <td id=\"T_4294f_row1_col0\" class=\"data row1 col0\" >Добавить блоки рекомендаций товаров на сайт интернет магазина, чтобы повысить конверсию и средний чек заказа</td>\n",
       "                        <td id=\"T_4294f_row1_col1\" class=\"data row1 col1\" >8</td>\n",
       "                        <td id=\"T_4294f_row1_col2\" class=\"data row1 col2\" >3</td>\n",
       "                        <td id=\"T_4294f_row1_col3\" class=\"data row1 col3\" >7</td>\n",
       "                        <td id=\"T_4294f_row1_col4\" class=\"data row1 col4\" >3</td>\n",
       "                        <td id=\"T_4294f_row1_col5\" class=\"data row1 col5\" >7.000000</td>\n",
       "                        <td id=\"T_4294f_row1_col6\" class=\"data row1 col6\" >56.000000</td>\n",
       "            </tr>\n",
       "            <tr>\n",
       "                        <th id=\"T_4294f_level0_row2\" class=\"row_heading level0 row2\" >0</th>\n",
       "                        <td id=\"T_4294f_row2_col0\" class=\"data row2 col0\" >Добавить два новых канала привлечения трафика, что позволит привлекать на 30% больше пользователей</td>\n",
       "                        <td id=\"T_4294f_row2_col1\" class=\"data row2 col1\" >3</td>\n",
       "                        <td id=\"T_4294f_row2_col2\" class=\"data row2 col2\" >10</td>\n",
       "                        <td id=\"T_4294f_row2_col3\" class=\"data row2 col3\" >8</td>\n",
       "                        <td id=\"T_4294f_row2_col4\" class=\"data row2 col4\" >6</td>\n",
       "                        <td id=\"T_4294f_row2_col5\" class=\"data row2 col5\" >13.333333</td>\n",
       "                        <td id=\"T_4294f_row2_col6\" class=\"data row2 col6\" >40.000000</td>\n",
       "            </tr>\n",
       "            <tr>\n",
       "                        <th id=\"T_4294f_level0_row3\" class=\"row_heading level0 row3\" >6</th>\n",
       "                        <td id=\"T_4294f_row3_col0\" class=\"data row3 col0\" >Показать на главной странице баннеры с актуальными акциями и распродажами, чтобы увеличить конверсию</td>\n",
       "                        <td id=\"T_4294f_row3_col1\" class=\"data row3 col1\" >5</td>\n",
       "                        <td id=\"T_4294f_row3_col2\" class=\"data row3 col2\" >3</td>\n",
       "                        <td id=\"T_4294f_row3_col3\" class=\"data row3 col3\" >8</td>\n",
       "                        <td id=\"T_4294f_row3_col4\" class=\"data row3 col4\" >3</td>\n",
       "                        <td id=\"T_4294f_row3_col5\" class=\"data row3 col5\" >8.000000</td>\n",
       "                        <td id=\"T_4294f_row3_col6\" class=\"data row3 col6\" >40.000000</td>\n",
       "            </tr>\n",
       "            <tr>\n",
       "                        <th id=\"T_4294f_level0_row4\" class=\"row_heading level0 row4\" >8</th>\n",
       "                        <td id=\"T_4294f_row4_col0\" class=\"data row4 col0\" >Запустить акцию, дающую скидку на товар в день рождения</td>\n",
       "                        <td id=\"T_4294f_row4_col1\" class=\"data row4 col1\" >1</td>\n",
       "                        <td id=\"T_4294f_row4_col2\" class=\"data row4 col2\" >9</td>\n",
       "                        <td id=\"T_4294f_row4_col3\" class=\"data row4 col3\" >9</td>\n",
       "                        <td id=\"T_4294f_row4_col4\" class=\"data row4 col4\" >5</td>\n",
       "                        <td id=\"T_4294f_row4_col5\" class=\"data row4 col5\" >16.200000</td>\n",
       "                        <td id=\"T_4294f_row4_col6\" class=\"data row4 col6\" >16.200000</td>\n",
       "            </tr>\n",
       "            <tr>\n",
       "                        <th id=\"T_4294f_level0_row5\" class=\"row_heading level0 row5\" >3</th>\n",
       "                        <td id=\"T_4294f_row5_col0\" class=\"data row5 col0\" >Изменить структура категорий, что увеличит конверсию, т.к. пользователи быстрее найдут нужный товар</td>\n",
       "                        <td id=\"T_4294f_row5_col1\" class=\"data row5 col1\" >8</td>\n",
       "                        <td id=\"T_4294f_row5_col2\" class=\"data row5 col2\" >3</td>\n",
       "                        <td id=\"T_4294f_row5_col3\" class=\"data row5 col3\" >3</td>\n",
       "                        <td id=\"T_4294f_row5_col4\" class=\"data row5 col4\" >8</td>\n",
       "                        <td id=\"T_4294f_row5_col5\" class=\"data row5 col5\" >1.125000</td>\n",
       "                        <td id=\"T_4294f_row5_col6\" class=\"data row5 col6\" >9.000000</td>\n",
       "            </tr>\n",
       "            <tr>\n",
       "                        <th id=\"T_4294f_level0_row6\" class=\"row_heading level0 row6\" >1</th>\n",
       "                        <td id=\"T_4294f_row6_col0\" class=\"data row6 col0\" >Запустить собственную службу доставки, что сократит срок доставки заказов</td>\n",
       "                        <td id=\"T_4294f_row6_col1\" class=\"data row6 col1\" >2</td>\n",
       "                        <td id=\"T_4294f_row6_col2\" class=\"data row6 col2\" >5</td>\n",
       "                        <td id=\"T_4294f_row6_col3\" class=\"data row6 col3\" >4</td>\n",
       "                        <td id=\"T_4294f_row6_col4\" class=\"data row6 col4\" >10</td>\n",
       "                        <td id=\"T_4294f_row6_col5\" class=\"data row6 col5\" >2.000000</td>\n",
       "                        <td id=\"T_4294f_row6_col6\" class=\"data row6 col6\" >4.000000</td>\n",
       "            </tr>\n",
       "            <tr>\n",
       "                        <th id=\"T_4294f_level0_row7\" class=\"row_heading level0 row7\" >5</th>\n",
       "                        <td id=\"T_4294f_row7_col0\" class=\"data row7 col0\" >Добавить страницу отзывов клиентов о магазине, что позволит увеличить количество заказов</td>\n",
       "                        <td id=\"T_4294f_row7_col1\" class=\"data row7 col1\" >3</td>\n",
       "                        <td id=\"T_4294f_row7_col2\" class=\"data row7 col2\" >2</td>\n",
       "                        <td id=\"T_4294f_row7_col3\" class=\"data row7 col3\" >2</td>\n",
       "                        <td id=\"T_4294f_row7_col4\" class=\"data row7 col4\" >3</td>\n",
       "                        <td id=\"T_4294f_row7_col5\" class=\"data row7 col5\" >1.333333</td>\n",
       "                        <td id=\"T_4294f_row7_col6\" class=\"data row7 col6\" >4.000000</td>\n",
       "            </tr>\n",
       "            <tr>\n",
       "                        <th id=\"T_4294f_level0_row8\" class=\"row_heading level0 row8\" >4</th>\n",
       "                        <td id=\"T_4294f_row8_col0\" class=\"data row8 col0\" >Изменить цвет фона главной страницы, чтобы увеличить вовлеченность пользователей</td>\n",
       "                        <td id=\"T_4294f_row8_col1\" class=\"data row8 col1\" >3</td>\n",
       "                        <td id=\"T_4294f_row8_col2\" class=\"data row8 col2\" >1</td>\n",
       "                        <td id=\"T_4294f_row8_col3\" class=\"data row8 col3\" >1</td>\n",
       "                        <td id=\"T_4294f_row8_col4\" class=\"data row8 col4\" >1</td>\n",
       "                        <td id=\"T_4294f_row8_col5\" class=\"data row8 col5\" >1.000000</td>\n",
       "                        <td id=\"T_4294f_row8_col6\" class=\"data row8 col6\" >3.000000</td>\n",
       "            </tr>\n",
       "    </tbody></table>"
      ],
      "text/plain": [
       "<pandas.io.formats.style.Styler at 0x1b8cfd0d280>"
      ]
     },
     "execution_count": 23,
     "metadata": {},
     "output_type": "execute_result"
    }
   ],
   "source": [
    "hypothesis.sort_values('RICE', ascending=False).style.background_gradient(subset = [\"ICE\",\"RICE\"],cmap = \"Reds\")"
   ]
  },
  {
   "cell_type": "markdown",
   "metadata": {},
   "source": [
    "<em> При применение фреймворка RICE гипотеза № 7 стала иметь наибольший приоритет. Причина - наибольший параметр reach (охват пользователей) используемый при расчёте RICE. <em>"
   ]
  },
  {
   "cell_type": "markdown",
   "metadata": {},
   "source": [
    "### Анализ A/B-теста"
   ]
  },
  {
   "cell_type": "code",
   "execution_count": 24,
   "metadata": {},
   "outputs": [
    {
     "name": "stdout",
     "output_type": "stream",
     "text": [
      "['A' 'B']\n"
     ]
    }
   ],
   "source": [
    "print(visitors['group'].unique())"
   ]
  },
  {
   "cell_type": "markdown",
   "metadata": {},
   "source": [
    "<em> Пользователи делятся на 2 группы А И B."
   ]
  },
  {
   "cell_type": "code",
   "execution_count": 25,
   "metadata": {},
   "outputs": [
    {
     "name": "stdout",
     "output_type": "stream",
     "text": [
      "Дата начала теста: 2019-08-01 00:00:00\n",
      "Дата окончания теста: 2019-08-31 00:00:00\n"
     ]
    }
   ],
   "source": [
    "print('Дата начала теста:',visitors['date'].min())\n",
    "print('Дата окончания теста:',visitors['date'].max())"
   ]
  },
  {
   "cell_type": "markdown",
   "metadata": {},
   "source": [
    "<em> Тест проводится в течение августа 2019 года."
   ]
  },
  {
   "cell_type": "code",
   "execution_count": 26,
   "metadata": {},
   "outputs": [
    {
     "name": "stdout",
     "output_type": "stream",
     "text": [
      "Пользователей в группе А: 503\n",
      "Пользователей в группе B: 586\n"
     ]
    }
   ],
   "source": [
    "group_A = orders.query('group == \"A\"')\n",
    "group_B = orders.query('group == \"B\"')\n",
    "print('Пользователей в группе А:', len(group_A['visitor_id'].unique()))\n",
    "print('Пользователей в группе B:', len(group_B['visitor_id'].unique()))"
   ]
  },
  {
   "cell_type": "code",
   "execution_count": 27,
   "metadata": {},
   "outputs": [
    {
     "name": "stdout",
     "output_type": "stream",
     "text": [
      "Пользователей попавших в обе группы: 58\n"
     ]
    }
   ],
   "source": [
    "duplicated_users = orders.groupby('visitor_id').agg({'group': ['nunique', 'unique']})\n",
    "duplicated_users.columns = ['groups', 'group_names']\n",
    "duplicated_users = duplicated_users.query('groups > 1')\n",
    "print('Пользователей попавших в обе группы:', len(duplicated_users))"
   ]
  },
  {
   "cell_type": "markdown",
   "metadata": {},
   "source": [
    "<em> Таких пользователей - 58, это около 10% в каждой группе, учитывая их можно исказить результаты, однако степень различия между группами не превышает 10%. Также мы не можем из разделить на 'платящих' и 'неплатящих'. Оставим данные без изменений."
   ]
  },
  {
   "cell_type": "markdown",
   "metadata": {},
   "source": [
    "#### Расчет кумулятивных метрик"
   ]
  },
  {
   "cell_type": "code",
   "execution_count": 28,
   "metadata": {},
   "outputs": [
    {
     "data": {
      "text/html": [
       "<div>\n",
       "<style scoped>\n",
       "    .dataframe tbody tr th:only-of-type {\n",
       "        vertical-align: middle;\n",
       "    }\n",
       "\n",
       "    .dataframe tbody tr th {\n",
       "        vertical-align: top;\n",
       "    }\n",
       "\n",
       "    .dataframe thead th {\n",
       "        text-align: right;\n",
       "    }\n",
       "</style>\n",
       "<table border=\"1\" class=\"dataframe\">\n",
       "  <thead>\n",
       "    <tr style=\"text-align: right;\">\n",
       "      <th></th>\n",
       "      <th>date</th>\n",
       "      <th>group</th>\n",
       "      <th>orders</th>\n",
       "      <th>buyers</th>\n",
       "      <th>revenue</th>\n",
       "      <th>visitors</th>\n",
       "    </tr>\n",
       "  </thead>\n",
       "  <tbody>\n",
       "    <tr>\n",
       "      <th>0</th>\n",
       "      <td>2019-08-01</td>\n",
       "      <td>A</td>\n",
       "      <td>24</td>\n",
       "      <td>20</td>\n",
       "      <td>148579</td>\n",
       "      <td>719</td>\n",
       "    </tr>\n",
       "    <tr>\n",
       "      <th>1</th>\n",
       "      <td>2019-08-01</td>\n",
       "      <td>B</td>\n",
       "      <td>21</td>\n",
       "      <td>20</td>\n",
       "      <td>101217</td>\n",
       "      <td>713</td>\n",
       "    </tr>\n",
       "    <tr>\n",
       "      <th>2</th>\n",
       "      <td>2019-08-02</td>\n",
       "      <td>A</td>\n",
       "      <td>44</td>\n",
       "      <td>38</td>\n",
       "      <td>242401</td>\n",
       "      <td>1338</td>\n",
       "    </tr>\n",
       "    <tr>\n",
       "      <th>3</th>\n",
       "      <td>2019-08-02</td>\n",
       "      <td>B</td>\n",
       "      <td>45</td>\n",
       "      <td>43</td>\n",
       "      <td>266748</td>\n",
       "      <td>1294</td>\n",
       "    </tr>\n",
       "    <tr>\n",
       "      <th>4</th>\n",
       "      <td>2019-08-03</td>\n",
       "      <td>A</td>\n",
       "      <td>68</td>\n",
       "      <td>62</td>\n",
       "      <td>354874</td>\n",
       "      <td>1845</td>\n",
       "    </tr>\n",
       "  </tbody>\n",
       "</table>\n",
       "</div>"
      ],
      "text/plain": [
       "        date group  orders  buyers  revenue  visitors\n",
       "0 2019-08-01     A      24      20   148579       719\n",
       "1 2019-08-01     B      21      20   101217       713\n",
       "2 2019-08-02     A      44      38   242401      1338\n",
       "3 2019-08-02     B      45      43   266748      1294\n",
       "4 2019-08-03     A      68      62   354874      1845"
      ]
     },
     "execution_count": 28,
     "metadata": {},
     "output_type": "execute_result"
    }
   ],
   "source": [
    "datesGroups = orders[['date','group']].drop_duplicates().sort_values(by=['date', 'group'])\n",
    "\n",
    "ordersAggregated = datesGroups.apply(lambda x: orders[np.logical_and(x['date'] >= orders['date'], x['group']==orders['group'])]\\\n",
    ".agg({'date':'max', 'group':'max', 'transaction_id':'nunique', 'visitor_id':'nunique', 'revenue':'sum'}), axis = 1)\n",
    "ordersAggregated.columns = ['date', 'group', 'orders', 'buyers', 'revenue']\n",
    "\n",
    "visitorsAggregated = datesGroups.apply(lambda x: visitors[np.logical_and(x['date'] >= visitors['date'], x['group']==visitors['group'])]\\\n",
    ".agg({'date':'max', 'group':'max', 'visitors':'sum'}), axis = 1)\n",
    "\n",
    "cummulativeData = ordersAggregated.merge(visitorsAggregated, left_on=['date', 'group'], right_on=['date', 'group'])\n",
    "\n",
    "cummulativeData.head()"
   ]
  },
  {
   "cell_type": "markdown",
   "metadata": {},
   "source": [
    "#### График кумулятивной выручки"
   ]
  },
  {
   "cell_type": "code",
   "execution_count": 29,
   "metadata": {},
   "outputs": [
    {
     "data": {
      "image/png": "[encoded data removed]",
      "text/plain": [
       "<Figure size 1000x400 with 1 Axes>"
      ]
     },
     "metadata": {},
     "output_type": "display_data"
    }
   ],
   "source": [
    "cummulativeDataA = cummulativeData[cummulativeData['group']=='A']\n",
    "cummulativeDataB = cummulativeData[cummulativeData['group']=='B']\n",
    "plt.figure(figsize=(10,4))\n",
    "plt.plot(cummulativeDataA['date'], cummulativeDataA['revenue'], label = 'A-revenue', linewidth = 2 , color = 'indigo')\n",
    "plt.plot(cummulativeDataB['date'], cummulativeDataB['revenue'], label = 'B-revenue', linewidth = 2 , color = 'crimson')\n",
    "plt.ylabel('Выручка')\n",
    "plt.xlabel('Дата')\n",
    "plt.title('Кумулятивная выручка групп A и B')\n",
    "plt.legend()\n",
    "plt.grid()\n",
    "plt.show()"
   ]
  },
  {
   "cell_type": "markdown",
   "metadata": {},
   "source": [
    "<em> На графике видно, что при относительно одинаковом старте кривая выручки группы B выше группы А. Также заметен скачок после 2019-08-18 для кривой группы B."
   ]
  },
  {
   "cell_type": "markdown",
   "metadata": {},
   "source": [
    "#### График кумулятивного среднего чека"
   ]
  },
  {
   "cell_type": "code",
   "execution_count": 30,
   "metadata": {},
   "outputs": [
    {
     "data": {
      "image/png": "[encoded data removed]",
      "text/plain": [
       "<Figure size 1000x400 with 1 Axes>"
      ]
     },
     "metadata": {},
     "output_type": "display_data"
    }
   ],
   "source": [
    "plt.figure(figsize=(10,4))\n",
    "plt.plot(cummulativeDataA['date'], cummulativeDataA['revenue']/cummulativeDataA['orders'], label = 'A-average check')\n",
    "plt.plot(cummulativeDataB['date'], cummulativeDataB['revenue']/cummulativeDataB['orders'], label = 'B-average check')\n",
    "plt.title('Кумулятивный средний чек групп A и B')\n",
    "plt.ylabel('Средний чек')\n",
    "plt.xlabel('Дата')\n",
    "plt.legend()\n",
    "plt.grid()\n",
    "plt.show()"
   ]
  },
  {
   "cell_type": "markdown",
   "metadata": {},
   "source": [
    "<em> Кривая группы B также выше практически на всём периоде. Скачок 2019-08-18 аналогичен с графиком выручки."
   ]
  },
  {
   "cell_type": "markdown",
   "metadata": {},
   "source": [
    "#### График относительного изменения кумулятивного среднего чека "
   ]
  },
  {
   "cell_type": "code",
   "execution_count": 31,
   "metadata": {},
   "outputs": [
    {
     "data": {
      "image/png": "[encoded data removed]",
      "text/plain": [
       "<Figure size 1000x400 with 1 Axes>"
      ]
     },
     "metadata": {},
     "output_type": "display_data"
    }
   ],
   "source": [
    "mergedCummulativeData = cummulativeDataA.merge(cummulativeDataB, left_on='date', right_on='date', suffixes=['A', 'B'])\n",
    "plt.figure(figsize=(10,4))\n",
    "plt.plot(mergedCummulativeData['date'], ((mergedCummulativeData['revenueB']/mergedCummulativeData['ordersB'])/\n",
    "                                       (mergedCummulativeData['revenueA']/mergedCummulativeData['ordersA'])-1)\n",
    "        , color = 'orchid')\n",
    "plt.axhline(y=0, color='black', linestyle = '--')\n",
    "plt.title('Относительное изменение кумулятивного среднего чека группы B к группе A')\n",
    "plt.xlabel('Дата')\n",
    "plt.grid()\n",
    "plt.show()"
   ]
  },
  {
   "cell_type": "markdown",
   "metadata": {},
   "source": [
    "<em> Мы видим 2 скачка и 2 падения суммы чека группы B относительно А. Возможно причина в выбросах."
   ]
  },
  {
   "cell_type": "markdown",
   "metadata": {},
   "source": [
    "#### График кумулятивного среднего количества заказов на посетителя по группам"
   ]
  },
  {
   "cell_type": "code",
   "execution_count": 32,
   "metadata": {},
   "outputs": [
    {
     "data": {
      "text/html": [
       "<div>\n",
       "<style scoped>\n",
       "    .dataframe tbody tr th:only-of-type {\n",
       "        vertical-align: middle;\n",
       "    }\n",
       "\n",
       "    .dataframe tbody tr th {\n",
       "        vertical-align: top;\n",
       "    }\n",
       "\n",
       "    .dataframe thead th {\n",
       "        text-align: right;\n",
       "    }\n",
       "</style>\n",
       "<table border=\"1\" class=\"dataframe\">\n",
       "  <thead>\n",
       "    <tr style=\"text-align: right;\">\n",
       "      <th></th>\n",
       "      <th>date</th>\n",
       "      <th>groupA</th>\n",
       "      <th>ordersA</th>\n",
       "      <th>buyersA</th>\n",
       "      <th>revenueA</th>\n",
       "      <th>visitorsA</th>\n",
       "      <th>groupB</th>\n",
       "      <th>ordersB</th>\n",
       "      <th>buyersB</th>\n",
       "      <th>revenueB</th>\n",
       "      <th>visitorsB</th>\n",
       "      <th>averageA</th>\n",
       "      <th>averageB</th>\n",
       "    </tr>\n",
       "  </thead>\n",
       "  <tbody>\n",
       "    <tr>\n",
       "      <th>0</th>\n",
       "      <td>2019-08-01</td>\n",
       "      <td>A</td>\n",
       "      <td>24</td>\n",
       "      <td>20</td>\n",
       "      <td>148579</td>\n",
       "      <td>719</td>\n",
       "      <td>B</td>\n",
       "      <td>21</td>\n",
       "      <td>20</td>\n",
       "      <td>101217</td>\n",
       "      <td>713</td>\n",
       "      <td>0.033380</td>\n",
       "      <td>0.029453</td>\n",
       "    </tr>\n",
       "    <tr>\n",
       "      <th>1</th>\n",
       "      <td>2019-08-02</td>\n",
       "      <td>A</td>\n",
       "      <td>44</td>\n",
       "      <td>38</td>\n",
       "      <td>242401</td>\n",
       "      <td>1338</td>\n",
       "      <td>B</td>\n",
       "      <td>45</td>\n",
       "      <td>43</td>\n",
       "      <td>266748</td>\n",
       "      <td>1294</td>\n",
       "      <td>0.032885</td>\n",
       "      <td>0.034776</td>\n",
       "    </tr>\n",
       "    <tr>\n",
       "      <th>2</th>\n",
       "      <td>2019-08-03</td>\n",
       "      <td>A</td>\n",
       "      <td>68</td>\n",
       "      <td>62</td>\n",
       "      <td>354874</td>\n",
       "      <td>1845</td>\n",
       "      <td>B</td>\n",
       "      <td>61</td>\n",
       "      <td>59</td>\n",
       "      <td>380996</td>\n",
       "      <td>1803</td>\n",
       "      <td>0.036856</td>\n",
       "      <td>0.033833</td>\n",
       "    </tr>\n",
       "    <tr>\n",
       "      <th>3</th>\n",
       "      <td>2019-08-04</td>\n",
       "      <td>A</td>\n",
       "      <td>84</td>\n",
       "      <td>77</td>\n",
       "      <td>425699</td>\n",
       "      <td>2562</td>\n",
       "      <td>B</td>\n",
       "      <td>78</td>\n",
       "      <td>75</td>\n",
       "      <td>489567</td>\n",
       "      <td>2573</td>\n",
       "      <td>0.032787</td>\n",
       "      <td>0.030315</td>\n",
       "    </tr>\n",
       "    <tr>\n",
       "      <th>4</th>\n",
       "      <td>2019-08-05</td>\n",
       "      <td>A</td>\n",
       "      <td>109</td>\n",
       "      <td>100</td>\n",
       "      <td>549917</td>\n",
       "      <td>3318</td>\n",
       "      <td>B</td>\n",
       "      <td>101</td>\n",
       "      <td>98</td>\n",
       "      <td>581995</td>\n",
       "      <td>3280</td>\n",
       "      <td>0.032851</td>\n",
       "      <td>0.030793</td>\n",
       "    </tr>\n",
       "  </tbody>\n",
       "</table>\n",
       "</div>"
      ],
      "text/plain": [
       "        date groupA  ordersA  buyersA  revenueA  visitorsA groupB  ordersB  \\\n",
       "0 2019-08-01      A       24       20    148579        719      B       21   \n",
       "1 2019-08-02      A       44       38    242401       1338      B       45   \n",
       "2 2019-08-03      A       68       62    354874       1845      B       61   \n",
       "3 2019-08-04      A       84       77    425699       2562      B       78   \n",
       "4 2019-08-05      A      109      100    549917       3318      B      101   \n",
       "\n",
       "   buyersB  revenueB  visitorsB  averageA  averageB  \n",
       "0       20    101217        713  0.033380  0.029453  \n",
       "1       43    266748       1294  0.032885  0.034776  \n",
       "2       59    380996       1803  0.036856  0.033833  \n",
       "3       75    489567       2573  0.032787  0.030315  \n",
       "4       98    581995       3280  0.032851  0.030793  "
      ]
     },
     "execution_count": 32,
     "metadata": {},
     "output_type": "execute_result"
    }
   ],
   "source": [
    "mergedCummulativeData['averageA'] =  mergedCummulativeData['ordersA']/mergedCummulativeData['visitorsA']\n",
    "mergedCummulativeData['averageB'] =  mergedCummulativeData['ordersB']/mergedCummulativeData['visitorsB']\n",
    "mergedCummulativeData.head()"
   ]
  },
  {
   "cell_type": "code",
   "execution_count": 33,
   "metadata": {},
   "outputs": [
    {
     "data": {
      "image/png": "[encoded data removed]",
      "text/plain": [
       "<Figure size 1000x400 with 1 Axes>"
      ]
     },
     "metadata": {},
     "output_type": "display_data"
    }
   ],
   "source": [
    "plt.figure(figsize=(10,4))\n",
    "plt.plot(mergedCummulativeData['date'], mergedCummulativeData['averageA'], label='A-average orders', color = 'cyan')\n",
    "plt.plot(mergedCummulativeData['date'], mergedCummulativeData['averageB'], label='B-average orders', color = 'salmon')\n",
    "plt.title('Кумулятивное среднее количество заказов групп A и B')\n",
    "plt.xlabel('Дата')\n",
    "plt.ylabel('Среднее количество заказов')\n",
    "plt.legend()\n",
    "plt.grid()\n",
    "plt.show()"
   ]
  },
  {
   "cell_type": "markdown",
   "metadata": {},
   "source": [
    "<em> Кумулятивное среднее значение заказов группы B на посетителя выше после 1 недели."
   ]
  },
  {
   "cell_type": "markdown",
   "metadata": {},
   "source": [
    "#### График изменения кумулятивного среднего количества заказов"
   ]
  },
  {
   "cell_type": "code",
   "execution_count": 34,
   "metadata": {},
   "outputs": [
    {
     "data": {
      "image/png": "[encoded data removed]",
      "text/plain": [
       "<Figure size 1000x400 with 1 Axes>"
      ]
     },
     "metadata": {},
     "output_type": "display_data"
    }
   ],
   "source": [
    "plt.figure(figsize=(10,4))\n",
    "plt.plot(mergedCummulativeData['date'], ((mergedCummulativeData['averageB']/mergedCummulativeData['averageA'])-1), \n",
    "         color = 'peru')\n",
    "plt.title('Относительное изменение кумулятивного количества заказов группы B к группе A')\n",
    "plt.axhline(y=0, color='black', linestyle='--')\n",
    "plt.axhline(y=0.1, color='black', linestyle='--')\n",
    "plt.xlabel('Дата')\n",
    "plt.show()"
   ]
  },
  {
   "cell_type": "markdown",
   "metadata": {},
   "source": [
    "<em> Среднее число заказов группы B заметно больше группы А на всём периоде после первой недели."
   ]
  },
  {
   "cell_type": "markdown",
   "metadata": {},
   "source": [
    "#### Точечный график количества заказов по пользователям"
   ]
  },
  {
   "cell_type": "code",
   "execution_count": 35,
   "metadata": {},
   "outputs": [
    {
     "data": {
      "image/png": "[encoded data removed]",
      "text/plain": [
       "<Figure size 1000x400 with 1 Axes>"
      ]
     },
     "metadata": {},
     "output_type": "display_data"
    },
    {
     "data": {
      "image/png": "[encoded data removed]",
      "text/plain": [
       "<Figure size 1000x400 with 1 Axes>"
      ]
     },
     "metadata": {},
     "output_type": "display_data"
    }
   ],
   "source": [
    "ordersByUsers = orders.groupby('visitor_id', as_index = False).agg({'transaction_id':'nunique'}).sort_values(by='transaction_id', ascending = False)\n",
    "ordersByUsers.columns = ['visitor_id', 'orders']\n",
    "plt.figure(figsize=(10,4))\n",
    "plt.hist(ordersByUsers['orders'] , histtype='stepfilled', color='midnightblue')\n",
    "plt.xlabel('Число заказов')\n",
    "plt.title('Гистрограмма распределения количества заказов на одного пользователя')\n",
    "plt.show()\n",
    "x_values = pd.Series(range(0, len(ordersByUsers)))\n",
    "plt.figure(figsize=(10,4))\n",
    "plt.scatter(x_values, ordersByUsers['orders'] , linewidths = 2,\n",
    "            marker =\"s\", color = 'deeppink')\n",
    "plt.title('Точечная диаграмма числа заказов на одного пользователя')\n",
    "plt.ylabel('Число заказов')\n",
    "plt.show()"
   ]
  },
  {
   "cell_type": "markdown",
   "metadata": {},
   "source": [
    "<em> Число заказов большинства пользователей не превышает 2."
   ]
  },
  {
   "cell_type": "markdown",
   "metadata": {},
   "source": [
    "#### 95-й и 99-й перцентили количества заказов на пользователя. Граница для определения аномальных пользователей"
   ]
  },
  {
   "cell_type": "code",
   "execution_count": 36,
   "metadata": {},
   "outputs": [
    {
     "name": "stdout",
     "output_type": "stream",
     "text": [
      "[2. 4.]\n"
     ]
    }
   ],
   "source": [
    "percentiles_orders = np.percentile(ordersByUsers['orders'], [95, 99])\n",
    "print(percentiles_orders)"
   ]
  },
  {
   "cell_type": "markdown",
   "metadata": {},
   "source": [
    "<em> Более 2-х заказов совершают только 5% пользователей."
   ]
  },
  {
   "cell_type": "markdown",
   "metadata": {},
   "source": [
    "#### Tочечный график стоимостей заказов"
   ]
  },
  {
   "cell_type": "code",
   "execution_count": 37,
   "metadata": {},
   "outputs": [
    {
     "data": {
      "image/png": "[encoded data removed]",
      "text/plain": [
       "<Figure size 1000x400 with 1 Axes>"
      ]
     },
     "metadata": {},
     "output_type": "display_data"
    },
    {
     "data": {
      "image/png": "[encoded data removed]",
      "text/plain": [
       "<Figure size 1000x400 with 1 Axes>"
      ]
     },
     "metadata": {},
     "output_type": "display_data"
    }
   ],
   "source": [
    "plt.figure(figsize=(10,4))\n",
    "plt.hist(orders['revenue'], range=(0,100000), bins = 100, color = 'darkkhaki')\n",
    "plt.title('Гистрограмма распределения сумм заказов на одного пользователя')\n",
    "plt.xlabel('Cумма заказов')\n",
    "plt.show()\n",
    "x_values = pd.Series(range(0, len(orders)))\n",
    "plt.figure(figsize=(10,4))\n",
    "plt.scatter(x_values, orders['revenue'], color = 'aqua')\n",
    "plt.title('Точечная диаграмма сумм заказов на одного пользователя')\n",
    "plt.axis([0, 1200, 0, 200000])\n",
    "plt.ylabel('Cумма заказов')\n",
    "plt.show()"
   ]
  },
  {
   "cell_type": "markdown",
   "metadata": {},
   "source": [
    "<em> Большая часть заказов пользователей не превышет сумму 20 тысяч."
   ]
  },
  {
   "cell_type": "markdown",
   "metadata": {},
   "source": [
    "#### 95-й и 99-й перцентили стоимости заказов. Граница для определения аномальных заказов"
   ]
  },
  {
   "cell_type": "code",
   "execution_count": 38,
   "metadata": {},
   "outputs": [
    {
     "name": "stdout",
     "output_type": "stream",
     "text": [
      "[28000.  58233.2]\n"
     ]
    }
   ],
   "source": [
    "percentiles_revenue = np.percentile(orders['revenue'], [95, 99])\n",
    "print(percentiles_revenue)"
   ]
  },
  {
   "cell_type": "markdown",
   "metadata": {},
   "source": [
    "<em> Более 28 тысяч тратят только 5% пользователей."
   ]
  },
  {
   "cell_type": "markdown",
   "metadata": {},
   "source": [
    "#### Cтатистическая значимость различий в среднем количестве заказов между группами по «сырым» данным"
   ]
  },
  {
   "cell_type": "markdown",
   "metadata": {},
   "source": [
    "<strong> Сформулируем гипотезы: <strong>\n",
    "\n",
    "<em> Н0 :Статистически значимых различий в среднем количестве заказов на посетителя между группами  нет;\n",
    "\n",
    "<em> Н1 : Статистически значимые различия в в среднем количестве заказов на посетителя между группами между группами есть\n",
    "\n",
    "<em> Для тестирования воспользуемся критерием Манна-Уитни, уровнем статистической значимости примем значение 0,05"
   ]
  },
  {
   "cell_type": "code",
   "execution_count": 39,
   "metadata": {},
   "outputs": [
    {
     "name": "stdout",
     "output_type": "stream",
     "text": [
      "0.017\n",
      "0.138\n"
     ]
    }
   ],
   "source": [
    "ordersByUsersA = orders[orders['group']=='A'].groupby('visitor_id', as_index=False).agg({'transaction_id':'nunique'})\n",
    "ordersByUsersA.columns = ['visitor_id', 'orders']\n",
    "ordersByUsersB = orders[orders['group']=='B'].groupby('visitor_id', as_index=False).agg({'transaction_id':'nunique'})\n",
    "ordersByUsersB.columns = ['visitor_id', 'orders']\n",
    "sampleA = pd.concat(\n",
    "    [\n",
    "        ordersByUsersA['orders'],\n",
    "        pd.Series(\n",
    "            0,\n",
    "            index=np.arange(\n",
    "                visitors[visitors['group']=='A']['visitors'].sum() - len(ordersByUsersA['orders'])\n",
    "            ),\n",
    "            name='orders',\n",
    "        ),\n",
    "    ],\n",
    "    axis=0,\n",
    ")\n",
    "sampleB = pd.concat(\n",
    "    [\n",
    "        ordersByUsersB['orders'],\n",
    "        pd.Series(\n",
    "            0,\n",
    "            index=np.arange(\n",
    "                visitors[visitors['group']=='B']['visitors'].sum() - len(ordersByUsersB['orders'])\n",
    "            ),\n",
    "            name='orders',\n",
    "        ),\n",
    "    ],\n",
    "    axis=0,\n",
    ")\n",
    "\n",
    "print(\"{0:.3f}\".format(st.mannwhitneyu(sampleA, sampleB, True, 'two-sided')[1]))\n",
    "\n",
    "\n",
    "print(\"{0:.3f}\".format(sampleB.mean() / sampleA.mean() - 1))"
   ]
  },
  {
   "cell_type": "markdown",
   "metadata": {},
   "source": [
    "<em> По \"сырым\" данным значение p-value = 0.017, это меньше уровня статистической значимости, следовательно гипотезу о том, что различий в среднем количестве заказов на посетителя  между группами нет, можно отвергнуть. Относительная разница в среднем числе заказов между группами составила 13,8%."
   ]
  },
  {
   "cell_type": "markdown",
   "metadata": {},
   "source": [
    "#### Cтатистическая разница различий в среднем чеке заказа между группами по «сырым» данным"
   ]
  },
  {
   "cell_type": "markdown",
   "metadata": {},
   "source": [
    "<strong> Сформулируем гипотезы: <strong>\n",
    "\n",
    "<em> Н0 :статистически значимых различий в среднем чеке заказа между группами нет;\n",
    "\n",
    "<em> Н1 : статистически значимые различия в среднем чеке заказа между группами есть\n",
    "\n",
    "<em> Для тестирования воспользуемся тестом Манна-Уитни, уровнем статистической значимости примем значение 0,05"
   ]
  },
  {
   "cell_type": "code",
   "execution_count": 40,
   "metadata": {},
   "outputs": [
    {
     "name": "stdout",
     "output_type": "stream",
     "text": [
      "0.729\n",
      "0.259\n"
     ]
    }
   ],
   "source": [
    "print('{0:.3f}'.format(st.mannwhitneyu(orders[orders['group']=='A']['revenue'], orders[orders['group']=='B']['revenue'], True, 'two-sided')[1]))\n",
    "\n",
    "print('{0:.3f}'.format(orders[orders['group']=='B']['revenue'].mean()/orders[orders['group']=='A']['revenue'].mean()-1)) "
   ]
  },
  {
   "cell_type": "markdown",
   "metadata": {},
   "source": [
    "<em> По \"сырым\" данным значение p-value = 0.729, это больше уровня статистической значимости, следовательно гипотезу о том, что различий в сумме среднего чека между группами нет, не отвергаем. Относительная разница суммы среднего чека между группами составила 25.8%."
   ]
  },
  {
   "cell_type": "markdown",
   "metadata": {},
   "source": [
    "#### Cтатистическая значимость различий в среднем количестве заказов между группами по «очищенным» данным"
   ]
  },
  {
   "cell_type": "markdown",
   "metadata": {},
   "source": [
    "<strong>Сформулируем гипотезы:<strong>\n",
    "\n",
    "<em> Н0 :статистически значимых различий в среднем количестве заказов между группами нет;\n",
    "\n",
    "<em> Н1 : статистически значимые различия в среднем количестве заказов между группами есть\n",
    "\n",
    "<em> Для тестирования воспользуемся тестом Манна-Уитни, уровнем статистической значимости примем значение 0,05"
   ]
  },
  {
   "cell_type": "code",
   "execution_count": 41,
   "metadata": {},
   "outputs": [
    {
     "name": "stdout",
     "output_type": "stream",
     "text": [
      "Число аномальных пользователей группы A: 68\n"
     ]
    }
   ],
   "source": [
    "usersWithManyOrdersA = ordersByUsersA[ordersByUsersA['orders'] > percentiles_orders[0]]['visitor_id']\n",
    "  \n",
    "usersWithExpensiveOrdersA = orders[orders['revenue'] > percentiles_revenue[0]]['visitor_id']\n",
    "abnormalUsersA = (\n",
    "    pd.concat([usersWithManyOrdersA, usersWithExpensiveOrdersA], axis=0)\n",
    "    .drop_duplicates()\n",
    "    .sort_values()\n",
    ")\n",
    "print('Число аномальных пользователей группы A:',abnormalUsersA.count()) "
   ]
  },
  {
   "cell_type": "code",
   "execution_count": 42,
   "metadata": {},
   "outputs": [
    {
     "name": "stdout",
     "output_type": "stream",
     "text": [
      "Число аномальных пользователей группы В: 65\n"
     ]
    }
   ],
   "source": [
    "usersWithManyOrdersB = ordersByUsersB[ordersByUsersB['orders'] > percentiles_orders[0]]['visitor_id']\n",
    "  \n",
    "usersWithExpensiveOrdersB = orders[orders['revenue'] > percentiles_revenue[0]]['visitor_id']\n",
    "abnormalUsersB = (\n",
    "    pd.concat([usersWithManyOrdersB, usersWithExpensiveOrdersB], axis=0)\n",
    "    .drop_duplicates()\n",
    "    .sort_values()\n",
    ")\n",
    "print('Число аномальных пользователей группы В:',abnormalUsersB.count()) "
   ]
  },
  {
   "cell_type": "code",
   "execution_count": 43,
   "metadata": {},
   "outputs": [],
   "source": [
    "sampleAFiltered = pd.concat(\n",
    "    [\n",
    "        ordersByUsersA[\n",
    "            np.logical_not(ordersByUsersA['visitor_id'].isin(abnormalUsersA))\n",
    "        ]['orders'],\n",
    "        pd.Series(\n",
    "            0,\n",
    "            index=np.arange(\n",
    "                visitors[visitors['group']=='A']['visitors'].sum() - len(ordersByUsersA['orders'])\n",
    "            ),\n",
    "            name='orders',\n",
    "        ),\n",
    "    ],\n",
    "    axis=0,\n",
    ")\n",
    "\n",
    "sampleBFiltered = pd.concat(\n",
    "    [\n",
    "        ordersByUsersB[\n",
    "            np.logical_not(ordersByUsersB['visitor_id'].isin(abnormalUsersB))\n",
    "        ]['orders'],\n",
    "        pd.Series(\n",
    "            0,\n",
    "            index=np.arange(\n",
    "                visitors[visitors['group']=='B']['visitors'].sum() - len(ordersByUsersB['orders'])\n",
    "            ),\n",
    "            name='orders',\n",
    "        ),\n",
    "    ],\n",
    "    axis=0,\n",
    ") "
   ]
  },
  {
   "cell_type": "code",
   "execution_count": 44,
   "metadata": {},
   "outputs": [
    {
     "name": "stdout",
     "output_type": "stream",
     "text": [
      "0.013\n",
      "0.173\n"
     ]
    }
   ],
   "source": [
    "print('{0:.3f}'.format(st.mannwhitneyu(sampleAFiltered, sampleBFiltered, True, 'two-sided')[1]))\n",
    "print('{0:.3f}'.format(sampleBFiltered.mean()/sampleAFiltered.mean()-1)) "
   ]
  },
  {
   "cell_type": "markdown",
   "metadata": {},
   "source": [
    "<em> По \"очищенным\" данным значение p-value = 0.013, ниже чем по \"сырым\" и меньше уровня статистической значимости, следовательно гипотезу о том, что различий в между средним количеством заказов между группами нет, отвергаем. Относительная разница среднего количества заказов между группами составила 17.3%"
   ]
  },
  {
   "cell_type": "markdown",
   "metadata": {},
   "source": [
    "#### Cтатистическая значимость различий в среднем чеке заказа между группами по «очищенным» данным"
   ]
  },
  {
   "cell_type": "markdown",
   "metadata": {},
   "source": [
    "<strong>Сформулируем гипотезы:<strong>\n",
    "\n",
    "<em> Н0 :статистически значимых различий в среднем чеке заказа между группами нет;\n",
    "\n",
    "<em> Н1 : статистически значимые различия в среднем чеке заказа между группами есть\n",
    "\n",
    "<em> Для тестирования воспользуемся тестом Манна-Уитни, уровнем статистической значимости примем значение 0,05"
   ]
  },
  {
   "cell_type": "code",
   "execution_count": 45,
   "metadata": {},
   "outputs": [
    {
     "name": "stdout",
     "output_type": "stream",
     "text": [
      "0.869\n",
      "-0.012\n"
     ]
    }
   ],
   "source": [
    "print(\n",
    "    '{0:.3f}'.format(\n",
    "        st.mannwhitneyu(\n",
    "            orders[\n",
    "                np.logical_and(\n",
    "                    orders['group'] == 'A',\n",
    "                    np.logical_not(orders['visitor_id'].isin(abnormalUsersA)),\n",
    "                )\n",
    "            ]['revenue'],\n",
    "            orders[\n",
    "                np.logical_and(\n",
    "                    orders['group'] == 'B',\n",
    "                    np.logical_not(orders['visitor_id'].isin(abnormalUsersB))\n",
    "                )\n",
    "            ]['revenue'], True, 'two-sided',\n",
    "        )[1]\n",
    "    )\n",
    ")\n",
    "\n",
    "print(\n",
    "    \"{0:.3f}\".format(\n",
    "        orders[\n",
    "            np.logical_and(\n",
    "                orders['group'] == 'B',\n",
    "                np.logical_not(orders['visitor_id'].isin(abnormalUsersB)),\n",
    "            )\n",
    "        ]['revenue'].mean()\n",
    "        / orders[\n",
    "            np.logical_and(\n",
    "                orders['group'] == 'A',\n",
    "                np.logical_not(orders['visitor_id'].isin(abnormalUsersA)),\n",
    "            )\n",
    "        ]['revenue'].mean()\n",
    "        - 1\n",
    "    )\n",
    ") "
   ]
  },
  {
   "cell_type": "markdown",
   "metadata": {},
   "source": [
    "<em> По \"oчищенным\" данным значение p-value = 0.869, что значительно больше уровня статистической значимости, следовательно гипотезу о том, что различий в сумме среднего чека между группами нет, не отвергаем.\n",
    "\n",
    "<em> Относительная разница суммы среднего чека между группами составила -1.2%, после \"очищения\" данных отличия среднего чека между группами практически нет. "
   ]
  },
  {
   "cell_type": "markdown",
   "metadata": {},
   "source": [
    "### Выводы"
   ]
  },
  {
   "cell_type": "markdown",
   "metadata": {},
   "source": [
    "- <em> Кумулятивные метрики группы B опережают группу А.\n",
    "\n",
    "- <em>Был произведен расчет статистической значимости различий в среднем количестве заказов на посетителя и в сумме среднего чека между группами по «сырым» и \"очищенным\" от выбросов данным, по его итогам гипотеза о равенстве среднего количества заказов между группами отвергнута, а относительная разница среднего количества заказов на посетителя группы В на 13.8% больше, чем в группе А. При тестировании \"очищенных\" от выбросов данных результат также подтвердился: среднее количество заказов на посетителя отличается, а относительная разница составила 17.3%.\n",
    "\n",
    "- <em>Гипотеза о том, что различий в сумме среднего чека между группами нет, не отвергнута.Разница суммы среднего чека между группами составила 25.8% по \"сырым\" данным. После удаления выбросов разница между чеками групп составила -1.2%.\n",
    "\n",
    "- <em> Принято решение остановить тест и зафиксировать \"победу\" группы B."
   ]
  },
  {
   "cell_type": "markdown",
   "metadata": {},
   "source": [
    "---"
   ]
  }
 ],
 "metadata": {
  "ExecuteTimeLog": [
   {
    "duration": 1405,
    "start_time": "2023-01-15T21:40:11.513Z"
   },
   {
    "duration": 60,
    "start_time": "2023-01-15T21:40:50.304Z"
   },
   {
    "duration": 207,
    "start_time": "2023-01-15T21:41:21.464Z"
   },
   {
    "duration": 55,
    "start_time": "2023-01-15T21:42:54.220Z"
   },
   {
    "duration": 10,
    "start_time": "2023-01-15T21:43:06.198Z"
   },
   {
    "duration": 11,
    "start_time": "2023-01-15T21:43:24.341Z"
   },
   {
    "duration": 9,
    "start_time": "2023-01-15T21:43:48.852Z"
   },
   {
    "duration": 4,
    "start_time": "2023-01-15T21:44:26.044Z"
   },
   {
    "duration": 11,
    "start_time": "2023-01-15T21:44:45.643Z"
   },
   {
    "duration": 9,
    "start_time": "2023-01-15T21:45:14.932Z"
   },
   {
    "duration": 13,
    "start_time": "2023-01-15T21:45:34.891Z"
   },
   {
    "duration": 3,
    "start_time": "2023-01-15T21:47:02.969Z"
   },
   {
    "duration": 6,
    "start_time": "2023-01-15T21:47:25.792Z"
   },
   {
    "duration": 16,
    "start_time": "2023-01-15T21:47:52.480Z"
   },
   {
    "duration": 12,
    "start_time": "2023-01-15T21:47:57.420Z"
   },
   {
    "duration": 5,
    "start_time": "2023-01-15T21:48:27.823Z"
   },
   {
    "duration": 13,
    "start_time": "2023-01-15T21:52:38.650Z"
   },
   {
    "duration": 13,
    "start_time": "2023-01-15T21:52:54.457Z"
   },
   {
    "duration": 9,
    "start_time": "2023-01-15T21:53:32.722Z"
   },
   {
    "duration": 4,
    "start_time": "2023-01-15T21:55:02.992Z"
   },
   {
    "duration": 12,
    "start_time": "2023-01-15T21:55:54.239Z"
   },
   {
    "duration": 5,
    "start_time": "2023-01-15T21:57:11.054Z"
   },
   {
    "duration": 11,
    "start_time": "2023-01-15T21:57:25.059Z"
   },
   {
    "duration": 11,
    "start_time": "2023-01-15T21:57:29.958Z"
   },
   {
    "duration": 12,
    "start_time": "2023-01-15T21:57:33.574Z"
   },
   {
    "duration": 4,
    "start_time": "2023-01-15T21:57:34.678Z"
   },
   {
    "duration": 14,
    "start_time": "2023-01-15T21:57:35.398Z"
   },
   {
    "duration": 4,
    "start_time": "2023-01-15T21:57:38.446Z"
   },
   {
    "duration": 15,
    "start_time": "2023-01-15T21:57:39.198Z"
   },
   {
    "duration": 215,
    "start_time": "2023-01-15T22:02:15.090Z"
   },
   {
    "duration": 16,
    "start_time": "2023-01-15T22:03:52.536Z"
   },
   {
    "duration": 4,
    "start_time": "2023-01-15T22:04:53.739Z"
   },
   {
    "duration": 78,
    "start_time": "2023-01-15T22:04:54.251Z"
   },
   {
    "duration": 14,
    "start_time": "2023-01-15T22:04:54.693Z"
   },
   {
    "duration": 12,
    "start_time": "2023-01-15T22:04:55.324Z"
   },
   {
    "duration": 8,
    "start_time": "2023-01-15T22:04:55.920Z"
   },
   {
    "duration": 4,
    "start_time": "2023-01-15T22:04:56.379Z"
   },
   {
    "duration": 11,
    "start_time": "2023-01-15T22:04:56.756Z"
   },
   {
    "duration": 12,
    "start_time": "2023-01-15T22:04:57.273Z"
   },
   {
    "duration": 12,
    "start_time": "2023-01-15T22:04:57.664Z"
   },
   {
    "duration": 12,
    "start_time": "2023-01-15T22:04:58.084Z"
   },
   {
    "duration": 4,
    "start_time": "2023-01-15T22:04:58.970Z"
   },
   {
    "duration": 6,
    "start_time": "2023-01-15T22:05:00.377Z"
   },
   {
    "duration": 18,
    "start_time": "2023-01-15T22:05:00.687Z"
   },
   {
    "duration": 12,
    "start_time": "2023-01-15T22:05:01.126Z"
   },
   {
    "duration": 4,
    "start_time": "2023-01-15T22:05:01.520Z"
   },
   {
    "duration": 9,
    "start_time": "2023-01-15T22:05:01.755Z"
   },
   {
    "duration": 26,
    "start_time": "2023-01-15T22:05:37.399Z"
   },
   {
    "duration": 1194,
    "start_time": "2023-01-15T22:06:14.883Z"
   },
   {
    "duration": 74,
    "start_time": "2023-01-15T22:06:18.787Z"
   },
   {
    "duration": 61,
    "start_time": "2023-01-15T22:06:20.655Z"
   },
   {
    "duration": 12,
    "start_time": "2023-01-15T22:06:23.166Z"
   },
   {
    "duration": 10,
    "start_time": "2023-01-15T22:06:25.879Z"
   },
   {
    "duration": 4,
    "start_time": "2023-01-15T22:06:26.724Z"
   },
   {
    "duration": 11,
    "start_time": "2023-01-15T22:06:28.373Z"
   },
   {
    "duration": 14,
    "start_time": "2023-01-15T22:06:29.891Z"
   },
   {
    "duration": 13,
    "start_time": "2023-01-15T22:06:32.266Z"
   },
   {
    "duration": 17,
    "start_time": "2023-01-15T22:06:45.150Z"
   },
   {
    "duration": 4,
    "start_time": "2023-01-15T22:06:46.817Z"
   },
   {
    "duration": 3,
    "start_time": "2023-01-15T22:07:15.921Z"
   },
   {
    "duration": 7,
    "start_time": "2023-01-15T22:07:17.069Z"
   },
   {
    "duration": 13,
    "start_time": "2023-01-15T22:07:17.735Z"
   },
   {
    "duration": 10,
    "start_time": "2023-01-15T22:07:18.406Z"
   },
   {
    "duration": 4,
    "start_time": "2023-01-15T22:07:24.153Z"
   },
   {
    "duration": 9,
    "start_time": "2023-01-15T22:07:24.617Z"
   },
   {
    "duration": 5,
    "start_time": "2023-01-15T22:07:26.691Z"
   },
   {
    "duration": 11,
    "start_time": "2023-01-15T22:07:27.173Z"
   },
   {
    "duration": 5,
    "start_time": "2023-01-15T22:07:28.734Z"
   },
   {
    "duration": 12,
    "start_time": "2023-01-15T22:07:29.392Z"
   },
   {
    "duration": 24,
    "start_time": "2023-01-15T22:07:32.079Z"
   },
   {
    "duration": 16,
    "start_time": "2023-01-15T22:07:47.092Z"
   },
   {
    "duration": 17,
    "start_time": "2023-01-15T22:08:03.711Z"
   },
   {
    "duration": 5,
    "start_time": "2023-01-15T22:08:08.729Z"
   },
   {
    "duration": 6,
    "start_time": "2023-01-15T22:08:14.708Z"
   },
   {
    "duration": 11,
    "start_time": "2023-01-15T22:08:18.557Z"
   },
   {
    "duration": 282,
    "start_time": "2023-01-15T22:08:27.248Z"
   },
   {
    "duration": 197,
    "start_time": "2023-01-15T22:08:34.735Z"
   },
   {
    "duration": 349,
    "start_time": "2023-01-15T22:08:41.230Z"
   },
   {
    "duration": 214,
    "start_time": "2023-01-15T22:08:48.075Z"
   },
   {
    "duration": 302,
    "start_time": "2023-01-15T22:08:54.367Z"
   },
   {
    "duration": 12,
    "start_time": "2023-01-15T22:09:01.597Z"
   },
   {
    "duration": 112,
    "start_time": "2023-01-15T22:09:07.769Z"
   },
   {
    "duration": 6,
    "start_time": "2023-01-15T22:09:16.733Z"
   },
   {
    "duration": 6,
    "start_time": "2023-01-15T22:09:23.451Z"
   },
   {
    "duration": 205,
    "start_time": "2023-01-15T22:09:27.950Z"
   },
   {
    "duration": 137,
    "start_time": "2023-01-15T22:09:34.121Z"
   },
   {
    "duration": 6,
    "start_time": "2023-01-15T22:09:41.596Z"
   },
   {
    "duration": 6,
    "start_time": "2023-01-15T22:09:45.910Z"
   },
   {
    "duration": 12,
    "start_time": "2023-01-15T22:09:53.725Z"
   },
   {
    "duration": 8,
    "start_time": "2023-01-15T22:09:58.145Z"
   },
   {
    "duration": 8,
    "start_time": "2023-01-15T22:10:05.347Z"
   },
   {
    "duration": 26,
    "start_time": "2023-01-15T22:10:11.977Z"
   },
   {
    "duration": 7,
    "start_time": "2023-01-15T22:10:18.309Z"
   },
   {
    "duration": 9,
    "start_time": "2023-01-15T22:10:24.326Z"
   },
   {
    "duration": 7,
    "start_time": "2023-01-15T22:10:28.841Z"
   },
   {
    "duration": 9,
    "start_time": "2023-01-15T22:10:34.418Z"
   },
   {
    "duration": 8,
    "start_time": "2023-01-15T22:10:39.427Z"
   },
   {
    "duration": 26,
    "start_time": "2023-01-15T22:10:47.771Z"
   },
   {
    "duration": 10,
    "start_time": "2023-01-15T22:10:54.053Z"
   },
   {
    "duration": 3,
    "start_time": "2023-01-15T22:25:17.592Z"
   },
   {
    "duration": 79,
    "start_time": "2023-01-15T22:25:18.106Z"
   },
   {
    "duration": 15,
    "start_time": "2023-01-15T22:25:18.595Z"
   },
   {
    "duration": 14,
    "start_time": "2023-01-15T22:25:19.248Z"
   },
   {
    "duration": 9,
    "start_time": "2023-01-15T22:25:19.697Z"
   },
   {
    "duration": 4,
    "start_time": "2023-01-15T22:25:20.079Z"
   },
   {
    "duration": 11,
    "start_time": "2023-01-15T22:25:20.401Z"
   },
   {
    "duration": 16,
    "start_time": "2023-01-15T22:25:20.678Z"
   },
   {
    "duration": 11,
    "start_time": "2023-01-15T22:25:20.996Z"
   },
   {
    "duration": 13,
    "start_time": "2023-01-15T22:25:21.300Z"
   },
   {
    "duration": 3,
    "start_time": "2023-01-15T22:25:21.526Z"
   },
   {
    "duration": 4,
    "start_time": "2023-01-15T22:25:22.140Z"
   },
   {
    "duration": 5,
    "start_time": "2023-01-15T22:25:22.374Z"
   },
   {
    "duration": 13,
    "start_time": "2023-01-15T22:25:22.594Z"
   },
   {
    "duration": 11,
    "start_time": "2023-01-15T22:25:23.042Z"
   },
   {
    "duration": 4,
    "start_time": "2023-01-15T22:25:23.361Z"
   },
   {
    "duration": 9,
    "start_time": "2023-01-15T22:25:23.699Z"
   },
   {
    "duration": 4,
    "start_time": "2023-01-15T22:27:29.501Z"
   },
   {
    "duration": 13,
    "start_time": "2023-01-15T22:27:30.104Z"
   },
   {
    "duration": 4,
    "start_time": "2023-01-15T22:27:50.076Z"
   },
   {
    "duration": 12,
    "start_time": "2023-01-15T22:27:50.564Z"
   },
   {
    "duration": 128,
    "start_time": "2023-01-15T22:52:02.217Z"
   },
   {
    "duration": 306,
    "start_time": "2023-01-15T22:52:31.953Z"
   },
   {
    "duration": 243,
    "start_time": "2023-01-15T22:53:46.544Z"
   },
   {
    "duration": 211,
    "start_time": "2023-01-15T22:54:43.878Z"
   },
   {
    "duration": 278,
    "start_time": "2023-01-15T22:55:42.381Z"
   },
   {
    "duration": 230,
    "start_time": "2023-01-15T22:56:20.693Z"
   },
   {
    "duration": 226,
    "start_time": "2023-01-15T23:07:01.447Z"
   },
   {
    "duration": 289,
    "start_time": "2023-01-15T23:09:26.069Z"
   },
   {
    "duration": 278,
    "start_time": "2023-01-15T23:11:00.926Z"
   },
   {
    "duration": 5,
    "start_time": "2023-01-15T23:12:11.267Z"
   },
   {
    "duration": 510,
    "start_time": "2023-01-15T23:12:53.548Z"
   },
   {
    "duration": 5,
    "start_time": "2023-01-15T23:13:56.282Z"
   },
   {
    "duration": 5,
    "start_time": "2023-01-15T23:19:21.081Z"
   },
   {
    "duration": 22,
    "start_time": "2023-01-15T23:46:57.468Z"
   },
   {
    "duration": 38,
    "start_time": "2023-01-15T23:49:33.137Z"
   },
   {
    "duration": 11,
    "start_time": "2023-01-15T23:51:25.671Z"
   },
   {
    "duration": 2,
    "start_time": "2023-01-15T23:53:32.961Z"
   },
   {
    "duration": 1156,
    "start_time": "2023-01-15T23:54:22.043Z"
   },
   {
    "duration": 3,
    "start_time": "2023-01-15T23:54:42.903Z"
   },
   {
    "duration": 10,
    "start_time": "2023-01-15T23:55:12.622Z"
   },
   {
    "duration": 16,
    "start_time": "2023-01-15T23:56:05.910Z"
   },
   {
    "duration": 15,
    "start_time": "2023-01-15T23:57:36.028Z"
   },
   {
    "duration": 18,
    "start_time": "2023-01-15T23:58:06.035Z"
   },
   {
    "duration": 20,
    "start_time": "2023-01-15T23:58:22.316Z"
   },
   {
    "duration": 4,
    "start_time": "2023-01-15T23:58:59.597Z"
   },
   {
    "duration": 8,
    "start_time": "2023-01-15T23:59:00.050Z"
   },
   {
    "duration": 17,
    "start_time": "2023-01-15T23:59:00.710Z"
   },
   {
    "duration": 1177,
    "start_time": "2023-01-16T00:02:33.103Z"
   },
   {
    "duration": 9,
    "start_time": "2023-01-16T00:02:58.798Z"
   },
   {
    "duration": 8,
    "start_time": "2023-01-16T00:03:10.366Z"
   },
   {
    "duration": 8,
    "start_time": "2023-01-16T00:03:30.062Z"
   },
   {
    "duration": 7,
    "start_time": "2023-01-16T00:03:40.278Z"
   },
   {
    "duration": 10,
    "start_time": "2023-01-16T00:04:00.701Z"
   },
   {
    "duration": 11,
    "start_time": "2023-01-16T00:04:02.149Z"
   },
   {
    "duration": 9,
    "start_time": "2023-01-16T00:05:45.364Z"
   },
   {
    "duration": 9,
    "start_time": "2023-01-16T00:05:46.531Z"
   },
   {
    "duration": 12,
    "start_time": "2023-01-16T00:06:16.251Z"
   },
   {
    "duration": 8,
    "start_time": "2023-01-16T00:07:17.489Z"
   },
   {
    "duration": 35,
    "start_time": "2023-01-16T00:07:26.562Z"
   },
   {
    "duration": 10,
    "start_time": "2023-01-16T00:07:48.697Z"
   },
   {
    "duration": 1126,
    "start_time": "2023-01-16T00:08:56.408Z"
   },
   {
    "duration": 9,
    "start_time": "2023-01-16T00:09:14.239Z"
   },
   {
    "duration": 9,
    "start_time": "2023-01-16T00:09:14.798Z"
   },
   {
    "duration": 1309,
    "start_time": "2023-01-16T00:09:16.095Z"
   },
   {
    "duration": 9,
    "start_time": "2023-01-16T00:09:18.809Z"
   },
   {
    "duration": 11,
    "start_time": "2023-01-16T00:09:32.978Z"
   },
   {
    "duration": 23,
    "start_time": "2023-01-16T00:09:35.760Z"
   },
   {
    "duration": 24,
    "start_time": "2023-01-16T00:09:54.197Z"
   },
   {
    "duration": 5,
    "start_time": "2023-01-16T00:09:59.022Z"
   },
   {
    "duration": 37,
    "start_time": "2023-01-16T00:10:00.344Z"
   },
   {
    "duration": 14,
    "start_time": "2023-01-16T00:10:04.181Z"
   },
   {
    "duration": 8,
    "start_time": "2023-01-16T00:10:05.308Z"
   },
   {
    "duration": 9,
    "start_time": "2023-01-16T00:10:05.926Z"
   },
   {
    "duration": 10,
    "start_time": "2023-01-16T00:10:06.704Z"
   },
   {
    "duration": 24,
    "start_time": "2023-01-16T00:10:07.334Z"
   },
   {
    "duration": 15,
    "start_time": "2023-01-16T00:12:46.004Z"
   },
   {
    "duration": 217,
    "start_time": "2023-01-16T00:21:15.082Z"
   },
   {
    "duration": 200,
    "start_time": "2023-01-16T00:23:55.733Z"
   },
   {
    "duration": 195,
    "start_time": "2023-01-16T00:24:36.894Z"
   },
   {
    "duration": 224,
    "start_time": "2023-01-16T00:24:49.309Z"
   },
   {
    "duration": 216,
    "start_time": "2023-01-16T00:24:57.724Z"
   },
   {
    "duration": 383,
    "start_time": "2023-01-16T00:27:59.337Z"
   },
   {
    "duration": 303,
    "start_time": "2023-01-16T00:28:29.792Z"
   },
   {
    "duration": 312,
    "start_time": "2023-01-16T00:30:43.550Z"
   },
   {
    "duration": 277,
    "start_time": "2023-01-16T00:34:21.882Z"
   },
   {
    "duration": 443,
    "start_time": "2023-01-16T00:34:49.041Z"
   },
   {
    "duration": 70,
    "start_time": "2023-01-16T00:38:59.501Z"
   },
   {
    "duration": 69,
    "start_time": "2023-01-16T00:39:06.733Z"
   },
   {
    "duration": 77,
    "start_time": "2023-01-16T00:39:22.093Z"
   },
   {
    "duration": 5,
    "start_time": "2023-01-16T00:39:56.028Z"
   },
   {
    "duration": 5,
    "start_time": "2023-01-16T00:42:50.208Z"
   },
   {
    "duration": 8,
    "start_time": "2023-01-16T00:53:21.478Z"
   },
   {
    "duration": 8,
    "start_time": "2023-01-16T00:53:31.566Z"
   },
   {
    "duration": 8,
    "start_time": "2023-01-16T00:53:56.086Z"
   },
   {
    "duration": 9,
    "start_time": "2023-01-16T00:53:57.166Z"
   },
   {
    "duration": 9,
    "start_time": "2023-01-16T00:54:08.429Z"
   },
   {
    "duration": 1173,
    "start_time": "2023-01-16T01:12:12.591Z"
   },
   {
    "duration": 76,
    "start_time": "2023-01-16T01:12:13.766Z"
   },
   {
    "duration": 53,
    "start_time": "2023-01-16T01:12:13.844Z"
   },
   {
    "duration": 12,
    "start_time": "2023-01-16T01:12:13.898Z"
   },
   {
    "duration": 18,
    "start_time": "2023-01-16T01:12:13.913Z"
   },
   {
    "duration": 6,
    "start_time": "2023-01-16T01:12:13.933Z"
   },
   {
    "duration": 15,
    "start_time": "2023-01-16T01:12:13.950Z"
   },
   {
    "duration": 17,
    "start_time": "2023-01-16T01:12:13.966Z"
   },
   {
    "duration": 23,
    "start_time": "2023-01-16T01:12:13.985Z"
   },
   {
    "duration": 23,
    "start_time": "2023-01-16T01:12:14.010Z"
   },
   {
    "duration": 5,
    "start_time": "2023-01-16T01:12:14.035Z"
   },
   {
    "duration": 11,
    "start_time": "2023-01-16T01:12:14.042Z"
   },
   {
    "duration": 20,
    "start_time": "2023-01-16T01:12:14.055Z"
   },
   {
    "duration": 17,
    "start_time": "2023-01-16T01:12:14.079Z"
   },
   {
    "duration": 15,
    "start_time": "2023-01-16T01:12:14.098Z"
   },
   {
    "duration": 11,
    "start_time": "2023-01-16T01:12:14.115Z"
   },
   {
    "duration": 12,
    "start_time": "2023-01-16T01:12:14.128Z"
   },
   {
    "duration": 10,
    "start_time": "2023-01-16T01:12:14.142Z"
   },
   {
    "duration": 21,
    "start_time": "2023-01-16T01:12:14.154Z"
   },
   {
    "duration": 11,
    "start_time": "2023-01-16T01:12:14.176Z"
   },
   {
    "duration": 18,
    "start_time": "2023-01-16T01:12:14.189Z"
   },
   {
    "duration": 314,
    "start_time": "2023-01-16T01:12:14.208Z"
   },
   {
    "duration": 307,
    "start_time": "2023-01-16T01:12:14.524Z"
   },
   {
    "duration": 205,
    "start_time": "2023-01-16T01:12:14.833Z"
   },
   {
    "duration": 314,
    "start_time": "2023-01-16T01:12:15.040Z"
   },
   {
    "duration": 213,
    "start_time": "2023-01-16T01:12:15.355Z"
   },
   {
    "duration": 288,
    "start_time": "2023-01-16T01:12:15.569Z"
   },
   {
    "duration": 338,
    "start_time": "2023-01-16T01:12:15.859Z"
   },
   {
    "duration": 5,
    "start_time": "2023-01-16T01:12:16.199Z"
   },
   {
    "duration": 401,
    "start_time": "2023-01-16T01:12:16.205Z"
   },
   {
    "duration": 4,
    "start_time": "2023-01-16T01:12:16.608Z"
   },
   {
    "duration": 51,
    "start_time": "2023-01-16T01:12:16.613Z"
   },
   {
    "duration": 10,
    "start_time": "2023-01-16T01:12:16.666Z"
   },
   {
    "duration": 7,
    "start_time": "2023-01-16T01:12:16.678Z"
   },
   {
    "duration": 9,
    "start_time": "2023-01-16T01:12:16.687Z"
   },
   {
    "duration": 17,
    "start_time": "2023-01-16T01:12:16.697Z"
   },
   {
    "duration": 50,
    "start_time": "2023-01-16T01:12:16.716Z"
   },
   {
    "duration": 14,
    "start_time": "2023-01-16T01:12:16.768Z"
   },
   {
    "duration": 197,
    "start_time": "2023-01-16T01:14:36.897Z"
   },
   {
    "duration": 199,
    "start_time": "2023-01-16T01:14:59.254Z"
   },
   {
    "duration": 307,
    "start_time": "2023-01-16T01:15:20.167Z"
   },
   {
    "duration": 211,
    "start_time": "2023-01-16T01:15:53.142Z"
   },
   {
    "duration": 217,
    "start_time": "2023-01-16T01:15:59.047Z"
   },
   {
    "duration": 213,
    "start_time": "2023-01-16T01:16:20.326Z"
   },
   {
    "duration": 308,
    "start_time": "2023-01-16T01:17:05.149Z"
   },
   {
    "duration": 342,
    "start_time": "2023-01-16T01:17:17.717Z"
   },
   {
    "duration": 371,
    "start_time": "2023-01-16T01:17:28.637Z"
   },
   {
    "duration": 1171,
    "start_time": "2023-01-16T01:17:44.990Z"
   },
   {
    "duration": 77,
    "start_time": "2023-01-16T01:17:46.163Z"
   },
   {
    "duration": 54,
    "start_time": "2023-01-16T01:17:46.242Z"
   },
   {
    "duration": 14,
    "start_time": "2023-01-16T01:17:46.297Z"
   },
   {
    "duration": 12,
    "start_time": "2023-01-16T01:17:46.314Z"
   },
   {
    "duration": 24,
    "start_time": "2023-01-16T01:17:46.328Z"
   },
   {
    "duration": 34,
    "start_time": "2023-01-16T01:17:46.354Z"
   },
   {
    "duration": 25,
    "start_time": "2023-01-16T01:17:46.389Z"
   },
   {
    "duration": 12,
    "start_time": "2023-01-16T01:17:46.417Z"
   },
   {
    "duration": 15,
    "start_time": "2023-01-16T01:17:46.431Z"
   },
   {
    "duration": 5,
    "start_time": "2023-01-16T01:17:46.448Z"
   },
   {
    "duration": 8,
    "start_time": "2023-01-16T01:17:46.455Z"
   },
   {
    "duration": 15,
    "start_time": "2023-01-16T01:17:46.465Z"
   },
   {
    "duration": 21,
    "start_time": "2023-01-16T01:17:46.483Z"
   },
   {
    "duration": 20,
    "start_time": "2023-01-16T01:17:46.506Z"
   },
   {
    "duration": 9,
    "start_time": "2023-01-16T01:17:46.528Z"
   },
   {
    "duration": 12,
    "start_time": "2023-01-16T01:17:46.539Z"
   },
   {
    "duration": 4,
    "start_time": "2023-01-16T01:17:46.553Z"
   },
   {
    "duration": 14,
    "start_time": "2023-01-16T01:17:46.559Z"
   },
   {
    "duration": 7,
    "start_time": "2023-01-16T01:17:46.575Z"
   },
   {
    "duration": 16,
    "start_time": "2023-01-16T01:17:46.583Z"
   },
   {
    "duration": 304,
    "start_time": "2023-01-16T01:17:46.601Z"
   },
   {
    "duration": 302,
    "start_time": "2023-01-16T01:17:46.906Z"
   },
   {
    "duration": 212,
    "start_time": "2023-01-16T01:17:47.209Z"
   },
   {
    "duration": 330,
    "start_time": "2023-01-16T01:17:47.423Z"
   },
   {
    "duration": 225,
    "start_time": "2023-01-16T01:17:47.755Z"
   },
   {
    "duration": 291,
    "start_time": "2023-01-16T01:17:47.981Z"
   },
   {
    "duration": 344,
    "start_time": "2023-01-16T01:17:48.274Z"
   },
   {
    "duration": 4,
    "start_time": "2023-01-16T01:17:48.620Z"
   },
   {
    "duration": 400,
    "start_time": "2023-01-16T01:17:48.626Z"
   },
   {
    "duration": 5,
    "start_time": "2023-01-16T01:17:49.027Z"
   },
   {
    "duration": 50,
    "start_time": "2023-01-16T01:17:49.034Z"
   },
   {
    "duration": 11,
    "start_time": "2023-01-16T01:17:49.086Z"
   },
   {
    "duration": 7,
    "start_time": "2023-01-16T01:17:49.099Z"
   },
   {
    "duration": 10,
    "start_time": "2023-01-16T01:17:49.108Z"
   },
   {
    "duration": 39,
    "start_time": "2023-01-16T01:17:49.119Z"
   },
   {
    "duration": 38,
    "start_time": "2023-01-16T01:17:49.160Z"
   },
   {
    "duration": 17,
    "start_time": "2023-01-16T01:17:49.200Z"
   },
   {
    "duration": 1221,
    "start_time": "2023-01-16T01:18:03.741Z"
   },
   {
    "duration": 78,
    "start_time": "2023-01-16T01:18:04.964Z"
   },
   {
    "duration": 52,
    "start_time": "2023-01-16T01:18:05.044Z"
   },
   {
    "duration": 11,
    "start_time": "2023-01-16T01:18:05.097Z"
   },
   {
    "duration": 11,
    "start_time": "2023-01-16T01:18:05.110Z"
   },
   {
    "duration": 4,
    "start_time": "2023-01-16T01:18:05.122Z"
   },
   {
    "duration": 29,
    "start_time": "2023-01-16T01:18:05.128Z"
   },
   {
    "duration": 11,
    "start_time": "2023-01-16T01:18:05.159Z"
   },
   {
    "duration": 29,
    "start_time": "2023-01-16T01:18:05.171Z"
   },
   {
    "duration": 45,
    "start_time": "2023-01-16T01:18:05.201Z"
   },
   {
    "duration": 18,
    "start_time": "2023-01-16T01:18:05.248Z"
   },
   {
    "duration": 24,
    "start_time": "2023-01-16T01:18:05.267Z"
   },
   {
    "duration": 27,
    "start_time": "2023-01-16T01:18:05.299Z"
   },
   {
    "duration": 19,
    "start_time": "2023-01-16T01:18:05.329Z"
   },
   {
    "duration": 47,
    "start_time": "2023-01-16T01:18:05.349Z"
   },
   {
    "duration": 25,
    "start_time": "2023-01-16T01:18:05.398Z"
   },
   {
    "duration": 33,
    "start_time": "2023-01-16T01:18:05.425Z"
   },
   {
    "duration": 18,
    "start_time": "2023-01-16T01:18:05.460Z"
   },
   {
    "duration": 29,
    "start_time": "2023-01-16T01:18:05.480Z"
   },
   {
    "duration": 29,
    "start_time": "2023-01-16T01:18:05.511Z"
   },
   {
    "duration": 20,
    "start_time": "2023-01-16T01:18:05.541Z"
   },
   {
    "duration": 137,
    "start_time": "2023-01-16T01:18:05.563Z"
   },
   {
    "duration": 0,
    "start_time": "2023-01-16T01:18:05.702Z"
   },
   {
    "duration": 0,
    "start_time": "2023-01-16T01:18:05.703Z"
   },
   {
    "duration": 0,
    "start_time": "2023-01-16T01:18:05.704Z"
   },
   {
    "duration": 0,
    "start_time": "2023-01-16T01:18:05.705Z"
   },
   {
    "duration": 0,
    "start_time": "2023-01-16T01:18:05.706Z"
   },
   {
    "duration": 0,
    "start_time": "2023-01-16T01:18:05.707Z"
   },
   {
    "duration": 0,
    "start_time": "2023-01-16T01:18:05.708Z"
   },
   {
    "duration": 0,
    "start_time": "2023-01-16T01:18:05.709Z"
   },
   {
    "duration": 0,
    "start_time": "2023-01-16T01:18:05.709Z"
   },
   {
    "duration": 0,
    "start_time": "2023-01-16T01:18:05.710Z"
   },
   {
    "duration": 0,
    "start_time": "2023-01-16T01:18:05.711Z"
   },
   {
    "duration": 0,
    "start_time": "2023-01-16T01:18:05.712Z"
   },
   {
    "duration": 0,
    "start_time": "2023-01-16T01:18:05.713Z"
   },
   {
    "duration": 0,
    "start_time": "2023-01-16T01:18:05.714Z"
   },
   {
    "duration": 0,
    "start_time": "2023-01-16T01:18:05.715Z"
   },
   {
    "duration": 0,
    "start_time": "2023-01-16T01:18:05.716Z"
   },
   {
    "duration": 1191,
    "start_time": "2023-01-16T01:18:35.220Z"
   },
   {
    "duration": 75,
    "start_time": "2023-01-16T01:18:36.413Z"
   },
   {
    "duration": 52,
    "start_time": "2023-01-16T01:18:36.489Z"
   },
   {
    "duration": 11,
    "start_time": "2023-01-16T01:18:36.543Z"
   },
   {
    "duration": 11,
    "start_time": "2023-01-16T01:18:36.557Z"
   },
   {
    "duration": 4,
    "start_time": "2023-01-16T01:18:36.570Z"
   },
   {
    "duration": 15,
    "start_time": "2023-01-16T01:18:36.576Z"
   },
   {
    "duration": 16,
    "start_time": "2023-01-16T01:18:36.593Z"
   },
   {
    "duration": 14,
    "start_time": "2023-01-16T01:18:36.611Z"
   },
   {
    "duration": 13,
    "start_time": "2023-01-16T01:18:36.651Z"
   },
   {
    "duration": 6,
    "start_time": "2023-01-16T01:18:36.666Z"
   },
   {
    "duration": 9,
    "start_time": "2023-01-16T01:18:36.674Z"
   },
   {
    "duration": 9,
    "start_time": "2023-01-16T01:18:36.685Z"
   },
   {
    "duration": 17,
    "start_time": "2023-01-16T01:18:36.697Z"
   },
   {
    "duration": 17,
    "start_time": "2023-01-16T01:18:36.716Z"
   },
   {
    "duration": 16,
    "start_time": "2023-01-16T01:18:36.735Z"
   },
   {
    "duration": 11,
    "start_time": "2023-01-16T01:18:36.752Z"
   },
   {
    "duration": 4,
    "start_time": "2023-01-16T01:18:36.764Z"
   },
   {
    "duration": 13,
    "start_time": "2023-01-16T01:18:36.770Z"
   },
   {
    "duration": 9,
    "start_time": "2023-01-16T01:18:36.785Z"
   },
   {
    "duration": 12,
    "start_time": "2023-01-16T01:18:36.796Z"
   },
   {
    "duration": 300,
    "start_time": "2023-01-16T01:18:36.810Z"
   },
   {
    "duration": 277,
    "start_time": "2023-01-16T01:18:37.112Z"
   },
   {
    "duration": 202,
    "start_time": "2023-01-16T01:18:37.390Z"
   },
   {
    "duration": 270,
    "start_time": "2023-01-16T01:18:37.593Z"
   },
   {
    "duration": 223,
    "start_time": "2023-01-16T01:18:37.864Z"
   },
   {
    "duration": 279,
    "start_time": "2023-01-16T01:18:38.088Z"
   },
   {
    "duration": 333,
    "start_time": "2023-01-16T01:18:38.368Z"
   },
   {
    "duration": 5,
    "start_time": "2023-01-16T01:18:38.703Z"
   },
   {
    "duration": 395,
    "start_time": "2023-01-16T01:18:38.709Z"
   },
   {
    "duration": 4,
    "start_time": "2023-01-16T01:18:39.106Z"
   },
   {
    "duration": 141,
    "start_time": "2023-01-16T01:18:39.112Z"
   },
   {
    "duration": 0,
    "start_time": "2023-01-16T01:18:39.255Z"
   },
   {
    "duration": 0,
    "start_time": "2023-01-16T01:18:39.256Z"
   },
   {
    "duration": 0,
    "start_time": "2023-01-16T01:18:39.258Z"
   },
   {
    "duration": 0,
    "start_time": "2023-01-16T01:18:39.259Z"
   },
   {
    "duration": 0,
    "start_time": "2023-01-16T01:18:39.260Z"
   },
   {
    "duration": 0,
    "start_time": "2023-01-16T01:18:39.261Z"
   },
   {
    "duration": 1169,
    "start_time": "2023-01-16T01:19:20.887Z"
   },
   {
    "duration": 77,
    "start_time": "2023-01-16T01:19:22.058Z"
   },
   {
    "duration": 56,
    "start_time": "2023-01-16T01:19:22.136Z"
   },
   {
    "duration": 10,
    "start_time": "2023-01-16T01:19:22.194Z"
   },
   {
    "duration": 20,
    "start_time": "2023-01-16T01:19:22.206Z"
   },
   {
    "duration": 5,
    "start_time": "2023-01-16T01:19:22.227Z"
   },
   {
    "duration": 19,
    "start_time": "2023-01-16T01:19:22.233Z"
   },
   {
    "duration": 16,
    "start_time": "2023-01-16T01:19:22.254Z"
   },
   {
    "duration": 12,
    "start_time": "2023-01-16T01:19:22.272Z"
   },
   {
    "duration": 13,
    "start_time": "2023-01-16T01:19:22.286Z"
   },
   {
    "duration": 12,
    "start_time": "2023-01-16T01:19:22.301Z"
   },
   {
    "duration": 25,
    "start_time": "2023-01-16T01:19:22.315Z"
   },
   {
    "duration": 11,
    "start_time": "2023-01-16T01:19:22.341Z"
   },
   {
    "duration": 12,
    "start_time": "2023-01-16T01:19:22.355Z"
   },
   {
    "duration": 14,
    "start_time": "2023-01-16T01:19:22.369Z"
   },
   {
    "duration": 9,
    "start_time": "2023-01-16T01:19:22.384Z"
   },
   {
    "duration": 15,
    "start_time": "2023-01-16T01:19:22.395Z"
   },
   {
    "duration": 4,
    "start_time": "2023-01-16T01:19:22.411Z"
   },
   {
    "duration": 13,
    "start_time": "2023-01-16T01:19:22.416Z"
   },
   {
    "duration": 5,
    "start_time": "2023-01-16T01:19:22.430Z"
   },
   {
    "duration": 12,
    "start_time": "2023-01-16T01:19:22.450Z"
   },
   {
    "duration": 299,
    "start_time": "2023-01-16T01:19:22.463Z"
   },
   {
    "duration": 271,
    "start_time": "2023-01-16T01:19:22.763Z"
   },
   {
    "duration": 208,
    "start_time": "2023-01-16T01:19:23.035Z"
   },
   {
    "duration": 307,
    "start_time": "2023-01-16T01:19:23.244Z"
   },
   {
    "duration": 209,
    "start_time": "2023-01-16T01:19:23.553Z"
   },
   {
    "duration": 289,
    "start_time": "2023-01-16T01:19:23.763Z"
   },
   {
    "duration": 337,
    "start_time": "2023-01-16T01:19:24.053Z"
   },
   {
    "duration": 4,
    "start_time": "2023-01-16T01:19:24.392Z"
   },
   {
    "duration": 422,
    "start_time": "2023-01-16T01:19:24.398Z"
   },
   {
    "duration": 4,
    "start_time": "2023-01-16T01:19:24.822Z"
   },
   {
    "duration": 50,
    "start_time": "2023-01-16T01:19:24.828Z"
   },
   {
    "duration": 10,
    "start_time": "2023-01-16T01:19:24.880Z"
   },
   {
    "duration": 8,
    "start_time": "2023-01-16T01:19:24.891Z"
   },
   {
    "duration": 8,
    "start_time": "2023-01-16T01:19:24.900Z"
   },
   {
    "duration": 14,
    "start_time": "2023-01-16T01:19:24.910Z"
   },
   {
    "duration": 45,
    "start_time": "2023-01-16T01:19:24.926Z"
   },
   {
    "duration": 13,
    "start_time": "2023-01-16T01:19:24.973Z"
   },
   {
    "duration": 1073,
    "start_time": "2023-01-16T02:02:26.629Z"
   },
   {
    "duration": 88,
    "start_time": "2023-01-16T02:02:27.704Z"
   },
   {
    "duration": 53,
    "start_time": "2023-01-16T02:02:27.793Z"
   },
   {
    "duration": 10,
    "start_time": "2023-01-16T02:02:27.847Z"
   },
   {
    "duration": 11,
    "start_time": "2023-01-16T02:02:27.859Z"
   },
   {
    "duration": 3,
    "start_time": "2023-01-16T02:02:27.871Z"
   },
   {
    "duration": 19,
    "start_time": "2023-01-16T02:02:27.876Z"
   },
   {
    "duration": 32,
    "start_time": "2023-01-16T02:02:27.896Z"
   },
   {
    "duration": 10,
    "start_time": "2023-01-16T02:02:27.930Z"
   },
   {
    "duration": 19,
    "start_time": "2023-01-16T02:02:27.941Z"
   },
   {
    "duration": 7,
    "start_time": "2023-01-16T02:02:27.962Z"
   },
   {
    "duration": 4,
    "start_time": "2023-01-16T02:02:27.970Z"
   },
   {
    "duration": 9,
    "start_time": "2023-01-16T02:02:27.976Z"
   },
   {
    "duration": 12,
    "start_time": "2023-01-16T02:02:27.987Z"
   },
   {
    "duration": 9,
    "start_time": "2023-01-16T02:02:28.000Z"
   },
   {
    "duration": 6,
    "start_time": "2023-01-16T02:02:28.018Z"
   },
   {
    "duration": 18,
    "start_time": "2023-01-16T02:02:28.025Z"
   },
   {
    "duration": 4,
    "start_time": "2023-01-16T02:02:28.044Z"
   },
   {
    "duration": 14,
    "start_time": "2023-01-16T02:02:28.050Z"
   },
   {
    "duration": 5,
    "start_time": "2023-01-16T02:02:28.065Z"
   },
   {
    "duration": 12,
    "start_time": "2023-01-16T02:02:28.071Z"
   },
   {
    "duration": 290,
    "start_time": "2023-01-16T02:02:28.085Z"
   },
   {
    "duration": 278,
    "start_time": "2023-01-16T02:02:28.376Z"
   },
   {
    "duration": 283,
    "start_time": "2023-01-16T02:02:28.656Z"
   },
   {
    "duration": 507,
    "start_time": "2023-01-16T02:02:28.941Z"
   },
   {
    "duration": 405,
    "start_time": "2023-01-16T02:02:29.449Z"
   },
   {
    "duration": 498,
    "start_time": "2023-01-16T02:02:29.855Z"
   },
   {
    "duration": 575,
    "start_time": "2023-01-16T02:02:30.354Z"
   },
   {
    "duration": 4,
    "start_time": "2023-01-16T02:02:30.931Z"
   },
   {
    "duration": 361,
    "start_time": "2023-01-16T02:02:30.936Z"
   },
   {
    "duration": 15,
    "start_time": "2023-01-16T02:02:31.299Z"
   },
   {
    "duration": 40,
    "start_time": "2023-01-16T02:02:31.318Z"
   },
   {
    "duration": 9,
    "start_time": "2023-01-16T02:02:31.360Z"
   },
   {
    "duration": 24,
    "start_time": "2023-01-16T02:02:31.370Z"
   },
   {
    "duration": 17,
    "start_time": "2023-01-16T02:02:31.396Z"
   },
   {
    "duration": 26,
    "start_time": "2023-01-16T02:02:31.415Z"
   },
   {
    "duration": 35,
    "start_time": "2023-01-16T02:02:31.443Z"
   },
   {
    "duration": 13,
    "start_time": "2023-01-16T02:02:31.480Z"
   },
   {
    "duration": 13,
    "start_time": "2023-01-16T02:10:06.323Z"
   },
   {
    "duration": 5,
    "start_time": "2023-01-16T02:10:50.228Z"
   },
   {
    "duration": 58,
    "start_time": "2023-01-16T10:54:27.985Z"
   },
   {
    "duration": 6,
    "start_time": "2023-01-16T10:54:31.873Z"
   },
   {
    "duration": 1327,
    "start_time": "2023-01-16T10:54:35.192Z"
   },
   {
    "duration": 225,
    "start_time": "2023-01-16T10:54:36.521Z"
   },
   {
    "duration": 49,
    "start_time": "2023-01-16T10:54:38.119Z"
   },
   {
    "duration": 11,
    "start_time": "2023-01-16T10:54:39.431Z"
   },
   {
    "duration": 8,
    "start_time": "2023-01-16T10:54:40.389Z"
   },
   {
    "duration": 4,
    "start_time": "2023-01-16T10:54:45.808Z"
   },
   {
    "duration": 10,
    "start_time": "2023-01-16T10:54:46.951Z"
   },
   {
    "duration": 12,
    "start_time": "2023-01-16T10:54:47.410Z"
   },
   {
    "duration": 11,
    "start_time": "2023-01-16T10:54:48.011Z"
   },
   {
    "duration": 12,
    "start_time": "2023-01-16T10:54:49.760Z"
   },
   {
    "duration": 3,
    "start_time": "2023-01-16T10:54:49.972Z"
   },
   {
    "duration": 3,
    "start_time": "2023-01-16T10:54:50.241Z"
   },
   {
    "duration": 5,
    "start_time": "2023-01-16T10:54:50.478Z"
   },
   {
    "duration": 10,
    "start_time": "2023-01-16T10:54:50.722Z"
   },
   {
    "duration": 11,
    "start_time": "2023-01-16T10:54:51.089Z"
   },
   {
    "duration": 3,
    "start_time": "2023-01-16T10:54:51.544Z"
   },
   {
    "duration": 9,
    "start_time": "2023-01-16T10:54:52.580Z"
   },
   {
    "duration": 13,
    "start_time": "2023-01-16T11:51:03.111Z"
   },
   {
    "duration": 10,
    "start_time": "2023-01-16T11:51:34.700Z"
   },
   {
    "duration": 4,
    "start_time": "2023-01-16T11:53:35.516Z"
   },
   {
    "duration": 69,
    "start_time": "2023-01-16T11:53:35.697Z"
   },
   {
    "duration": 10,
    "start_time": "2023-01-16T11:53:36.057Z"
   },
   {
    "duration": 9,
    "start_time": "2023-01-16T11:53:36.417Z"
   },
   {
    "duration": 8,
    "start_time": "2023-01-16T11:53:36.607Z"
   },
   {
    "duration": 4,
    "start_time": "2023-01-16T11:53:37.195Z"
   },
   {
    "duration": 10,
    "start_time": "2023-01-16T11:53:37.690Z"
   },
   {
    "duration": 11,
    "start_time": "2023-01-16T11:53:37.894Z"
   },
   {
    "duration": 9,
    "start_time": "2023-01-16T11:53:38.094Z"
   },
   {
    "duration": 12,
    "start_time": "2023-01-16T11:53:38.278Z"
   },
   {
    "duration": 3,
    "start_time": "2023-01-16T11:53:38.480Z"
   },
   {
    "duration": 3,
    "start_time": "2023-01-16T11:53:38.670Z"
   },
   {
    "duration": 5,
    "start_time": "2023-01-16T11:53:38.859Z"
   },
   {
    "duration": 10,
    "start_time": "2023-01-16T11:53:39.061Z"
   },
   {
    "duration": 9,
    "start_time": "2023-01-16T11:53:39.242Z"
   },
   {
    "duration": 9,
    "start_time": "2023-01-16T11:53:39.432Z"
   },
   {
    "duration": 3,
    "start_time": "2023-01-16T11:53:39.772Z"
   },
   {
    "duration": 8,
    "start_time": "2023-01-16T11:53:40.034Z"
   },
   {
    "duration": 4,
    "start_time": "2023-01-16T11:53:44.296Z"
   },
   {
    "duration": 59,
    "start_time": "2023-01-16T11:53:44.723Z"
   },
   {
    "duration": 48,
    "start_time": "2023-01-16T11:53:50.994Z"
   },
   {
    "duration": 3,
    "start_time": "2023-01-16T11:53:55.826Z"
   },
   {
    "duration": 3,
    "start_time": "2023-01-16T11:54:16.370Z"
   },
   {
    "duration": 10,
    "start_time": "2023-01-16T11:54:18.298Z"
   },
   {
    "duration": 2,
    "start_time": "2023-01-16T11:55:00.705Z"
   },
   {
    "duration": 476,
    "start_time": "2023-01-16T11:55:25.609Z"
   },
   {
    "duration": 10,
    "start_time": "2023-01-16T11:55:31.352Z"
   },
   {
    "duration": 5,
    "start_time": "2023-01-16T11:56:57.219Z"
   },
   {
    "duration": 11,
    "start_time": "2023-01-16T11:56:57.750Z"
   },
   {
    "duration": 65,
    "start_time": "2023-01-16T12:06:14.136Z"
   },
   {
    "duration": 480,
    "start_time": "2023-01-16T12:06:30.450Z"
   },
   {
    "duration": 460,
    "start_time": "2023-01-16T12:06:44.173Z"
   },
   {
    "duration": 510,
    "start_time": "2023-01-16T12:07:02.717Z"
   },
   {
    "duration": 16,
    "start_time": "2023-01-16T12:12:22.516Z"
   },
   {
    "duration": 18,
    "start_time": "2023-01-16T12:12:33.360Z"
   },
   {
    "duration": 14,
    "start_time": "2023-01-16T12:12:39.296Z"
   },
   {
    "duration": 3,
    "start_time": "2023-01-16T12:35:14.928Z"
   },
   {
    "duration": 7,
    "start_time": "2023-01-16T12:35:19.297Z"
   },
   {
    "duration": 47,
    "start_time": "2023-01-16T12:37:06.126Z"
   },
   {
    "duration": 11,
    "start_time": "2023-01-16T12:37:50.837Z"
   },
   {
    "duration": 39,
    "start_time": "2023-01-16T12:37:58.045Z"
   },
   {
    "duration": 5,
    "start_time": "2023-01-16T12:38:14.533Z"
   },
   {
    "duration": 64,
    "start_time": "2023-01-16T12:39:26.451Z"
   },
   {
    "duration": 10,
    "start_time": "2023-01-16T12:40:18.498Z"
   },
   {
    "duration": 4,
    "start_time": "2023-01-16T12:45:11.069Z"
   },
   {
    "duration": 3,
    "start_time": "2023-01-16T12:45:16.861Z"
   },
   {
    "duration": 3,
    "start_time": "2023-01-16T12:45:21.357Z"
   },
   {
    "duration": 4,
    "start_time": "2023-01-16T12:45:54.318Z"
   },
   {
    "duration": 5,
    "start_time": "2023-01-16T12:46:09.804Z"
   },
   {
    "duration": 4,
    "start_time": "2023-01-16T12:50:58.854Z"
   },
   {
    "duration": 3,
    "start_time": "2023-01-16T12:51:11.294Z"
   },
   {
    "duration": 4,
    "start_time": "2023-01-16T12:51:36.829Z"
   },
   {
    "duration": 3,
    "start_time": "2023-01-16T12:52:29.901Z"
   },
   {
    "duration": 5,
    "start_time": "2023-01-16T12:52:40.980Z"
   },
   {
    "duration": 5,
    "start_time": "2023-01-16T12:54:27.061Z"
   },
   {
    "duration": 63,
    "start_time": "2023-01-16T12:54:56.615Z"
   },
   {
    "duration": 9,
    "start_time": "2023-01-16T12:56:33.280Z"
   },
   {
    "duration": 9,
    "start_time": "2023-01-16T12:56:41.424Z"
   },
   {
    "duration": 9,
    "start_time": "2023-01-16T13:00:46.019Z"
   },
   {
    "duration": 70,
    "start_time": "2023-01-16T13:01:07.235Z"
   },
   {
    "duration": 65,
    "start_time": "2023-01-16T13:03:41.265Z"
   },
   {
    "duration": 11,
    "start_time": "2023-01-16T13:23:41.098Z"
   },
   {
    "duration": 12,
    "start_time": "2023-01-16T13:23:50.102Z"
   },
   {
    "duration": 11,
    "start_time": "2023-01-16T13:23:50.840Z"
   },
   {
    "duration": 4,
    "start_time": "2023-01-16T13:23:58.932Z"
   },
   {
    "duration": 69,
    "start_time": "2023-01-16T13:23:59.114Z"
   },
   {
    "duration": 11,
    "start_time": "2023-01-16T13:23:59.489Z"
   },
   {
    "duration": 11,
    "start_time": "2023-01-16T13:23:59.864Z"
   },
   {
    "duration": 7,
    "start_time": "2023-01-16T13:24:00.047Z"
   },
   {
    "duration": 3,
    "start_time": "2023-01-16T13:24:00.612Z"
   },
   {
    "duration": 10,
    "start_time": "2023-01-16T13:24:01.020Z"
   },
   {
    "duration": 13,
    "start_time": "2023-01-16T13:24:01.220Z"
   },
   {
    "duration": 10,
    "start_time": "2023-01-16T13:24:01.408Z"
   },
   {
    "duration": 11,
    "start_time": "2023-01-16T13:24:01.606Z"
   },
   {
    "duration": 3,
    "start_time": "2023-01-16T13:24:01.807Z"
   },
   {
    "duration": 3,
    "start_time": "2023-01-16T13:24:02.014Z"
   },
   {
    "duration": 5,
    "start_time": "2023-01-16T13:24:02.196Z"
   },
   {
    "duration": 12,
    "start_time": "2023-01-16T13:24:02.387Z"
   },
   {
    "duration": 10,
    "start_time": "2023-01-16T13:24:02.591Z"
   },
   {
    "duration": 83,
    "start_time": "2023-01-16T13:24:02.783Z"
   },
   {
    "duration": 4,
    "start_time": "2023-01-16T13:24:02.984Z"
   },
   {
    "duration": 8,
    "start_time": "2023-01-16T13:24:03.199Z"
   },
   {
    "duration": 4,
    "start_time": "2023-01-16T13:24:04.245Z"
   },
   {
    "duration": 3,
    "start_time": "2023-01-16T13:24:04.462Z"
   },
   {
    "duration": 10,
    "start_time": "2023-01-16T13:24:04.697Z"
   },
   {
    "duration": 5,
    "start_time": "2023-01-16T13:24:05.770Z"
   },
   {
    "duration": 13,
    "start_time": "2023-01-16T13:24:05.973Z"
   },
   {
    "duration": 3,
    "start_time": "2023-01-16T13:24:07.519Z"
   },
   {
    "duration": 4,
    "start_time": "2023-01-16T13:24:08.204Z"
   },
   {
    "duration": 9,
    "start_time": "2023-01-16T13:24:08.694Z"
   },
   {
    "duration": 58,
    "start_time": "2023-01-16T13:24:08.941Z"
   },
   {
    "duration": 286,
    "start_time": "2023-01-16T13:24:10.376Z"
   },
   {
    "duration": 242,
    "start_time": "2023-01-16T13:24:12.294Z"
   },
   {
    "duration": 188,
    "start_time": "2023-01-16T13:24:14.521Z"
   },
   {
    "duration": 360,
    "start_time": "2023-01-16T13:24:18.103Z"
   },
   {
    "duration": 139,
    "start_time": "2023-01-16T13:24:22.068Z"
   },
   {
    "duration": 201,
    "start_time": "2023-01-16T13:24:35.410Z"
   },
   {
    "duration": 187,
    "start_time": "2023-01-16T14:36:59.236Z"
   },
   {
    "duration": 187,
    "start_time": "2023-01-16T14:45:12.246Z"
   },
   {
    "duration": 13,
    "start_time": "2023-01-16T14:46:12.624Z"
   },
   {
    "duration": 24,
    "start_time": "2023-01-16T14:53:34.765Z"
   },
   {
    "duration": 276,
    "start_time": "2023-01-16T14:55:09.607Z"
   },
   {
    "duration": 303,
    "start_time": "2023-01-16T14:58:21.820Z"
   },
   {
    "duration": 297,
    "start_time": "2023-01-16T14:58:56.303Z"
   },
   {
    "duration": 284,
    "start_time": "2023-01-16T14:59:14.145Z"
   },
   {
    "duration": 20,
    "start_time": "2023-01-16T15:10:04.813Z"
   },
   {
    "duration": 277,
    "start_time": "2023-01-16T15:10:29.811Z"
   },
   {
    "duration": 282,
    "start_time": "2023-01-16T15:10:58.227Z"
   },
   {
    "duration": 255,
    "start_time": "2023-01-16T15:11:11.850Z"
   },
   {
    "duration": 14,
    "start_time": "2023-01-16T15:12:13.565Z"
   },
   {
    "duration": 198,
    "start_time": "2023-01-16T15:12:17.874Z"
   },
   {
    "duration": 4,
    "start_time": "2023-01-16T15:25:05.371Z"
   },
   {
    "duration": 4,
    "start_time": "2023-01-16T15:25:13.575Z"
   },
   {
    "duration": 9,
    "start_time": "2023-01-16T15:26:39.441Z"
   },
   {
    "duration": 10,
    "start_time": "2023-01-16T15:26:46.088Z"
   },
   {
    "duration": 350,
    "start_time": "2023-01-16T15:26:46.820Z"
   },
   {
    "duration": 3,
    "start_time": "2023-01-16T15:26:53.874Z"
   },
   {
    "duration": 69,
    "start_time": "2023-01-16T15:26:54.058Z"
   },
   {
    "duration": 11,
    "start_time": "2023-01-16T15:26:54.429Z"
   },
   {
    "duration": 10,
    "start_time": "2023-01-16T15:26:54.775Z"
   },
   {
    "duration": 7,
    "start_time": "2023-01-16T15:26:54.972Z"
   },
   {
    "duration": 3,
    "start_time": "2023-01-16T15:26:55.540Z"
   },
   {
    "duration": 10,
    "start_time": "2023-01-16T15:26:55.913Z"
   },
   {
    "duration": 11,
    "start_time": "2023-01-16T15:26:56.108Z"
   },
   {
    "duration": 10,
    "start_time": "2023-01-16T15:26:56.295Z"
   },
   {
    "duration": 11,
    "start_time": "2023-01-16T15:26:56.484Z"
   },
   {
    "duration": 3,
    "start_time": "2023-01-16T15:26:56.670Z"
   },
   {
    "duration": 2,
    "start_time": "2023-01-16T15:26:56.863Z"
   },
   {
    "duration": 5,
    "start_time": "2023-01-16T15:26:57.051Z"
   },
   {
    "duration": 11,
    "start_time": "2023-01-16T15:26:57.242Z"
   },
   {
    "duration": 10,
    "start_time": "2023-01-16T15:26:57.443Z"
   },
   {
    "duration": 9,
    "start_time": "2023-01-16T15:26:57.620Z"
   },
   {
    "duration": 4,
    "start_time": "2023-01-16T15:26:57.826Z"
   },
   {
    "duration": 9,
    "start_time": "2023-01-16T15:26:58.037Z"
   },
   {
    "duration": 4,
    "start_time": "2023-01-16T15:26:59.057Z"
   },
   {
    "duration": 2,
    "start_time": "2023-01-16T15:26:59.254Z"
   },
   {
    "duration": 9,
    "start_time": "2023-01-16T15:26:59.466Z"
   },
   {
    "duration": 4,
    "start_time": "2023-01-16T15:27:00.075Z"
   },
   {
    "duration": 13,
    "start_time": "2023-01-16T15:27:00.267Z"
   },
   {
    "duration": 4,
    "start_time": "2023-01-16T15:27:01.533Z"
   },
   {
    "duration": 5,
    "start_time": "2023-01-16T15:27:01.974Z"
   },
   {
    "duration": 10,
    "start_time": "2023-01-16T15:27:02.447Z"
   },
   {
    "duration": 61,
    "start_time": "2023-01-16T15:27:02.653Z"
   },
   {
    "duration": 264,
    "start_time": "2023-01-16T15:27:03.481Z"
   },
   {
    "duration": 200,
    "start_time": "2023-01-16T15:27:04.413Z"
   },
   {
    "duration": 214,
    "start_time": "2023-01-16T15:27:05.318Z"
   },
   {
    "duration": 269,
    "start_time": "2023-01-16T15:27:06.161Z"
   },
   {
    "duration": 14,
    "start_time": "2023-01-16T15:27:07.041Z"
   },
   {
    "duration": 271,
    "start_time": "2023-01-16T15:27:07.273Z"
   },
   {
    "duration": 278,
    "start_time": "2023-01-16T15:27:09.695Z"
   },
   {
    "duration": 228,
    "start_time": "2023-01-16T15:27:12.408Z"
   },
   {
    "duration": 4,
    "start_time": "2023-01-16T15:27:15.116Z"
   },
   {
    "duration": 344,
    "start_time": "2023-01-16T15:27:19.707Z"
   },
   {
    "duration": 4,
    "start_time": "2023-01-16T15:27:36.699Z"
   },
   {
    "duration": 4,
    "start_time": "2023-01-16T15:27:40.735Z"
   },
   {
    "duration": 33,
    "start_time": "2023-01-16T15:27:44.828Z"
   },
   {
    "duration": 12,
    "start_time": "2023-01-16T15:27:49.217Z"
   },
   {
    "duration": 11,
    "start_time": "2023-01-16T15:28:50.014Z"
   },
   {
    "duration": 4,
    "start_time": "2023-01-16T15:29:01.313Z"
   },
   {
    "duration": 356,
    "start_time": "2023-01-16T15:29:03.010Z"
   },
   {
    "duration": 5,
    "start_time": "2023-01-16T15:29:05.151Z"
   },
   {
    "duration": 36,
    "start_time": "2023-01-16T15:29:08.135Z"
   },
   {
    "duration": 10,
    "start_time": "2023-01-16T15:29:11.936Z"
   },
   {
    "duration": 12,
    "start_time": "2023-01-16T15:29:14.284Z"
   },
   {
    "duration": 7,
    "start_time": "2023-01-16T15:29:25.958Z"
   },
   {
    "duration": 11,
    "start_time": "2023-01-16T15:29:30.270Z"
   },
   {
    "duration": 9,
    "start_time": "2023-01-16T15:29:38.501Z"
   },
   {
    "duration": 7,
    "start_time": "2023-01-16T15:29:42.638Z"
   },
   {
    "duration": 1075,
    "start_time": "2023-01-16T15:35:37.751Z"
   },
   {
    "duration": 71,
    "start_time": "2023-01-16T15:35:38.827Z"
   },
   {
    "duration": 51,
    "start_time": "2023-01-16T15:35:38.900Z"
   },
   {
    "duration": 11,
    "start_time": "2023-01-16T15:35:38.952Z"
   },
   {
    "duration": 11,
    "start_time": "2023-01-16T15:35:38.965Z"
   },
   {
    "duration": 3,
    "start_time": "2023-01-16T15:35:38.978Z"
   },
   {
    "duration": 20,
    "start_time": "2023-01-16T15:35:38.983Z"
   },
   {
    "duration": 25,
    "start_time": "2023-01-16T15:35:39.005Z"
   },
   {
    "duration": 16,
    "start_time": "2023-01-16T15:35:39.031Z"
   },
   {
    "duration": 14,
    "start_time": "2023-01-16T15:35:39.049Z"
   },
   {
    "duration": 5,
    "start_time": "2023-01-16T15:35:39.065Z"
   },
   {
    "duration": 10,
    "start_time": "2023-01-16T15:35:39.071Z"
   },
   {
    "duration": 10,
    "start_time": "2023-01-16T15:35:39.082Z"
   },
   {
    "duration": 12,
    "start_time": "2023-01-16T15:35:39.093Z"
   },
   {
    "duration": 23,
    "start_time": "2023-01-16T15:35:39.107Z"
   },
   {
    "duration": 13,
    "start_time": "2023-01-16T15:35:39.131Z"
   },
   {
    "duration": 7,
    "start_time": "2023-01-16T15:35:39.145Z"
   },
   {
    "duration": 11,
    "start_time": "2023-01-16T15:35:39.153Z"
   },
   {
    "duration": 4,
    "start_time": "2023-01-16T15:35:39.166Z"
   },
   {
    "duration": 8,
    "start_time": "2023-01-16T15:35:39.172Z"
   },
   {
    "duration": 14,
    "start_time": "2023-01-16T15:35:39.182Z"
   },
   {
    "duration": 6,
    "start_time": "2023-01-16T15:35:39.197Z"
   },
   {
    "duration": 30,
    "start_time": "2023-01-16T15:35:39.204Z"
   },
   {
    "duration": 4,
    "start_time": "2023-01-16T15:35:39.236Z"
   },
   {
    "duration": 7,
    "start_time": "2023-01-16T15:35:39.241Z"
   },
   {
    "duration": 13,
    "start_time": "2023-01-16T15:35:39.249Z"
   },
   {
    "duration": 62,
    "start_time": "2023-01-16T15:35:39.264Z"
   },
   {
    "duration": 274,
    "start_time": "2023-01-16T15:35:39.330Z"
   },
   {
    "duration": 261,
    "start_time": "2023-01-16T15:35:39.605Z"
   },
   {
    "duration": 188,
    "start_time": "2023-01-16T15:35:39.868Z"
   },
   {
    "duration": 265,
    "start_time": "2023-01-16T15:35:40.059Z"
   },
   {
    "duration": 14,
    "start_time": "2023-01-16T15:35:40.326Z"
   },
   {
    "duration": 217,
    "start_time": "2023-01-16T15:35:40.342Z"
   },
   {
    "duration": 260,
    "start_time": "2023-01-16T15:35:40.561Z"
   },
   {
    "duration": 310,
    "start_time": "2023-01-16T15:35:40.823Z"
   },
   {
    "duration": 4,
    "start_time": "2023-01-16T15:35:41.136Z"
   },
   {
    "duration": 383,
    "start_time": "2023-01-16T15:35:41.142Z"
   },
   {
    "duration": 5,
    "start_time": "2023-01-16T15:35:41.527Z"
   },
   {
    "duration": 50,
    "start_time": "2023-01-16T15:35:41.533Z"
   },
   {
    "duration": 10,
    "start_time": "2023-01-16T15:35:41.586Z"
   },
   {
    "duration": 7,
    "start_time": "2023-01-16T15:35:41.597Z"
   },
   {
    "duration": 7,
    "start_time": "2023-01-16T15:35:41.621Z"
   },
   {
    "duration": 16,
    "start_time": "2023-01-16T15:35:41.629Z"
   },
   {
    "duration": 20,
    "start_time": "2023-01-16T15:35:41.647Z"
   },
   {
    "duration": 12,
    "start_time": "2023-01-16T15:35:41.668Z"
   },
   {
    "duration": 1268,
    "start_time": "2023-01-17T05:02:21.808Z"
   },
   {
    "duration": 194,
    "start_time": "2023-01-17T05:02:23.078Z"
   },
   {
    "duration": 55,
    "start_time": "2023-01-17T05:02:23.275Z"
   },
   {
    "duration": 12,
    "start_time": "2023-01-17T05:02:23.332Z"
   },
   {
    "duration": 12,
    "start_time": "2023-01-17T05:02:23.346Z"
   },
   {
    "duration": 12,
    "start_time": "2023-01-17T05:02:23.360Z"
   },
   {
    "duration": 43,
    "start_time": "2023-01-17T05:02:23.373Z"
   },
   {
    "duration": 36,
    "start_time": "2023-01-17T05:02:23.418Z"
   },
   {
    "duration": 32,
    "start_time": "2023-01-17T05:02:23.455Z"
   },
   {
    "duration": 35,
    "start_time": "2023-01-17T05:02:23.490Z"
   },
   {
    "duration": 25,
    "start_time": "2023-01-17T05:02:23.527Z"
   },
   {
    "duration": 7,
    "start_time": "2023-01-17T05:02:23.554Z"
   },
   {
    "duration": 22,
    "start_time": "2023-01-17T05:02:23.562Z"
   },
   {
    "duration": 17,
    "start_time": "2023-01-17T05:02:23.586Z"
   },
   {
    "duration": 39,
    "start_time": "2023-01-17T05:02:23.605Z"
   },
   {
    "duration": 35,
    "start_time": "2023-01-17T05:02:23.646Z"
   },
   {
    "duration": 17,
    "start_time": "2023-01-17T05:02:23.683Z"
   },
   {
    "duration": 40,
    "start_time": "2023-01-17T05:02:23.702Z"
   },
   {
    "duration": 21,
    "start_time": "2023-01-17T05:02:23.744Z"
   },
   {
    "duration": 8,
    "start_time": "2023-01-17T05:02:23.767Z"
   },
   {
    "duration": 19,
    "start_time": "2023-01-17T05:02:23.777Z"
   },
   {
    "duration": 34,
    "start_time": "2023-01-17T05:02:23.797Z"
   },
   {
    "duration": 25,
    "start_time": "2023-01-17T05:02:23.832Z"
   },
   {
    "duration": 6,
    "start_time": "2023-01-17T05:02:23.859Z"
   },
   {
    "duration": 23,
    "start_time": "2023-01-17T05:02:23.867Z"
   },
   {
    "duration": 21,
    "start_time": "2023-01-17T05:02:23.892Z"
   },
   {
    "duration": 102,
    "start_time": "2023-01-17T05:02:23.914Z"
   },
   {
    "duration": 353,
    "start_time": "2023-01-17T05:02:24.019Z"
   },
   {
    "duration": 591,
    "start_time": "2023-01-17T05:02:24.374Z"
   },
   {
    "duration": 412,
    "start_time": "2023-01-17T05:02:24.967Z"
   },
   {
    "duration": 604,
    "start_time": "2023-01-17T05:02:25.381Z"
   },
   {
    "duration": 65,
    "start_time": "2023-01-17T05:02:25.987Z"
   },
   {
    "duration": 337,
    "start_time": "2023-01-17T05:02:26.053Z"
   },
   {
    "duration": 283,
    "start_time": "2023-01-17T05:02:26.393Z"
   },
   {
    "duration": 374,
    "start_time": "2023-01-17T05:02:26.678Z"
   },
   {
    "duration": 4,
    "start_time": "2023-01-17T05:02:27.054Z"
   },
   {
    "duration": 436,
    "start_time": "2023-01-17T05:02:27.060Z"
   },
   {
    "duration": 4,
    "start_time": "2023-01-17T05:02:27.498Z"
   },
   {
    "duration": 53,
    "start_time": "2023-01-17T05:02:27.503Z"
   },
   {
    "duration": 11,
    "start_time": "2023-01-17T05:02:27.558Z"
   },
   {
    "duration": 8,
    "start_time": "2023-01-17T05:02:27.570Z"
   },
   {
    "duration": 11,
    "start_time": "2023-01-17T05:02:27.580Z"
   },
   {
    "duration": 14,
    "start_time": "2023-01-17T05:02:27.592Z"
   },
   {
    "duration": 46,
    "start_time": "2023-01-17T05:02:27.607Z"
   },
   {
    "duration": 14,
    "start_time": "2023-01-17T05:02:27.655Z"
   },
   {
    "duration": 1166,
    "start_time": "2023-02-26T05:45:28.344Z"
   },
   {
    "duration": 225,
    "start_time": "2023-02-26T05:45:29.512Z"
   },
   {
    "duration": 50,
    "start_time": "2023-02-26T05:45:29.738Z"
   },
   {
    "duration": 10,
    "start_time": "2023-02-26T05:45:29.790Z"
   },
   {
    "duration": 13,
    "start_time": "2023-02-26T05:45:29.802Z"
   },
   {
    "duration": 3,
    "start_time": "2023-02-26T05:45:29.816Z"
   },
   {
    "duration": 26,
    "start_time": "2023-02-26T05:45:29.821Z"
   },
   {
    "duration": 13,
    "start_time": "2023-02-26T05:45:29.849Z"
   },
   {
    "duration": 12,
    "start_time": "2023-02-26T05:45:29.863Z"
   },
   {
    "duration": 13,
    "start_time": "2023-02-26T05:45:29.877Z"
   },
   {
    "duration": 10,
    "start_time": "2023-02-26T05:45:29.892Z"
   },
   {
    "duration": 6,
    "start_time": "2023-02-26T05:45:29.903Z"
   },
   {
    "duration": 9,
    "start_time": "2023-02-26T05:45:29.910Z"
   },
   {
    "duration": 30,
    "start_time": "2023-02-26T05:45:29.921Z"
   },
   {
    "duration": 10,
    "start_time": "2023-02-26T05:45:29.952Z"
   },
   {
    "duration": 11,
    "start_time": "2023-02-26T05:45:29.963Z"
   },
   {
    "duration": 5,
    "start_time": "2023-02-26T05:45:29.975Z"
   },
   {
    "duration": 11,
    "start_time": "2023-02-26T05:45:29.981Z"
   },
   {
    "duration": 4,
    "start_time": "2023-02-26T05:45:29.993Z"
   },
   {
    "duration": 5,
    "start_time": "2023-02-26T05:45:29.999Z"
   },
   {
    "duration": 40,
    "start_time": "2023-02-26T05:45:30.006Z"
   },
   {
    "duration": 26,
    "start_time": "2023-02-26T05:45:30.048Z"
   },
   {
    "duration": 25,
    "start_time": "2023-02-26T05:45:30.076Z"
   },
   {
    "duration": 11,
    "start_time": "2023-02-26T05:45:30.103Z"
   },
   {
    "duration": 11,
    "start_time": "2023-02-26T05:45:30.116Z"
   },
   {
    "duration": 12,
    "start_time": "2023-02-26T05:45:30.129Z"
   },
   {
    "duration": 71,
    "start_time": "2023-02-26T05:45:30.142Z"
   },
   {
    "duration": 331,
    "start_time": "2023-02-26T05:45:30.215Z"
   },
   {
    "duration": 306,
    "start_time": "2023-02-26T05:45:30.549Z"
   },
   {
    "duration": 220,
    "start_time": "2023-02-26T05:45:30.857Z"
   },
   {
    "duration": 303,
    "start_time": "2023-02-26T05:45:31.079Z"
   },
   {
    "duration": 14,
    "start_time": "2023-02-26T05:45:31.385Z"
   },
   {
    "duration": 281,
    "start_time": "2023-02-26T05:45:31.401Z"
   },
   {
    "duration": 297,
    "start_time": "2023-02-26T05:45:31.684Z"
   },
   {
    "duration": 364,
    "start_time": "2023-02-26T05:45:31.983Z"
   },
   {
    "duration": 5,
    "start_time": "2023-02-26T05:45:32.349Z"
   },
   {
    "duration": 412,
    "start_time": "2023-02-26T05:45:32.355Z"
   },
   {
    "duration": 4,
    "start_time": "2023-02-26T05:45:32.769Z"
   },
   {
    "duration": 37,
    "start_time": "2023-02-26T05:45:32.775Z"
   },
   {
    "duration": 33,
    "start_time": "2023-02-26T05:45:32.814Z"
   },
   {
    "duration": 7,
    "start_time": "2023-02-26T05:45:32.852Z"
   },
   {
    "duration": 11,
    "start_time": "2023-02-26T05:45:32.861Z"
   },
   {
    "duration": 13,
    "start_time": "2023-02-26T05:45:32.873Z"
   },
   {
    "duration": 27,
    "start_time": "2023-02-26T05:45:32.887Z"
   },
   {
    "duration": 39,
    "start_time": "2023-02-26T05:45:32.915Z"
   },
   {
    "duration": 1274,
    "start_time": "2023-03-08T10:15:13.452Z"
   },
   {
    "duration": 199,
    "start_time": "2023-03-08T10:15:14.728Z"
   },
   {
    "duration": 54,
    "start_time": "2023-03-08T10:15:14.930Z"
   },
   {
    "duration": 12,
    "start_time": "2023-03-08T10:15:14.986Z"
   },
   {
    "duration": 43,
    "start_time": "2023-03-08T10:15:15.000Z"
   },
   {
    "duration": 3,
    "start_time": "2023-03-08T10:15:15.045Z"
   },
   {
    "duration": 14,
    "start_time": "2023-03-08T10:15:15.050Z"
   },
   {
    "duration": 14,
    "start_time": "2023-03-08T10:15:15.065Z"
   },
   {
    "duration": 11,
    "start_time": "2023-03-08T10:15:15.080Z"
   },
   {
    "duration": 12,
    "start_time": "2023-03-08T10:15:15.093Z"
   },
   {
    "duration": 10,
    "start_time": "2023-03-08T10:15:15.106Z"
   },
   {
    "duration": 8,
    "start_time": "2023-03-08T10:15:15.118Z"
   },
   {
    "duration": 14,
    "start_time": "2023-03-08T10:15:15.127Z"
   },
   {
    "duration": 16,
    "start_time": "2023-03-08T10:15:15.145Z"
   },
   {
    "duration": 14,
    "start_time": "2023-03-08T10:15:15.163Z"
   },
   {
    "duration": 45,
    "start_time": "2023-03-08T10:15:15.179Z"
   },
   {
    "duration": 6,
    "start_time": "2023-03-08T10:15:15.226Z"
   },
   {
    "duration": 14,
    "start_time": "2023-03-08T10:15:15.234Z"
   },
   {
    "duration": 4,
    "start_time": "2023-03-08T10:15:15.250Z"
   },
   {
    "duration": 4,
    "start_time": "2023-03-08T10:15:15.256Z"
   },
   {
    "duration": 15,
    "start_time": "2023-03-08T10:15:15.262Z"
   },
   {
    "duration": 38,
    "start_time": "2023-03-08T10:15:15.279Z"
   },
   {
    "duration": 27,
    "start_time": "2023-03-08T10:15:15.319Z"
   },
   {
    "duration": 8,
    "start_time": "2023-03-08T10:15:15.348Z"
   },
   {
    "duration": 22,
    "start_time": "2023-03-08T10:15:15.358Z"
   },
   {
    "duration": 15,
    "start_time": "2023-03-08T10:15:15.381Z"
   },
   {
    "duration": 80,
    "start_time": "2023-03-08T10:15:15.398Z"
   },
   {
    "duration": 349,
    "start_time": "2023-03-08T10:15:15.480Z"
   },
   {
    "duration": 317,
    "start_time": "2023-03-08T10:15:15.833Z"
   },
   {
    "duration": 234,
    "start_time": "2023-03-08T10:15:16.151Z"
   },
   {
    "duration": 349,
    "start_time": "2023-03-08T10:15:16.387Z"
   },
   {
    "duration": 17,
    "start_time": "2023-03-08T10:15:16.739Z"
   },
   {
    "duration": 270,
    "start_time": "2023-03-08T10:15:16.757Z"
   },
   {
    "duration": 327,
    "start_time": "2023-03-08T10:15:17.029Z"
   },
   {
    "duration": 379,
    "start_time": "2023-03-08T10:15:17.358Z"
   },
   {
    "duration": 6,
    "start_time": "2023-03-08T10:15:17.739Z"
   },
   {
    "duration": 469,
    "start_time": "2023-03-08T10:15:17.747Z"
   },
   {
    "duration": 5,
    "start_time": "2023-03-08T10:15:18.218Z"
   },
   {
    "duration": 39,
    "start_time": "2023-03-08T10:15:18.226Z"
   },
   {
    "duration": 11,
    "start_time": "2023-03-08T10:15:18.267Z"
   },
   {
    "duration": 12,
    "start_time": "2023-03-08T10:15:18.313Z"
   },
   {
    "duration": 12,
    "start_time": "2023-03-08T10:15:18.328Z"
   },
   {
    "duration": 11,
    "start_time": "2023-03-08T10:15:18.342Z"
   },
   {
    "duration": 24,
    "start_time": "2023-03-08T10:15:18.354Z"
   },
   {
    "duration": 51,
    "start_time": "2023-03-08T10:15:18.380Z"
   }
  ],
  "kernelspec": {
   "display_name": "Python 3 (ipykernel)",
   "language": "python",
   "name": "python3"
  },
  "language_info": {
   "codemirror_mode": {
    "name": "ipython",
    "version": 3
   },
   "file_extension": ".py",
   "mimetype": "text/x-python",
   "name": "python",
   "nbconvert_exporter": "python",
   "pygments_lexer": "ipython3",
   "version": "3.9.13"
  },
  "toc": {
   "base_numbering": 1,
   "nav_menu": {},
   "number_sections": true,
   "sideBar": true,
   "skip_h1_title": true,
   "title_cell": "Table of Contents",
   "title_sidebar": "Contents",
   "toc_cell": false,
   "toc_position": {
    "height": "calc(100% - 180px)",
    "left": "10px",
    "top": "150px",
    "width": "288px"
   },
   "toc_section_display": true,
   "toc_window_display": true
  }
 },
 "nbformat": 4,
 "nbformat_minor": 2
}
