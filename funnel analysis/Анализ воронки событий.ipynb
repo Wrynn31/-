{
 "cells": [
  {
   "cell_type": "markdown",
   "metadata": {},
   "source": [
    "---"
   ]
  },
  {
   "cell_type": "markdown",
   "metadata": {},
   "source": [
    "### Описание проекта\n",
    "<em> Я работаю в стартапе, который продаёт продукты питания. Нужно разобраться, как ведут себя пользователи вашего мобильного приложения. \n",
    "\n",
    "#### Цель исследования\n",
    "<em> Изучение воронки событий пользователей мобильного приложения.\n",
    "\n",
    "#### Ход исследования\n",
    "1. <em> Выполнить обзор и предобработку данных;\n",
    "2. <em> Изучить и проверить данные;\n",
    "3. <em> Анализ воронки событий;\n",
    "4. <em> Анализ результатов эксперимента;\n",
    "5. <em> Выводы."
   ]
  },
  {
   "cell_type": "markdown",
   "metadata": {},
   "source": [
    "### Обзор и предобработка данных"
   ]
  },
  {
   "cell_type": "code",
   "execution_count": 1,
   "metadata": {},
   "outputs": [],
   "source": [
    "import pandas as pd\n",
    "import numpy as np\n",
    "import math as mth\n",
    "import seaborn as sns\n",
    "import matplotlib.pyplot as plt\n",
    "from scipy import stats as st\n",
    "from plotly import graph_objects as go"
   ]
  },
  {
   "cell_type": "code",
   "execution_count": 50,
   "metadata": {},
   "outputs": [],
   "source": [
    "try:\n",
    "    df = pd.read_csv('logs_exp.csv',  delimiter='\\t')\n",
    "except:\n",
    "    print('FileNotFoundError')"
   ]
  },
  {
   "cell_type": "code",
   "execution_count": 51,
   "metadata": {},
   "outputs": [
    {
     "data": {
      "text/html": [
       "<div>\n",
       "<style scoped>\n",
       "    .dataframe tbody tr th:only-of-type {\n",
       "        vertical-align: middle;\n",
       "    }\n",
       "\n",
       "    .dataframe tbody tr th {\n",
       "        vertical-align: top;\n",
       "    }\n",
       "\n",
       "    .dataframe thead th {\n",
       "        text-align: right;\n",
       "    }\n",
       "</style>\n",
       "<table border=\"1\" class=\"dataframe\">\n",
       "  <thead>\n",
       "    <tr style=\"text-align: right;\">\n",
       "      <th></th>\n",
       "      <th>EventName</th>\n",
       "      <th>DeviceIDHash</th>\n",
       "      <th>EventTimestamp</th>\n",
       "      <th>ExpId</th>\n",
       "    </tr>\n",
       "  </thead>\n",
       "  <tbody>\n",
       "    <tr>\n",
       "      <th>0</th>\n",
       "      <td>MainScreenAppear</td>\n",
       "      <td>4575588528974610257</td>\n",
       "      <td>1564029816</td>\n",
       "      <td>246</td>\n",
       "    </tr>\n",
       "    <tr>\n",
       "      <th>1</th>\n",
       "      <td>MainScreenAppear</td>\n",
       "      <td>7416695313311560658</td>\n",
       "      <td>1564053102</td>\n",
       "      <td>246</td>\n",
       "    </tr>\n",
       "    <tr>\n",
       "      <th>2</th>\n",
       "      <td>PaymentScreenSuccessful</td>\n",
       "      <td>3518123091307005509</td>\n",
       "      <td>1564054127</td>\n",
       "      <td>248</td>\n",
       "    </tr>\n",
       "    <tr>\n",
       "      <th>3</th>\n",
       "      <td>CartScreenAppear</td>\n",
       "      <td>3518123091307005509</td>\n",
       "      <td>1564054127</td>\n",
       "      <td>248</td>\n",
       "    </tr>\n",
       "    <tr>\n",
       "      <th>4</th>\n",
       "      <td>PaymentScreenSuccessful</td>\n",
       "      <td>6217807653094995999</td>\n",
       "      <td>1564055322</td>\n",
       "      <td>248</td>\n",
       "    </tr>\n",
       "  </tbody>\n",
       "</table>\n",
       "</div>"
      ],
      "text/plain": [
       "                 EventName         DeviceIDHash  EventTimestamp  ExpId\n",
       "0         MainScreenAppear  4575588528974610257      1564029816    246\n",
       "1         MainScreenAppear  7416695313311560658      1564053102    246\n",
       "2  PaymentScreenSuccessful  3518123091307005509      1564054127    248\n",
       "3         CartScreenAppear  3518123091307005509      1564054127    248\n",
       "4  PaymentScreenSuccessful  6217807653094995999      1564055322    248"
      ]
     },
     "execution_count": 51,
     "metadata": {},
     "output_type": "execute_result"
    }
   ],
   "source": [
    "df.head()"
   ]
  },
  {
   "cell_type": "code",
   "execution_count": 3,
   "metadata": {},
   "outputs": [
    {
     "name": "stdout",
     "output_type": "stream",
     "text": [
      "<class 'pandas.core.frame.DataFrame'>\n",
      "RangeIndex: 244126 entries, 0 to 244125\n",
      "Data columns (total 4 columns):\n",
      " #   Column          Non-Null Count   Dtype \n",
      "---  ------          --------------   ----- \n",
      " 0   EventName       244126 non-null  object\n",
      " 1   DeviceIDHash    244126 non-null  int64 \n",
      " 2   EventTimestamp  244126 non-null  int64 \n",
      " 3   ExpId           244126 non-null  int64 \n",
      "dtypes: int64(3), object(1)\n",
      "memory usage: 7.5+ MB\n"
     ]
    }
   ],
   "source": [
    "df.info()"
   ]
  },
  {
   "cell_type": "code",
   "execution_count": 4,
   "metadata": {},
   "outputs": [
    {
     "data": {
      "text/html": [
       "<style  type=\"text/css\" >\n",
       "#T_1ead6_row0_col0,#T_1ead6_row1_col0,#T_1ead6_row2_col0,#T_1ead6_row3_col0{\n",
       "            background-color:  #3b4cc0;\n",
       "            color:  #f1f1f1;\n",
       "        }</style><table id=\"T_1ead6_\" ><thead>    <tr>        <th class=\"blank level0\" ></th>        <th class=\"col_heading level0 col0\" >0</th>    </tr></thead><tbody>\n",
       "                <tr>\n",
       "                        <th id=\"T_1ead6_level0_row0\" class=\"row_heading level0 row0\" >EventName</th>\n",
       "                        <td id=\"T_1ead6_row0_col0\" class=\"data row0 col0\" >0.000000</td>\n",
       "            </tr>\n",
       "            <tr>\n",
       "                        <th id=\"T_1ead6_level0_row1\" class=\"row_heading level0 row1\" >DeviceIDHash</th>\n",
       "                        <td id=\"T_1ead6_row1_col0\" class=\"data row1 col0\" >0.000000</td>\n",
       "            </tr>\n",
       "            <tr>\n",
       "                        <th id=\"T_1ead6_level0_row2\" class=\"row_heading level0 row2\" >EventTimestamp</th>\n",
       "                        <td id=\"T_1ead6_row2_col0\" class=\"data row2 col0\" >0.000000</td>\n",
       "            </tr>\n",
       "            <tr>\n",
       "                        <th id=\"T_1ead6_level0_row3\" class=\"row_heading level0 row3\" >ExpId</th>\n",
       "                        <td id=\"T_1ead6_row3_col0\" class=\"data row3 col0\" >0.000000</td>\n",
       "            </tr>\n",
       "    </tbody></table>"
      ],
      "text/plain": [
       "<pandas.io.formats.style.Styler at 0x27368bca970>"
      ]
     },
     "execution_count": 4,
     "metadata": {},
     "output_type": "execute_result"
    }
   ],
   "source": [
    "pd.DataFrame(round(df.isna().mean()*100,)).style.background_gradient('coolwarm')"
   ]
  },
  {
   "cell_type": "code",
   "execution_count": 5,
   "metadata": {},
   "outputs": [
    {
     "data": {
      "text/plain": [
       "413"
      ]
     },
     "execution_count": 5,
     "metadata": {},
     "output_type": "execute_result"
    }
   ],
   "source": [
    "df.duplicated().sum()"
   ]
  },
  {
   "cell_type": "code",
   "execution_count": 6,
   "metadata": {},
   "outputs": [],
   "source": [
    "df = df.rename( columns = { \"EventName\" : \"event_name\", \"DeviceIDHash\" : \"user_id\", \"EventTimestamp\":\"event_timestamp\", \n",
    "                      \"ExpId\": \"exp_id\" } )"
   ]
  },
  {
   "cell_type": "code",
   "execution_count": 7,
   "metadata": {},
   "outputs": [
    {
     "data": {
      "text/html": [
       "<div>\n",
       "<style scoped>\n",
       "    .dataframe tbody tr th:only-of-type {\n",
       "        vertical-align: middle;\n",
       "    }\n",
       "\n",
       "    .dataframe tbody tr th {\n",
       "        vertical-align: top;\n",
       "    }\n",
       "\n",
       "    .dataframe thead th {\n",
       "        text-align: right;\n",
       "    }\n",
       "</style>\n",
       "<table border=\"1\" class=\"dataframe\">\n",
       "  <thead>\n",
       "    <tr style=\"text-align: right;\">\n",
       "      <th></th>\n",
       "      <th>event_name</th>\n",
       "      <th>user_id</th>\n",
       "      <th>event_timestamp</th>\n",
       "      <th>exp_id</th>\n",
       "    </tr>\n",
       "  </thead>\n",
       "  <tbody>\n",
       "    <tr>\n",
       "      <th>0</th>\n",
       "      <td>MainScreenAppear</td>\n",
       "      <td>4575588528974610257</td>\n",
       "      <td>1564029816</td>\n",
       "      <td>246</td>\n",
       "    </tr>\n",
       "    <tr>\n",
       "      <th>1</th>\n",
       "      <td>MainScreenAppear</td>\n",
       "      <td>7416695313311560658</td>\n",
       "      <td>1564053102</td>\n",
       "      <td>246</td>\n",
       "    </tr>\n",
       "    <tr>\n",
       "      <th>2</th>\n",
       "      <td>PaymentScreenSuccessful</td>\n",
       "      <td>3518123091307005509</td>\n",
       "      <td>1564054127</td>\n",
       "      <td>248</td>\n",
       "    </tr>\n",
       "    <tr>\n",
       "      <th>3</th>\n",
       "      <td>CartScreenAppear</td>\n",
       "      <td>3518123091307005509</td>\n",
       "      <td>1564054127</td>\n",
       "      <td>248</td>\n",
       "    </tr>\n",
       "    <tr>\n",
       "      <th>4</th>\n",
       "      <td>PaymentScreenSuccessful</td>\n",
       "      <td>6217807653094995999</td>\n",
       "      <td>1564055322</td>\n",
       "      <td>248</td>\n",
       "    </tr>\n",
       "  </tbody>\n",
       "</table>\n",
       "</div>"
      ],
      "text/plain": [
       "                event_name              user_id  event_timestamp  exp_id\n",
       "0         MainScreenAppear  4575588528974610257       1564029816     246\n",
       "1         MainScreenAppear  7416695313311560658       1564053102     246\n",
       "2  PaymentScreenSuccessful  3518123091307005509       1564054127     248\n",
       "3         CartScreenAppear  3518123091307005509       1564054127     248\n",
       "4  PaymentScreenSuccessful  6217807653094995999       1564055322     248"
      ]
     },
     "execution_count": 7,
     "metadata": {},
     "output_type": "execute_result"
    }
   ],
   "source": [
    "df.head()"
   ]
  },
  {
   "cell_type": "code",
   "execution_count": 8,
   "metadata": {},
   "outputs": [],
   "source": [
    "df = df.drop_duplicates().reset_index(drop=True)"
   ]
  },
  {
   "cell_type": "code",
   "execution_count": 9,
   "metadata": {},
   "outputs": [],
   "source": [
    "df['event_timestamp'] = pd.to_datetime(df['event_timestamp'], unit='s')\n",
    "df['date'] = df['event_timestamp'].dt.date"
   ]
  },
  {
   "cell_type": "code",
   "execution_count": 10,
   "metadata": {},
   "outputs": [
    {
     "name": "stdout",
     "output_type": "stream",
     "text": [
      "<class 'pandas.core.frame.DataFrame'>\n",
      "RangeIndex: 243713 entries, 0 to 243712\n",
      "Data columns (total 5 columns):\n",
      " #   Column           Non-Null Count   Dtype         \n",
      "---  ------           --------------   -----         \n",
      " 0   event_name       243713 non-null  object        \n",
      " 1   user_id          243713 non-null  int64         \n",
      " 2   event_timestamp  243713 non-null  datetime64[ns]\n",
      " 3   exp_id           243713 non-null  int64         \n",
      " 4   date             243713 non-null  object        \n",
      "dtypes: datetime64[ns](1), int64(2), object(2)\n",
      "memory usage: 9.3+ MB\n"
     ]
    }
   ],
   "source": [
    "df.info()"
   ]
  },
  {
   "cell_type": "markdown",
   "metadata": {},
   "source": [
    "<strong> Мы выполнили предобработку данных: <strong>\n",
    "1. <em> Столбцы приведены к нижнему регистру, были выбраны более удобные названия;\n",
    "2. <em> Добавлены столбцы даты и времени и столбец дат;\n",
    "3. <em> Пропусков нет, дубликаты удалены."
   ]
  },
  {
   "cell_type": "markdown",
   "metadata": {},
   "source": [
    "### Изучение и проверка данных"
   ]
  },
  {
   "cell_type": "code",
   "execution_count": 11,
   "metadata": {},
   "outputs": [
    {
     "name": "stdout",
     "output_type": "stream",
     "text": [
      "Общее число событий в логе: 243713\n"
     ]
    }
   ],
   "source": [
    "print('Общее число событий в логе:',len(df))"
   ]
  },
  {
   "cell_type": "code",
   "execution_count": 12,
   "metadata": {},
   "outputs": [
    {
     "name": "stdout",
     "output_type": "stream",
     "text": [
      "Общее число пользователей в логе: 7551\n"
     ]
    }
   ],
   "source": [
    "print('Общее число пользователей в логе:', df['user_id'].nunique())"
   ]
  },
  {
   "cell_type": "code",
   "execution_count": 13,
   "metadata": {},
   "outputs": [
    {
     "name": "stdout",
     "output_type": "stream",
     "text": [
      "В среднем событий приходится на пользователя: 32.28\n"
     ]
    }
   ],
   "source": [
    "print('В среднем событий приходится на пользователя:', round(len(df) / df['user_id'].nunique(),2))"
   ]
  },
  {
   "cell_type": "code",
   "execution_count": 14,
   "metadata": {},
   "outputs": [
    {
     "name": "stdout",
     "output_type": "stream",
     "text": [
      "Дата начала: 2019-07-25 04:43:36\n",
      "Дата окончания: 2019-08-07 21:15:17\n"
     ]
    }
   ],
   "source": [
    "min_date = df['event_timestamp'].min()\n",
    "max_date = df['event_timestamp'].max()\n",
    "print('Дата начала:', min_date)\n",
    "print('Дата окончания:', max_date)"
   ]
  },
  {
   "cell_type": "code",
   "execution_count": 15,
   "metadata": {},
   "outputs": [
    {
     "data": {
      "image/png": "[encoded data removed]",
      "text/plain": [
       "<Figure size 1500x600 with 1 Axes>"
      ]
     },
     "metadata": {},
     "output_type": "display_data"
    }
   ],
   "source": [
    "series = df.groupby('date')[['event_timestamp']].count().reset_index()\n",
    "plt.figure(figsize=(15, 6))\n",
    "ax = sns.barplot(x='date', y='event_timestamp', data=series)\n",
    "plt.title('Распределение событий по времени')\n",
    "plt.xlabel('Дата')\n",
    "plt.ylabel('Количество событий')\n",
    "plt.show()"
   ]
  },
  {
   "cell_type": "code",
   "execution_count": 16,
   "metadata": {},
   "outputs": [],
   "source": [
    "df['date'] = df['date'].astype('datetime64[D]')\n",
    "df_new = df.query('date > \"2019-07-31\"')"
   ]
  },
  {
   "cell_type": "code",
   "execution_count": 17,
   "metadata": {},
   "outputs": [
    {
     "name": "stdout",
     "output_type": "stream",
     "text": [
      "Потеряли событий 2826, это составляет около 1 процента.\n"
     ]
    }
   ],
   "source": [
    "print('Потеряли событий %d, это составляет около %d процента.' % ((len(df) - len(df_new)), \n",
    "                                                            round((len(df) - len(df_new)) / len(df) * 100, 2)) ) "
   ]
  },
  {
   "cell_type": "code",
   "execution_count": 18,
   "metadata": {},
   "outputs": [
    {
     "name": "stdout",
     "output_type": "stream",
     "text": [
      "Потеряли пользоватей 17, это составляет менее 1 процента.\n"
     ]
    }
   ],
   "source": [
    "print('Потеряли пользоватей %d, это составляет менее %d процента.' % ((df['user_id'].nunique() - df_new['user_id'].nunique()),  \n",
    "mth.ceil((df['user_id'].nunique() - df_new['user_id'].nunique()) / df['user_id'].nunique() * 100)) ) "
   ]
  },
  {
   "cell_type": "code",
   "execution_count": 19,
   "metadata": {},
   "outputs": [
    {
     "data": {
      "text/html": [
       "<div>\n",
       "<style scoped>\n",
       "    .dataframe tbody tr th:only-of-type {\n",
       "        vertical-align: middle;\n",
       "    }\n",
       "\n",
       "    .dataframe tbody tr th {\n",
       "        vertical-align: top;\n",
       "    }\n",
       "\n",
       "    .dataframe thead th {\n",
       "        text-align: right;\n",
       "    }\n",
       "</style>\n",
       "<table border=\"1\" class=\"dataframe\">\n",
       "  <thead>\n",
       "    <tr style=\"text-align: right;\">\n",
       "      <th></th>\n",
       "      <th>user_id</th>\n",
       "    </tr>\n",
       "    <tr>\n",
       "      <th>exp_id</th>\n",
       "      <th></th>\n",
       "    </tr>\n",
       "  </thead>\n",
       "  <tbody>\n",
       "    <tr>\n",
       "      <th>246</th>\n",
       "      <td>2484</td>\n",
       "    </tr>\n",
       "    <tr>\n",
       "      <th>247</th>\n",
       "      <td>2513</td>\n",
       "    </tr>\n",
       "    <tr>\n",
       "      <th>248</th>\n",
       "      <td>2537</td>\n",
       "    </tr>\n",
       "  </tbody>\n",
       "</table>\n",
       "</div>"
      ],
      "text/plain": [
       "        user_id\n",
       "exp_id         \n",
       "246        2484\n",
       "247        2513\n",
       "248        2537"
      ]
     },
     "execution_count": 19,
     "metadata": {},
     "output_type": "execute_result"
    }
   ],
   "source": [
    "df_new.groupby('exp_id').agg({'user_id': 'nunique'})"
   ]
  },
  {
   "cell_type": "markdown",
   "metadata": {},
   "source": [
    "<em> Пользователи из всех трёх экспериментальных групп."
   ]
  },
  {
   "cell_type": "markdown",
   "metadata": {},
   "source": [
    "<em> Построив гистограмму мы получили информация что данные до 1 августа практически отсутствуют. Будем использовать данные с 1 августа, при очистке данных потеряно примерно 1% событий и менее 1% пользователей."
   ]
  },
  {
   "cell_type": "markdown",
   "metadata": {},
   "source": [
    "### Анализ воронки событий"
   ]
  },
  {
   "cell_type": "code",
   "execution_count": 20,
   "metadata": {},
   "outputs": [
    {
     "data": {
      "text/html": [
       "<div>\n",
       "<style scoped>\n",
       "    .dataframe tbody tr th:only-of-type {\n",
       "        vertical-align: middle;\n",
       "    }\n",
       "\n",
       "    .dataframe tbody tr th {\n",
       "        vertical-align: top;\n",
       "    }\n",
       "\n",
       "    .dataframe thead th {\n",
       "        text-align: right;\n",
       "    }\n",
       "</style>\n",
       "<table border=\"1\" class=\"dataframe\">\n",
       "  <thead>\n",
       "    <tr style=\"text-align: right;\">\n",
       "      <th></th>\n",
       "      <th>event_name</th>\n",
       "      <th>user_id</th>\n",
       "    </tr>\n",
       "  </thead>\n",
       "  <tbody>\n",
       "    <tr>\n",
       "      <th>1</th>\n",
       "      <td>MainScreenAppear</td>\n",
       "      <td>117328</td>\n",
       "    </tr>\n",
       "    <tr>\n",
       "      <th>2</th>\n",
       "      <td>OffersScreenAppear</td>\n",
       "      <td>46333</td>\n",
       "    </tr>\n",
       "    <tr>\n",
       "      <th>0</th>\n",
       "      <td>CartScreenAppear</td>\n",
       "      <td>42303</td>\n",
       "    </tr>\n",
       "    <tr>\n",
       "      <th>3</th>\n",
       "      <td>PaymentScreenSuccessful</td>\n",
       "      <td>33918</td>\n",
       "    </tr>\n",
       "    <tr>\n",
       "      <th>4</th>\n",
       "      <td>Tutorial</td>\n",
       "      <td>1005</td>\n",
       "    </tr>\n",
       "  </tbody>\n",
       "</table>\n",
       "</div>"
      ],
      "text/plain": [
       "                event_name  user_id\n",
       "1         MainScreenAppear   117328\n",
       "2       OffersScreenAppear    46333\n",
       "0         CartScreenAppear    42303\n",
       "3  PaymentScreenSuccessful    33918\n",
       "4                 Tutorial     1005"
      ]
     },
     "execution_count": 20,
     "metadata": {},
     "output_type": "execute_result"
    }
   ],
   "source": [
    "df_new.groupby('event_name')['user_id'].count().reset_index().sort_values(by='user_id', ascending=False)"
   ]
  },
  {
   "cell_type": "code",
   "execution_count": 21,
   "metadata": {},
   "outputs": [
    {
     "data": {
      "text/html": [
       "<div>\n",
       "<style scoped>\n",
       "    .dataframe tbody tr th:only-of-type {\n",
       "        vertical-align: middle;\n",
       "    }\n",
       "\n",
       "    .dataframe tbody tr th {\n",
       "        vertical-align: top;\n",
       "    }\n",
       "\n",
       "    .dataframe thead th {\n",
       "        text-align: right;\n",
       "    }\n",
       "</style>\n",
       "<table border=\"1\" class=\"dataframe\">\n",
       "  <thead>\n",
       "    <tr style=\"text-align: right;\">\n",
       "      <th></th>\n",
       "      <th>event_name</th>\n",
       "      <th>users_count</th>\n",
       "      <th>percent</th>\n",
       "      <th>funnel</th>\n",
       "    </tr>\n",
       "  </thead>\n",
       "  <tbody>\n",
       "    <tr>\n",
       "      <th>0</th>\n",
       "      <td>MainScreenAppear</td>\n",
       "      <td>7419</td>\n",
       "      <td>0.984736</td>\n",
       "      <td>100.000000</td>\n",
       "    </tr>\n",
       "    <tr>\n",
       "      <th>1</th>\n",
       "      <td>OffersScreenAppear</td>\n",
       "      <td>4593</td>\n",
       "      <td>0.609636</td>\n",
       "      <td>61.908613</td>\n",
       "    </tr>\n",
       "    <tr>\n",
       "      <th>2</th>\n",
       "      <td>CartScreenAppear</td>\n",
       "      <td>3734</td>\n",
       "      <td>0.495620</td>\n",
       "      <td>81.297627</td>\n",
       "    </tr>\n",
       "    <tr>\n",
       "      <th>3</th>\n",
       "      <td>PaymentScreenSuccessful</td>\n",
       "      <td>3539</td>\n",
       "      <td>0.469737</td>\n",
       "      <td>94.777718</td>\n",
       "    </tr>\n",
       "    <tr>\n",
       "      <th>4</th>\n",
       "      <td>Tutorial</td>\n",
       "      <td>840</td>\n",
       "      <td>0.111495</td>\n",
       "      <td>100.000000</td>\n",
       "    </tr>\n",
       "  </tbody>\n",
       "</table>\n",
       "</div>"
      ],
      "text/plain": [
       "                event_name  users_count   percent      funnel\n",
       "0         MainScreenAppear         7419  0.984736  100.000000\n",
       "1       OffersScreenAppear         4593  0.609636   61.908613\n",
       "2         CartScreenAppear         3734  0.495620   81.297627\n",
       "3  PaymentScreenSuccessful         3539  0.469737   94.777718\n",
       "4                 Tutorial          840  0.111495  100.000000"
      ]
     },
     "execution_count": 21,
     "metadata": {},
     "output_type": "execute_result"
    }
   ],
   "source": [
    "event_users = df_new.groupby('event_name').agg({'user_id':'nunique'}).reset_index()\n",
    "event_users.set_axis(['event_name', 'users_count'], axis='columns', inplace=True)\n",
    "event_users['percent'] = event_users.users_count / df_new['user_id'].nunique()\n",
    "event_users = event_users.sort_values('users_count', ascending=False).reset_index(drop=True)\n",
    "event_users['funnel'] = 100\n",
    "for i in range(1, 4):\n",
    "    event_users.loc[i, 'funnel'] = event_users.loc[i, 'users_count'] /  (event_users.loc[i-1, 'users_count']) * 100\n",
    "event_users"
   ]
  },
  {
   "cell_type": "markdown",
   "metadata": {},
   "source": [
    "<strong> Мы имеем 5 событий: <strong>\n",
    "1. <em> MainScreenAppear - просмотр главной страницы;\n",
    "2. <em> OffersScreenAppear - просмотр страницы предложений;\n",
    "3. <em> CartScreenAppear - просмотр корзины;\n",
    "4. <em> PaymentScreenSuccessful - переход на страницу успешной оплаты;\n",
    "5. <em> Tutorial - обучение для новичков.\n",
    "\n",
    "<em> Первые четыре события образуют цепочку движения пользователя по приложению. Туториал необязателен к прохождению."
   ]
  },
  {
   "cell_type": "markdown",
   "metadata": {},
   "source": [
    "<em> Общий процент перешедших на следующий уровень действий от главного экрана к экрану предложений 61.9%, перешедших от экрана предложения к экрану корзины 81.3%, от экрана корзины к экрану успешного платежа 94.8%."
   ]
  },
  {
   "cell_type": "code",
   "execution_count": 22,
   "metadata": {},
   "outputs": [
    {
     "data": {
      "text/html": [
       "<div>\n",
       "<style scoped>\n",
       "    .dataframe tbody tr th:only-of-type {\n",
       "        vertical-align: middle;\n",
       "    }\n",
       "\n",
       "    .dataframe tbody tr th {\n",
       "        vertical-align: top;\n",
       "    }\n",
       "\n",
       "    .dataframe thead th {\n",
       "        text-align: right;\n",
       "    }\n",
       "</style>\n",
       "<table border=\"1\" class=\"dataframe\">\n",
       "  <thead>\n",
       "    <tr style=\"text-align: right;\">\n",
       "      <th></th>\n",
       "      <th>event_name</th>\n",
       "      <th>users_count</th>\n",
       "      <th>percent</th>\n",
       "      <th>funnel</th>\n",
       "    </tr>\n",
       "  </thead>\n",
       "  <tbody>\n",
       "    <tr>\n",
       "      <th>0</th>\n",
       "      <td>MainScreenAppear</td>\n",
       "      <td>7419</td>\n",
       "      <td>0.984736</td>\n",
       "      <td>100.000000</td>\n",
       "    </tr>\n",
       "    <tr>\n",
       "      <th>1</th>\n",
       "      <td>OffersScreenAppear</td>\n",
       "      <td>4593</td>\n",
       "      <td>0.609636</td>\n",
       "      <td>61.908613</td>\n",
       "    </tr>\n",
       "    <tr>\n",
       "      <th>2</th>\n",
       "      <td>CartScreenAppear</td>\n",
       "      <td>3734</td>\n",
       "      <td>0.495620</td>\n",
       "      <td>81.297627</td>\n",
       "    </tr>\n",
       "    <tr>\n",
       "      <th>3</th>\n",
       "      <td>PaymentScreenSuccessful</td>\n",
       "      <td>3539</td>\n",
       "      <td>0.469737</td>\n",
       "      <td>94.777718</td>\n",
       "    </tr>\n",
       "  </tbody>\n",
       "</table>\n",
       "</div>"
      ],
      "text/plain": [
       "                event_name  users_count   percent      funnel\n",
       "0         MainScreenAppear         7419  0.984736  100.000000\n",
       "1       OffersScreenAppear         4593  0.609636   61.908613\n",
       "2         CartScreenAppear         3734  0.495620   81.297627\n",
       "3  PaymentScreenSuccessful         3539  0.469737   94.777718"
      ]
     },
     "execution_count": 22,
     "metadata": {},
     "output_type": "execute_result"
    }
   ],
   "source": [
    "event_users = event_users[event_users['event_name'] != 'Tutorial']\n",
    "event_users"
   ]
  },
  {
   "cell_type": "markdown",
   "metadata": {},
   "source": [
    "<em> Уберём событие Туториал, так как оно является необязательным и для событий этого типа мала относительно других."
   ]
  },
  {
   "cell_type": "code",
   "execution_count": 49,
   "metadata": {},
   "outputs": [
    {
     "data": {
      "application/vnd.plotly.v1+json": {
       "config": {
        "plotlyServerURL": "https://plot.ly"
       },
       "data": [
        {
         "marker": {
          "color": [
           "magenta",
           "lightpink",
           "khaki",
           "gold"
          ]
         },
         "opacity": 0.65,
         "textinfo": "value+percent initial",
         "textposition": "inside",
         "type": "funnel",
         "x": [
          0.9847358640828245,
          0.6096363153703213,
          0.495619856649854,
          0.4697371913989912
         ],
         "y": [
          "MainScreenAppear",
          "OffersScreenAppear",
          "CartScreenAppear",
          "PaymentScreenSuccessful"
         ]
        }
       ],
       "layout": {
        "template": {
         "data": {
          "bar": [
           {
            "error_x": {
             "color": "#2a3f5f"
            },
            "error_y": {
             "color": "#2a3f5f"
            },
            "marker": {
             "line": {
              "color": "#E5ECF6",
              "width": 0.5
             },
             "pattern": {
              "fillmode": "overlay",
              "size": 10,
              "solidity": 0.2
             }
            },
            "type": "bar"
           }
          ],
          "barpolar": [
           {
            "marker": {
             "line": {
              "color": "#E5ECF6",
              "width": 0.5
             },
             "pattern": {
              "fillmode": "overlay",
              "size": 10,
              "solidity": 0.2
             }
            },
            "type": "barpolar"
           }
          ],
          "carpet": [
           {
            "aaxis": {
             "endlinecolor": "#2a3f5f",
             "gridcolor": "white",
             "linecolor": "white",
             "minorgridcolor": "white",
             "startlinecolor": "#2a3f5f"
            },
            "baxis": {
             "endlinecolor": "#2a3f5f",
             "gridcolor": "white",
             "linecolor": "white",
             "minorgridcolor": "white",
             "startlinecolor": "#2a3f5f"
            },
            "type": "carpet"
           }
          ],
          "choropleth": [
           {
            "colorbar": {
             "outlinewidth": 0,
             "ticks": ""
            },
            "type": "choropleth"
           }
          ],
          "contour": [
           {
            "colorbar": {
             "outlinewidth": 0,
             "ticks": ""
            },
            "colorscale": [
             [
              0,
              "#0d0887"
             ],
             [
              0.1111111111111111,
              "#46039f"
             ],
             [
              0.2222222222222222,
              "#7201a8"
             ],
             [
              0.3333333333333333,
              "#9c179e"
             ],
             [
              0.4444444444444444,
              "#bd3786"
             ],
             [
              0.5555555555555556,
              "#d8576b"
             ],
             [
              0.6666666666666666,
              "#ed7953"
             ],
             [
              0.7777777777777778,
              "#fb9f3a"
             ],
             [
              0.8888888888888888,
              "#fdca26"
             ],
             [
              1,
              "#f0f921"
             ]
            ],
            "type": "contour"
           }
          ],
          "contourcarpet": [
           {
            "colorbar": {
             "outlinewidth": 0,
             "ticks": ""
            },
            "type": "contourcarpet"
           }
          ],
          "heatmap": [
           {
            "colorbar": {
             "outlinewidth": 0,
             "ticks": ""
            },
            "colorscale": [
             [
              0,
              "#0d0887"
             ],
             [
              0.1111111111111111,
              "#46039f"
             ],
             [
              0.2222222222222222,
              "#7201a8"
             ],
             [
              0.3333333333333333,
              "#9c179e"
             ],
             [
              0.4444444444444444,
              "#bd3786"
             ],
             [
              0.5555555555555556,
              "#d8576b"
             ],
             [
              0.6666666666666666,
              "#ed7953"
             ],
             [
              0.7777777777777778,
              "#fb9f3a"
             ],
             [
              0.8888888888888888,
              "#fdca26"
             ],
             [
              1,
              "#f0f921"
             ]
            ],
            "type": "heatmap"
           }
          ],
          "heatmapgl": [
           {
            "colorbar": {
             "outlinewidth": 0,
             "ticks": ""
            },
            "colorscale": [
             [
              0,
              "#0d0887"
             ],
             [
              0.1111111111111111,
              "#46039f"
             ],
             [
              0.2222222222222222,
              "#7201a8"
             ],
             [
              0.3333333333333333,
              "#9c179e"
             ],
             [
              0.4444444444444444,
              "#bd3786"
             ],
             [
              0.5555555555555556,
              "#d8576b"
             ],
             [
              0.6666666666666666,
              "#ed7953"
             ],
             [
              0.7777777777777778,
              "#fb9f3a"
             ],
             [
              0.8888888888888888,
              "#fdca26"
             ],
             [
              1,
              "#f0f921"
             ]
            ],
            "type": "heatmapgl"
           }
          ],
          "histogram": [
           {
            "marker": {
             "pattern": {
              "fillmode": "overlay",
              "size": 10,
              "solidity": 0.2
             }
            },
            "type": "histogram"
           }
          ],
          "histogram2d": [
           {
            "colorbar": {
             "outlinewidth": 0,
             "ticks": ""
            },
            "colorscale": [
             [
              0,
              "#0d0887"
             ],
             [
              0.1111111111111111,
              "#46039f"
             ],
             [
              0.2222222222222222,
              "#7201a8"
             ],
             [
              0.3333333333333333,
              "#9c179e"
             ],
             [
              0.4444444444444444,
              "#bd3786"
             ],
             [
              0.5555555555555556,
              "#d8576b"
             ],
             [
              0.6666666666666666,
              "#ed7953"
             ],
             [
              0.7777777777777778,
              "#fb9f3a"
             ],
             [
              0.8888888888888888,
              "#fdca26"
             ],
             [
              1,
              "#f0f921"
             ]
            ],
            "type": "histogram2d"
           }
          ],
          "histogram2dcontour": [
           {
            "colorbar": {
             "outlinewidth": 0,
             "ticks": ""
            },
            "colorscale": [
             [
              0,
              "#0d0887"
             ],
             [
              0.1111111111111111,
              "#46039f"
             ],
             [
              0.2222222222222222,
              "#7201a8"
             ],
             [
              0.3333333333333333,
              "#9c179e"
             ],
             [
              0.4444444444444444,
              "#bd3786"
             ],
             [
              0.5555555555555556,
              "#d8576b"
             ],
             [
              0.6666666666666666,
              "#ed7953"
             ],
             [
              0.7777777777777778,
              "#fb9f3a"
             ],
             [
              0.8888888888888888,
              "#fdca26"
             ],
             [
              1,
              "#f0f921"
             ]
            ],
            "type": "histogram2dcontour"
           }
          ],
          "mesh3d": [
           {
            "colorbar": {
             "outlinewidth": 0,
             "ticks": ""
            },
            "type": "mesh3d"
           }
          ],
          "parcoords": [
           {
            "line": {
             "colorbar": {
              "outlinewidth": 0,
              "ticks": ""
             }
            },
            "type": "parcoords"
           }
          ],
          "pie": [
           {
            "automargin": true,
            "type": "pie"
           }
          ],
          "scatter": [
           {
            "marker": {
             "colorbar": {
              "outlinewidth": 0,
              "ticks": ""
             }
            },
            "type": "scatter"
           }
          ],
          "scatter3d": [
           {
            "line": {
             "colorbar": {
              "outlinewidth": 0,
              "ticks": ""
             }
            },
            "marker": {
             "colorbar": {
              "outlinewidth": 0,
              "ticks": ""
             }
            },
            "type": "scatter3d"
           }
          ],
          "scattercarpet": [
           {
            "marker": {
             "colorbar": {
              "outlinewidth": 0,
              "ticks": ""
             }
            },
            "type": "scattercarpet"
           }
          ],
          "scattergeo": [
           {
            "marker": {
             "colorbar": {
              "outlinewidth": 0,
              "ticks": ""
             }
            },
            "type": "scattergeo"
           }
          ],
          "scattergl": [
           {
            "marker": {
             "colorbar": {
              "outlinewidth": 0,
              "ticks": ""
             }
            },
            "type": "scattergl"
           }
          ],
          "scattermapbox": [
           {
            "marker": {
             "colorbar": {
              "outlinewidth": 0,
              "ticks": ""
             }
            },
            "type": "scattermapbox"
           }
          ],
          "scatterpolar": [
           {
            "marker": {
             "colorbar": {
              "outlinewidth": 0,
              "ticks": ""
             }
            },
            "type": "scatterpolar"
           }
          ],
          "scatterpolargl": [
           {
            "marker": {
             "colorbar": {
              "outlinewidth": 0,
              "ticks": ""
             }
            },
            "type": "scatterpolargl"
           }
          ],
          "scatterternary": [
           {
            "marker": {
             "colorbar": {
              "outlinewidth": 0,
              "ticks": ""
             }
            },
            "type": "scatterternary"
           }
          ],
          "surface": [
           {
            "colorbar": {
             "outlinewidth": 0,
             "ticks": ""
            },
            "colorscale": [
             [
              0,
              "#0d0887"
             ],
             [
              0.1111111111111111,
              "#46039f"
             ],
             [
              0.2222222222222222,
              "#7201a8"
             ],
             [
              0.3333333333333333,
              "#9c179e"
             ],
             [
              0.4444444444444444,
              "#bd3786"
             ],
             [
              0.5555555555555556,
              "#d8576b"
             ],
             [
              0.6666666666666666,
              "#ed7953"
             ],
             [
              0.7777777777777778,
              "#fb9f3a"
             ],
             [
              0.8888888888888888,
              "#fdca26"
             ],
             [
              1,
              "#f0f921"
             ]
            ],
            "type": "surface"
           }
          ],
          "table": [
           {
            "cells": {
             "fill": {
              "color": "#EBF0F8"
             },
             "line": {
              "color": "white"
             }
            },
            "header": {
             "fill": {
              "color": "#C8D4E3"
             },
             "line": {
              "color": "white"
             }
            },
            "type": "table"
           }
          ]
         },
         "layout": {
          "annotationdefaults": {
           "arrowcolor": "#2a3f5f",
           "arrowhead": 0,
           "arrowwidth": 1
          },
          "autotypenumbers": "strict",
          "coloraxis": {
           "colorbar": {
            "outlinewidth": 0,
            "ticks": ""
           }
          },
          "colorscale": {
           "diverging": [
            [
             0,
             "#8e0152"
            ],
            [
             0.1,
             "#c51b7d"
            ],
            [
             0.2,
             "#de77ae"
            ],
            [
             0.3,
             "#f1b6da"
            ],
            [
             0.4,
             "#fde0ef"
            ],
            [
             0.5,
             "#f7f7f7"
            ],
            [
             0.6,
             "#e6f5d0"
            ],
            [
             0.7,
             "#b8e186"
            ],
            [
             0.8,
             "#7fbc41"
            ],
            [
             0.9,
             "#4d9221"
            ],
            [
             1,
             "#276419"
            ]
           ],
           "sequential": [
            [
             0,
             "#0d0887"
            ],
            [
             0.1111111111111111,
             "#46039f"
            ],
            [
             0.2222222222222222,
             "#7201a8"
            ],
            [
             0.3333333333333333,
             "#9c179e"
            ],
            [
             0.4444444444444444,
             "#bd3786"
            ],
            [
             0.5555555555555556,
             "#d8576b"
            ],
            [
             0.6666666666666666,
             "#ed7953"
            ],
            [
             0.7777777777777778,
             "#fb9f3a"
            ],
            [
             0.8888888888888888,
             "#fdca26"
            ],
            [
             1,
             "#f0f921"
            ]
           ],
           "sequentialminus": [
            [
             0,
             "#0d0887"
            ],
            [
             0.1111111111111111,
             "#46039f"
            ],
            [
             0.2222222222222222,
             "#7201a8"
            ],
            [
             0.3333333333333333,
             "#9c179e"
            ],
            [
             0.4444444444444444,
             "#bd3786"
            ],
            [
             0.5555555555555556,
             "#d8576b"
            ],
            [
             0.6666666666666666,
             "#ed7953"
            ],
            [
             0.7777777777777778,
             "#fb9f3a"
            ],
            [
             0.8888888888888888,
             "#fdca26"
            ],
            [
             1,
             "#f0f921"
            ]
           ]
          },
          "colorway": [
           "#636efa",
           "#EF553B",
           "#00cc96",
           "#ab63fa",
           "#FFA15A",
           "#19d3f3",
           "#FF6692",
           "#B6E880",
           "#FF97FF",
           "#FECB52"
          ],
          "font": {
           "color": "#2a3f5f"
          },
          "geo": {
           "bgcolor": "white",
           "lakecolor": "white",
           "landcolor": "#E5ECF6",
           "showlakes": true,
           "showland": true,
           "subunitcolor": "white"
          },
          "hoverlabel": {
           "align": "left"
          },
          "hovermode": "closest",
          "mapbox": {
           "style": "light"
          },
          "paper_bgcolor": "white",
          "plot_bgcolor": "#E5ECF6",
          "polar": {
           "angularaxis": {
            "gridcolor": "white",
            "linecolor": "white",
            "ticks": ""
           },
           "bgcolor": "#E5ECF6",
           "radialaxis": {
            "gridcolor": "white",
            "linecolor": "white",
            "ticks": ""
           }
          },
          "scene": {
           "xaxis": {
            "backgroundcolor": "#E5ECF6",
            "gridcolor": "white",
            "gridwidth": 2,
            "linecolor": "white",
            "showbackground": true,
            "ticks": "",
            "zerolinecolor": "white"
           },
           "yaxis": {
            "backgroundcolor": "#E5ECF6",
            "gridcolor": "white",
            "gridwidth": 2,
            "linecolor": "white",
            "showbackground": true,
            "ticks": "",
            "zerolinecolor": "white"
           },
           "zaxis": {
            "backgroundcolor": "#E5ECF6",
            "gridcolor": "white",
            "gridwidth": 2,
            "linecolor": "white",
            "showbackground": true,
            "ticks": "",
            "zerolinecolor": "white"
           }
          },
          "shapedefaults": {
           "line": {
            "color": "#2a3f5f"
           }
          },
          "ternary": {
           "aaxis": {
            "gridcolor": "white",
            "linecolor": "white",
            "ticks": ""
           },
           "baxis": {
            "gridcolor": "white",
            "linecolor": "white",
            "ticks": ""
           },
           "bgcolor": "#E5ECF6",
           "caxis": {
            "gridcolor": "white",
            "linecolor": "white",
            "ticks": ""
           }
          },
          "title": {
           "x": 0.05
          },
          "xaxis": {
           "automargin": true,
           "gridcolor": "white",
           "linecolor": "white",
           "ticks": "",
           "title": {
            "standoff": 15
           },
           "zerolinecolor": "white",
           "zerolinewidth": 2
          },
          "yaxis": {
           "automargin": true,
           "gridcolor": "white",
           "linecolor": "white",
           "ticks": "",
           "title": {
            "standoff": 15
           },
           "zerolinecolor": "white",
           "zerolinewidth": 2
          }
         }
        },
        "title": {
         "text": "Воронка приложения"
        }
       }
      },
      "text/html": [
       "<div>                            <div id=\"3a508786-4c4f-4196-a160-94fe5351dc43\" class=\"plotly-graph-div\" style=\"height:525px; width:100%;\"></div>            <script type=\"text/javascript\">                require([\"plotly\"], function(Plotly) {                    window.PLOTLYENV=window.PLOTLYENV || {};                                    if (document.getElementById(\"3a508786-4c4f-4196-a160-94fe5351dc43\")) {                    Plotly.newPlot(                        \"3a508786-4c4f-4196-a160-94fe5351dc43\",                        [{\"marker\":{\"color\":[\"magenta\",\"lightpink\",\"khaki\",\"gold\"]},\"opacity\":0.65,\"textinfo\":\"value+percent initial\",\"textposition\":\"inside\",\"x\":[0.9847358640828245,0.6096363153703213,0.495619856649854,0.4697371913989912],\"y\":[\"MainScreenAppear\",\"OffersScreenAppear\",\"CartScreenAppear\",\"PaymentScreenSuccessful\"],\"type\":\"funnel\"}],                        {\"title\":{\"text\":\"\\u0412\\u043e\\u0440\\u043e\\u043d\\u043a\\u0430 \\u043f\\u0440\\u0438\\u043b\\u043e\\u0436\\u0435\\u043d\\u0438\\u044f\"},\"template\":{\"data\":{\"bar\":[{\"error_x\":{\"color\":\"#2a3f5f\"},\"error_y\":{\"color\":\"#2a3f5f\"},\"marker\":{\"line\":{\"color\":\"#E5ECF6\",\"width\":0.5},\"pattern\":{\"fillmode\":\"overlay\",\"size\":10,\"solidity\":0.2}},\"type\":\"bar\"}],\"barpolar\":[{\"marker\":{\"line\":{\"color\":\"#E5ECF6\",\"width\":0.5},\"pattern\":{\"fillmode\":\"overlay\",\"size\":10,\"solidity\":0.2}},\"type\":\"barpolar\"}],\"carpet\":[{\"aaxis\":{\"endlinecolor\":\"#2a3f5f\",\"gridcolor\":\"white\",\"linecolor\":\"white\",\"minorgridcolor\":\"white\",\"startlinecolor\":\"#2a3f5f\"},\"baxis\":{\"endlinecolor\":\"#2a3f5f\",\"gridcolor\":\"white\",\"linecolor\":\"white\",\"minorgridcolor\":\"white\",\"startlinecolor\":\"#2a3f5f\"},\"type\":\"carpet\"}],\"choropleth\":[{\"colorbar\":{\"outlinewidth\":0,\"ticks\":\"\"},\"type\":\"choropleth\"}],\"contour\":[{\"colorbar\":{\"outlinewidth\":0,\"ticks\":\"\"},\"colorscale\":[[0.0,\"#0d0887\"],[0.1111111111111111,\"#46039f\"],[0.2222222222222222,\"#7201a8\"],[0.3333333333333333,\"#9c179e\"],[0.4444444444444444,\"#bd3786\"],[0.5555555555555556,\"#d8576b\"],[0.6666666666666666,\"#ed7953\"],[0.7777777777777778,\"#fb9f3a\"],[0.8888888888888888,\"#fdca26\"],[1.0,\"#f0f921\"]],\"type\":\"contour\"}],\"contourcarpet\":[{\"colorbar\":{\"outlinewidth\":0,\"ticks\":\"\"},\"type\":\"contourcarpet\"}],\"heatmap\":[{\"colorbar\":{\"outlinewidth\":0,\"ticks\":\"\"},\"colorscale\":[[0.0,\"#0d0887\"],[0.1111111111111111,\"#46039f\"],[0.2222222222222222,\"#7201a8\"],[0.3333333333333333,\"#9c179e\"],[0.4444444444444444,\"#bd3786\"],[0.5555555555555556,\"#d8576b\"],[0.6666666666666666,\"#ed7953\"],[0.7777777777777778,\"#fb9f3a\"],[0.8888888888888888,\"#fdca26\"],[1.0,\"#f0f921\"]],\"type\":\"heatmap\"}],\"heatmapgl\":[{\"colorbar\":{\"outlinewidth\":0,\"ticks\":\"\"},\"colorscale\":[[0.0,\"#0d0887\"],[0.1111111111111111,\"#46039f\"],[0.2222222222222222,\"#7201a8\"],[0.3333333333333333,\"#9c179e\"],[0.4444444444444444,\"#bd3786\"],[0.5555555555555556,\"#d8576b\"],[0.6666666666666666,\"#ed7953\"],[0.7777777777777778,\"#fb9f3a\"],[0.8888888888888888,\"#fdca26\"],[1.0,\"#f0f921\"]],\"type\":\"heatmapgl\"}],\"histogram\":[{\"marker\":{\"pattern\":{\"fillmode\":\"overlay\",\"size\":10,\"solidity\":0.2}},\"type\":\"histogram\"}],\"histogram2d\":[{\"colorbar\":{\"outlinewidth\":0,\"ticks\":\"\"},\"colorscale\":[[0.0,\"#0d0887\"],[0.1111111111111111,\"#46039f\"],[0.2222222222222222,\"#7201a8\"],[0.3333333333333333,\"#9c179e\"],[0.4444444444444444,\"#bd3786\"],[0.5555555555555556,\"#d8576b\"],[0.6666666666666666,\"#ed7953\"],[0.7777777777777778,\"#fb9f3a\"],[0.8888888888888888,\"#fdca26\"],[1.0,\"#f0f921\"]],\"type\":\"histogram2d\"}],\"histogram2dcontour\":[{\"colorbar\":{\"outlinewidth\":0,\"ticks\":\"\"},\"colorscale\":[[0.0,\"#0d0887\"],[0.1111111111111111,\"#46039f\"],[0.2222222222222222,\"#7201a8\"],[0.3333333333333333,\"#9c179e\"],[0.4444444444444444,\"#bd3786\"],[0.5555555555555556,\"#d8576b\"],[0.6666666666666666,\"#ed7953\"],[0.7777777777777778,\"#fb9f3a\"],[0.8888888888888888,\"#fdca26\"],[1.0,\"#f0f921\"]],\"type\":\"histogram2dcontour\"}],\"mesh3d\":[{\"colorbar\":{\"outlinewidth\":0,\"ticks\":\"\"},\"type\":\"mesh3d\"}],\"parcoords\":[{\"line\":{\"colorbar\":{\"outlinewidth\":0,\"ticks\":\"\"}},\"type\":\"parcoords\"}],\"pie\":[{\"automargin\":true,\"type\":\"pie\"}],\"scatter\":[{\"marker\":{\"colorbar\":{\"outlinewidth\":0,\"ticks\":\"\"}},\"type\":\"scatter\"}],\"scatter3d\":[{\"line\":{\"colorbar\":{\"outlinewidth\":0,\"ticks\":\"\"}},\"marker\":{\"colorbar\":{\"outlinewidth\":0,\"ticks\":\"\"}},\"type\":\"scatter3d\"}],\"scattercarpet\":[{\"marker\":{\"colorbar\":{\"outlinewidth\":0,\"ticks\":\"\"}},\"type\":\"scattercarpet\"}],\"scattergeo\":[{\"marker\":{\"colorbar\":{\"outlinewidth\":0,\"ticks\":\"\"}},\"type\":\"scattergeo\"}],\"scattergl\":[{\"marker\":{\"colorbar\":{\"outlinewidth\":0,\"ticks\":\"\"}},\"type\":\"scattergl\"}],\"scattermapbox\":[{\"marker\":{\"colorbar\":{\"outlinewidth\":0,\"ticks\":\"\"}},\"type\":\"scattermapbox\"}],\"scatterpolar\":[{\"marker\":{\"colorbar\":{\"outlinewidth\":0,\"ticks\":\"\"}},\"type\":\"scatterpolar\"}],\"scatterpolargl\":[{\"marker\":{\"colorbar\":{\"outlinewidth\":0,\"ticks\":\"\"}},\"type\":\"scatterpolargl\"}],\"scatterternary\":[{\"marker\":{\"colorbar\":{\"outlinewidth\":0,\"ticks\":\"\"}},\"type\":\"scatterternary\"}],\"surface\":[{\"colorbar\":{\"outlinewidth\":0,\"ticks\":\"\"},\"colorscale\":[[0.0,\"#0d0887\"],[0.1111111111111111,\"#46039f\"],[0.2222222222222222,\"#7201a8\"],[0.3333333333333333,\"#9c179e\"],[0.4444444444444444,\"#bd3786\"],[0.5555555555555556,\"#d8576b\"],[0.6666666666666666,\"#ed7953\"],[0.7777777777777778,\"#fb9f3a\"],[0.8888888888888888,\"#fdca26\"],[1.0,\"#f0f921\"]],\"type\":\"surface\"}],\"table\":[{\"cells\":{\"fill\":{\"color\":\"#EBF0F8\"},\"line\":{\"color\":\"white\"}},\"header\":{\"fill\":{\"color\":\"#C8D4E3\"},\"line\":{\"color\":\"white\"}},\"type\":\"table\"}]},\"layout\":{\"annotationdefaults\":{\"arrowcolor\":\"#2a3f5f\",\"arrowhead\":0,\"arrowwidth\":1},\"autotypenumbers\":\"strict\",\"coloraxis\":{\"colorbar\":{\"outlinewidth\":0,\"ticks\":\"\"}},\"colorscale\":{\"diverging\":[[0,\"#8e0152\"],[0.1,\"#c51b7d\"],[0.2,\"#de77ae\"],[0.3,\"#f1b6da\"],[0.4,\"#fde0ef\"],[0.5,\"#f7f7f7\"],[0.6,\"#e6f5d0\"],[0.7,\"#b8e186\"],[0.8,\"#7fbc41\"],[0.9,\"#4d9221\"],[1,\"#276419\"]],\"sequential\":[[0.0,\"#0d0887\"],[0.1111111111111111,\"#46039f\"],[0.2222222222222222,\"#7201a8\"],[0.3333333333333333,\"#9c179e\"],[0.4444444444444444,\"#bd3786\"],[0.5555555555555556,\"#d8576b\"],[0.6666666666666666,\"#ed7953\"],[0.7777777777777778,\"#fb9f3a\"],[0.8888888888888888,\"#fdca26\"],[1.0,\"#f0f921\"]],\"sequentialminus\":[[0.0,\"#0d0887\"],[0.1111111111111111,\"#46039f\"],[0.2222222222222222,\"#7201a8\"],[0.3333333333333333,\"#9c179e\"],[0.4444444444444444,\"#bd3786\"],[0.5555555555555556,\"#d8576b\"],[0.6666666666666666,\"#ed7953\"],[0.7777777777777778,\"#fb9f3a\"],[0.8888888888888888,\"#fdca26\"],[1.0,\"#f0f921\"]]},\"colorway\":[\"#636efa\",\"#EF553B\",\"#00cc96\",\"#ab63fa\",\"#FFA15A\",\"#19d3f3\",\"#FF6692\",\"#B6E880\",\"#FF97FF\",\"#FECB52\"],\"font\":{\"color\":\"#2a3f5f\"},\"geo\":{\"bgcolor\":\"white\",\"lakecolor\":\"white\",\"landcolor\":\"#E5ECF6\",\"showlakes\":true,\"showland\":true,\"subunitcolor\":\"white\"},\"hoverlabel\":{\"align\":\"left\"},\"hovermode\":\"closest\",\"mapbox\":{\"style\":\"light\"},\"paper_bgcolor\":\"white\",\"plot_bgcolor\":\"#E5ECF6\",\"polar\":{\"angularaxis\":{\"gridcolor\":\"white\",\"linecolor\":\"white\",\"ticks\":\"\"},\"bgcolor\":\"#E5ECF6\",\"radialaxis\":{\"gridcolor\":\"white\",\"linecolor\":\"white\",\"ticks\":\"\"}},\"scene\":{\"xaxis\":{\"backgroundcolor\":\"#E5ECF6\",\"gridcolor\":\"white\",\"gridwidth\":2,\"linecolor\":\"white\",\"showbackground\":true,\"ticks\":\"\",\"zerolinecolor\":\"white\"},\"yaxis\":{\"backgroundcolor\":\"#E5ECF6\",\"gridcolor\":\"white\",\"gridwidth\":2,\"linecolor\":\"white\",\"showbackground\":true,\"ticks\":\"\",\"zerolinecolor\":\"white\"},\"zaxis\":{\"backgroundcolor\":\"#E5ECF6\",\"gridcolor\":\"white\",\"gridwidth\":2,\"linecolor\":\"white\",\"showbackground\":true,\"ticks\":\"\",\"zerolinecolor\":\"white\"}},\"shapedefaults\":{\"line\":{\"color\":\"#2a3f5f\"}},\"ternary\":{\"aaxis\":{\"gridcolor\":\"white\",\"linecolor\":\"white\",\"ticks\":\"\"},\"baxis\":{\"gridcolor\":\"white\",\"linecolor\":\"white\",\"ticks\":\"\"},\"bgcolor\":\"#E5ECF6\",\"caxis\":{\"gridcolor\":\"white\",\"linecolor\":\"white\",\"ticks\":\"\"}},\"title\":{\"x\":0.05},\"xaxis\":{\"automargin\":true,\"gridcolor\":\"white\",\"linecolor\":\"white\",\"ticks\":\"\",\"title\":{\"standoff\":15},\"zerolinecolor\":\"white\",\"zerolinewidth\":2},\"yaxis\":{\"automargin\":true,\"gridcolor\":\"white\",\"linecolor\":\"white\",\"ticks\":\"\",\"title\":{\"standoff\":15},\"zerolinecolor\":\"white\",\"zerolinewidth\":2}}}},                        {\"responsive\": true}                    ).then(function(){\n",
       "                            \n",
       "var gd = document.getElementById('3a508786-4c4f-4196-a160-94fe5351dc43');\n",
       "var x = new MutationObserver(function (mutations, observer) {{\n",
       "        var display = window.getComputedStyle(gd).display;\n",
       "        if (!display || display === 'none') {{\n",
       "            console.log([gd, 'removed!']);\n",
       "            Plotly.purge(gd);\n",
       "            observer.disconnect();\n",
       "        }}\n",
       "}});\n",
       "\n",
       "// Listen for the removal of the full notebook cells\n",
       "var notebookContainer = gd.closest('#notebook-container');\n",
       "if (notebookContainer) {{\n",
       "    x.observe(notebookContainer, {childList: true});\n",
       "}}\n",
       "\n",
       "// Listen for the clearing of the current output cell\n",
       "var outputEl = gd.closest('.output');\n",
       "if (outputEl) {{\n",
       "    x.observe(outputEl, {childList: true});\n",
       "}}\n",
       "\n",
       "                        })                };                });            </script>        </div>"
      ]
     },
     "metadata": {},
     "output_type": "display_data"
    }
   ],
   "source": [
    "fig = go.Figure(go.Funnel(\n",
    "    y = event_users['event_name'],\n",
    "    x = event_users['percent'],\n",
    "    textposition = \"inside\",\n",
    "    textinfo = \"value+percent initial\",\n",
    "    opacity = 0.65, marker = {\"color\": [\"magenta\", \"lightpink\", \"khaki\", \"gold\"] }) ,\n",
    "               layout=go.Layout( title=go.layout.Title(text=\"Воронка приложения\")))\n",
    "\n",
    "fig.show()"
   ]
  },
  {
   "cell_type": "markdown",
   "metadata": {},
   "source": [
    "<em> Большая часть пользователей теряется при переходе с гланого экрана на страницу предложений. До оплаты доходят примерно 48% пользователей."
   ]
  },
  {
   "cell_type": "markdown",
   "metadata": {},
   "source": [
    "### Анализ результатов эксперимента"
   ]
  },
  {
   "cell_type": "code",
   "execution_count": 25,
   "metadata": {},
   "outputs": [
    {
     "data": {
      "text/html": [
       "<div>\n",
       "<style scoped>\n",
       "    .dataframe tbody tr th:only-of-type {\n",
       "        vertical-align: middle;\n",
       "    }\n",
       "\n",
       "    .dataframe tbody tr th {\n",
       "        vertical-align: top;\n",
       "    }\n",
       "\n",
       "    .dataframe thead th {\n",
       "        text-align: right;\n",
       "    }\n",
       "</style>\n",
       "<table border=\"1\" class=\"dataframe\">\n",
       "  <thead>\n",
       "    <tr style=\"text-align: right;\">\n",
       "      <th></th>\n",
       "      <th>exp_id</th>\n",
       "      <th>user_id</th>\n",
       "    </tr>\n",
       "  </thead>\n",
       "  <tbody>\n",
       "    <tr>\n",
       "      <th>0</th>\n",
       "      <td>246</td>\n",
       "      <td>2484</td>\n",
       "    </tr>\n",
       "    <tr>\n",
       "      <th>1</th>\n",
       "      <td>247</td>\n",
       "      <td>2513</td>\n",
       "    </tr>\n",
       "    <tr>\n",
       "      <th>2</th>\n",
       "      <td>248</td>\n",
       "      <td>2537</td>\n",
       "    </tr>\n",
       "  </tbody>\n",
       "</table>\n",
       "</div>"
      ],
      "text/plain": [
       "   exp_id  user_id\n",
       "0     246     2484\n",
       "1     247     2513\n",
       "2     248     2537"
      ]
     },
     "execution_count": 25,
     "metadata": {},
     "output_type": "execute_result"
    }
   ],
   "source": [
    "groups = df_new.groupby('exp_id')['user_id'].nunique().reset_index()\n",
    "groups"
   ]
  },
  {
   "cell_type": "markdown",
   "metadata": {},
   "source": [
    "<em> В первой группе 2484, во второй 2513, в третей 2537 пользователей. Группы 246 и 247 являются контрольными, группа 248 экспериментальная с изменённым шрифтом."
   ]
  },
  {
   "cell_type": "markdown",
   "metadata": {},
   "source": [
    "<strong> Критерии успешного A/A теста: <strong>\n",
    "\n",
    "1. <em> Количество пользователей в различных группах различается не более, чем на 1%;\n",
    "2. <em> Для всех групп фиксируют и отправляют в системы аналитики данные об одном и том же;\n",
    "3. <em> Различие ключевых метрик по группам не превышает 1% и не имеет статистической значимости;\n",
    "4. <em> Попавший в одну из групп посетитель остаётся в этой группе до конца теста."
   ]
  },
  {
   "cell_type": "code",
   "execution_count": 26,
   "metadata": {},
   "outputs": [
    {
     "name": "stdout",
     "output_type": "stream",
     "text": [
      "Количество пользователей в группах различается на 1.15 %\n"
     ]
    }
   ],
   "source": [
    "groups_246 = int(groups[groups['exp_id'] == 246]['user_id'])\n",
    "groups_247 = int(groups[groups['exp_id'] == 247]['user_id'])\n",
    "print('Количество пользователей в группах различается на', round(100 - (groups_246 / groups_247 * 100), 2), '%')"
   ]
  },
  {
   "cell_type": "markdown",
   "metadata": {},
   "source": [
    "<em> Количество пользователей в каждой из групп достаточно большое для проведения исследования и разница между размерами групп незначительная."
   ]
  },
  {
   "cell_type": "code",
   "execution_count": 27,
   "metadata": {},
   "outputs": [
    {
     "data": {
      "text/plain": [
       "user_id    0\n",
       "exp_id     0\n",
       "dtype: int64"
      ]
     },
     "execution_count": 27,
     "metadata": {},
     "output_type": "execute_result"
    }
   ],
   "source": [
    "df_new.groupby('user_id')['exp_id'].nunique().reset_index().query('exp_id > 1').count()"
   ]
  },
  {
   "cell_type": "markdown",
   "metadata": {},
   "source": [
    "<em> Среди пользователей нет попавших в несколько групп."
   ]
  },
  {
   "cell_type": "code",
   "execution_count": 28,
   "metadata": {},
   "outputs": [
    {
     "data": {
      "text/html": [
       "<div>\n",
       "<style scoped>\n",
       "    .dataframe tbody tr th:only-of-type {\n",
       "        vertical-align: middle;\n",
       "    }\n",
       "\n",
       "    .dataframe tbody tr th {\n",
       "        vertical-align: top;\n",
       "    }\n",
       "\n",
       "    .dataframe thead th {\n",
       "        text-align: right;\n",
       "    }\n",
       "</style>\n",
       "<table border=\"1\" class=\"dataframe\">\n",
       "  <thead>\n",
       "    <tr style=\"text-align: right;\">\n",
       "      <th>exp_id</th>\n",
       "      <th>246</th>\n",
       "      <th>247</th>\n",
       "      <th>248</th>\n",
       "      <th>246+247</th>\n",
       "    </tr>\n",
       "    <tr>\n",
       "      <th>event_name</th>\n",
       "      <th></th>\n",
       "      <th></th>\n",
       "      <th></th>\n",
       "      <th></th>\n",
       "    </tr>\n",
       "  </thead>\n",
       "  <tbody>\n",
       "    <tr>\n",
       "      <th>MainScreenAppear</th>\n",
       "      <td>2450</td>\n",
       "      <td>2476</td>\n",
       "      <td>2493</td>\n",
       "      <td>4926</td>\n",
       "    </tr>\n",
       "    <tr>\n",
       "      <th>OffersScreenAppear</th>\n",
       "      <td>1542</td>\n",
       "      <td>1520</td>\n",
       "      <td>1531</td>\n",
       "      <td>3062</td>\n",
       "    </tr>\n",
       "    <tr>\n",
       "      <th>CartScreenAppear</th>\n",
       "      <td>1266</td>\n",
       "      <td>1238</td>\n",
       "      <td>1230</td>\n",
       "      <td>2504</td>\n",
       "    </tr>\n",
       "    <tr>\n",
       "      <th>PaymentScreenSuccessful</th>\n",
       "      <td>1200</td>\n",
       "      <td>1158</td>\n",
       "      <td>1181</td>\n",
       "      <td>2358</td>\n",
       "    </tr>\n",
       "  </tbody>\n",
       "</table>\n",
       "</div>"
      ],
      "text/plain": [
       "exp_id                    246   247   248  246+247\n",
       "event_name                                        \n",
       "MainScreenAppear         2450  2476  2493     4926\n",
       "OffersScreenAppear       1542  1520  1531     3062\n",
       "CartScreenAppear         1266  1238  1230     2504\n",
       "PaymentScreenSuccessful  1200  1158  1181     2358"
      ]
     },
     "execution_count": 28,
     "metadata": {},
     "output_type": "execute_result"
    }
   ],
   "source": [
    "all_funnels = df_new.pivot_table(index='event_name', columns='exp_id',values='user_id',aggfunc='nunique').sort_values(246,ascending=False)\n",
    "all_funnels['246+247'] = all_funnels[246] + all_funnels[247]\n",
    "all_funnels.drop(['Tutorial'], inplace=True)\n",
    "all_funnels"
   ]
  },
  {
   "cell_type": "markdown",
   "metadata": {},
   "source": [
    "<em> Добавим общую группу пользователей объединяющую контрольные группы."
   ]
  },
  {
   "cell_type": "code",
   "execution_count": 29,
   "metadata": {},
   "outputs": [
    {
     "data": {
      "text/html": [
       "<div>\n",
       "<style scoped>\n",
       "    .dataframe tbody tr th:only-of-type {\n",
       "        vertical-align: middle;\n",
       "    }\n",
       "\n",
       "    .dataframe tbody tr th {\n",
       "        vertical-align: top;\n",
       "    }\n",
       "\n",
       "    .dataframe thead th {\n",
       "        text-align: right;\n",
       "    }\n",
       "</style>\n",
       "<table border=\"1\" class=\"dataframe\">\n",
       "  <thead>\n",
       "    <tr style=\"text-align: right;\">\n",
       "      <th></th>\n",
       "      <th>user_id</th>\n",
       "    </tr>\n",
       "    <tr>\n",
       "      <th>exp_id</th>\n",
       "      <th></th>\n",
       "    </tr>\n",
       "  </thead>\n",
       "  <tbody>\n",
       "    <tr>\n",
       "      <th>246</th>\n",
       "      <td>2484</td>\n",
       "    </tr>\n",
       "    <tr>\n",
       "      <th>247</th>\n",
       "      <td>2513</td>\n",
       "    </tr>\n",
       "    <tr>\n",
       "      <th>248</th>\n",
       "      <td>2537</td>\n",
       "    </tr>\n",
       "    <tr>\n",
       "      <th>246+247</th>\n",
       "      <td>4997</td>\n",
       "    </tr>\n",
       "  </tbody>\n",
       "</table>\n",
       "</div>"
      ],
      "text/plain": [
       "         user_id\n",
       "exp_id          \n",
       "246         2484\n",
       "247         2513\n",
       "248         2537\n",
       "246+247     4997"
      ]
     },
     "execution_count": 29,
     "metadata": {},
     "output_type": "execute_result"
    }
   ],
   "source": [
    "groups.loc[3] = ['246+247', 4997]\n",
    "groups = groups.set_index(groups.columns[0])\n",
    "groups"
   ]
  },
  {
   "cell_type": "markdown",
   "metadata": {},
   "source": [
    "<strong> Cформируем гипотезы: <strong>\n",
    "1. <em> H0: Доля пользователей между группами, совершивших событие не отчичается;\n",
    "2. <em> H1: Доля пользователей между группами, совершивших событе отличается."
   ]
  },
  {
   "cell_type": "markdown",
   "metadata": {},
   "source": [
    "<em> Для проверки гипотез воспользуемся Z-критерием и применим метод Бонферрони, так как проводим множественное сравнение."
   ]
  },
  {
   "cell_type": "code",
   "execution_count": 30,
   "metadata": {},
   "outputs": [],
   "source": [
    "def z_test_with_bonferroni_validation_result(group1, group2, event, alpha): \n",
    "    p1_event = all_funnels.loc[event, group1]\n",
    "    p2_event = all_funnels.loc[event, group2] \n",
    "    p1_users = groups.loc[group1, 'user_id'] \n",
    "    p2_users = groups.loc[group2, 'user_id'] \n",
    "    p1 = p1_event / p1_users \n",
    "    p2 = p2_event / p2_users \n",
    "    difference = p1 - p2\n",
    "    p_combined = (p1_event + p2_event) / (p1_users + p2_users) \n",
    "    z_value = difference / mth.sqrt(p_combined * (1 - p_combined) * (1 / p1_users + 1 / p2_users))\n",
    "    distr = st.norm(0, 1)\n",
    "    p_value = (1 - distr.cdf(abs(z_value))) * 2\n",
    "    \n",
    "    bonferroni_alpha = alpha / 16\n",
    "    \n",
    "    print('Проверка для групп {} и {}, событие: {}, p-значение: {p_value:.2f}'.format(group1, group2, event, p_value=p_value))\n",
    "    if (p_value < bonferroni_alpha):\n",
    "        print(\"Отвергаем нулевую гипотезу\")\n",
    "    else:\n",
    "        print(\"Не получилось отвергнуть нулевую гипотезу\")"
   ]
  },
  {
   "cell_type": "markdown",
   "metadata": {},
   "source": [
    "#### А/А тест"
   ]
  },
  {
   "cell_type": "code",
   "execution_count": 31,
   "metadata": {},
   "outputs": [
    {
     "name": "stdout",
     "output_type": "stream",
     "text": [
      "Проверка для групп 246 и 247, событие: MainScreenAppear, p-значение: 0.76\n",
      "Не получилось отвергнуть нулевую гипотезу\n",
      "\n",
      "Проверка для групп 246 и 247, событие: OffersScreenAppear, p-значение: 0.25\n",
      "Не получилось отвергнуть нулевую гипотезу\n",
      "\n",
      "Проверка для групп 246 и 247, событие: CartScreenAppear, p-значение: 0.23\n",
      "Не получилось отвергнуть нулевую гипотезу\n",
      "\n",
      "Проверка для групп 246 и 247, событие: PaymentScreenSuccessful, p-значение: 0.11\n",
      "Не получилось отвергнуть нулевую гипотезу\n",
      "\n"
     ]
    }
   ],
   "source": [
    "for event in all_funnels.index:\n",
    "    z_test_with_bonferroni_validation_result(246, 247, event, 0.05)\n",
    "    print()"
   ]
  },
  {
   "cell_type": "markdown",
   "metadata": {},
   "source": [
    "<em> Вывод о различии долей сделать нельзя. Результат А/А теста показывает, что обе контрольные группы показывают идентичные результаты. Это поможет сделать более достоверные выводы о дальнейшем A/B тестировании."
   ]
  },
  {
   "cell_type": "markdown",
   "metadata": {},
   "source": [
    "#### А/В тест"
   ]
  },
  {
   "cell_type": "code",
   "execution_count": 32,
   "metadata": {},
   "outputs": [
    {
     "name": "stdout",
     "output_type": "stream",
     "text": [
      "Проверка для групп 246 и 248, событие: MainScreenAppear, p-значение: 0.29\n",
      "Не получилось отвергнуть нулевую гипотезу\n",
      "\n",
      "Проверка для групп 246 и 248, событие: OffersScreenAppear, p-значение: 0.21\n",
      "Не получилось отвергнуть нулевую гипотезу\n",
      "\n",
      "Проверка для групп 246 и 248, событие: CartScreenAppear, p-значение: 0.08\n",
      "Не получилось отвергнуть нулевую гипотезу\n",
      "\n",
      "Проверка для групп 246 и 248, событие: PaymentScreenSuccessful, p-значение: 0.21\n",
      "Не получилось отвергнуть нулевую гипотезу\n",
      "\n"
     ]
    }
   ],
   "source": [
    "for event in all_funnels.index:\n",
    "    z_test_with_bonferroni_validation_result(246, 248, event, 0.05)\n",
    "    print()"
   ]
  },
  {
   "cell_type": "code",
   "execution_count": 33,
   "metadata": {},
   "outputs": [
    {
     "name": "stdout",
     "output_type": "stream",
     "text": [
      "Проверка для групп 247 и 248, событие: MainScreenAppear, p-значение: 0.46\n",
      "Не получилось отвергнуть нулевую гипотезу\n",
      "\n",
      "Проверка для групп 247 и 248, событие: OffersScreenAppear, p-значение: 0.92\n",
      "Не получилось отвергнуть нулевую гипотезу\n",
      "\n",
      "Проверка для групп 247 и 248, событие: CartScreenAppear, p-значение: 0.58\n",
      "Не получилось отвергнуть нулевую гипотезу\n",
      "\n",
      "Проверка для групп 247 и 248, событие: PaymentScreenSuccessful, p-значение: 0.74\n",
      "Не получилось отвергнуть нулевую гипотезу\n",
      "\n"
     ]
    }
   ],
   "source": [
    "for event in all_funnels.index:\n",
    "    z_test_with_bonferroni_validation_result(247, 248, event, 0.05)\n",
    "    print()"
   ]
  },
  {
   "cell_type": "code",
   "execution_count": 34,
   "metadata": {},
   "outputs": [
    {
     "name": "stdout",
     "output_type": "stream",
     "text": [
      "Проверка для групп 246+247 и 248, событие: MainScreenAppear, p-значение: 0.29\n",
      "Не получилось отвергнуть нулевую гипотезу\n",
      "\n",
      "Проверка для групп 246+247 и 248, событие: OffersScreenAppear, p-значение: 0.43\n",
      "Не получилось отвергнуть нулевую гипотезу\n",
      "\n",
      "Проверка для групп 246+247 и 248, событие: CartScreenAppear, p-значение: 0.18\n",
      "Не получилось отвергнуть нулевую гипотезу\n",
      "\n",
      "Проверка для групп 246+247 и 248, событие: PaymentScreenSuccessful, p-значение: 0.60\n",
      "Не получилось отвергнуть нулевую гипотезу\n",
      "\n"
     ]
    }
   ],
   "source": [
    "for event in all_funnels.index:\n",
    "    z_test_with_bonferroni_validation_result('246+247', 248, event, 0.05)\n",
    "    print()"
   ]
  },
  {
   "cell_type": "markdown",
   "metadata": {},
   "source": [
    "<em> Вывод о различии долей сделать нельзя. Изменение шрифта никак не повлияло на пользователей."
   ]
  },
  {
   "cell_type": "markdown",
   "metadata": {},
   "source": [
    "<em> Критический уровень статистической значимости alpha = 0.05, однако мы применили поправку Бонферрони, так как имеем дело с множественным сравнением.\n",
    "\n",
    "<em> Провели 4 А/А-теста и 12 А/В-тестов."
   ]
  },
  {
   "cell_type": "markdown",
   "metadata": {},
   "source": [
    "### Выводы"
   ]
  },
  {
   "cell_type": "markdown",
   "metadata": {},
   "source": [
    "1. <em> Наиболее часто встречающееся событие- 'MainScreenAppear' - 'Главный экран;\n",
    "2. <em> События происходят в следующей цеполчке:\n",
    "'MainScreenAppear' - 'OffersScreenAppear' - 'CartScreenAppear'-'PaymentScreenSuccessful'\n",
    "3. <em> Событие Tutorial большинство пользователелей пропускает;\n",
    "4. <em> От первого события до последнего доходит 47% пользователей;\n",
    "5. <em> Количество пользователей между группами отличается на 1.15%;\n",
    "6. <em> По результатам А/А/В-теста не было выявлено различий между контрольными и эксперементальной группами, можем сделать вывод, что изменение шрифта никак не повлияло на поведение пользователей.\n"
   ]
  },
  {
   "cell_type": "markdown",
   "metadata": {},
   "source": [
    "---"
   ]
  }
 ],
 "metadata": {
  "ExecuteTimeLog": [
   {
    "duration": 1427,
    "start_time": "2023-01-17T20:56:52.978Z"
   },
   {
    "duration": 1080,
    "start_time": "2023-01-17T20:57:30.473Z"
   },
   {
    "duration": 208,
    "start_time": "2023-01-17T20:58:08.846Z"
   },
   {
    "duration": 18,
    "start_time": "2023-01-17T20:58:21.962Z"
   },
   {
    "duration": 29,
    "start_time": "2023-01-17T20:58:38.116Z"
   },
   {
    "duration": 198,
    "start_time": "2023-01-17T20:58:48.767Z"
   },
   {
    "duration": 10,
    "start_time": "2023-01-17T21:00:03.826Z"
   },
   {
    "duration": 203,
    "start_time": "2023-01-17T21:00:07.034Z"
   },
   {
    "duration": 7,
    "start_time": "2023-01-17T21:01:00.543Z"
   },
   {
    "duration": 7,
    "start_time": "2023-01-17T21:01:07.667Z"
   },
   {
    "duration": 80,
    "start_time": "2023-01-17T21:01:27.643Z"
   },
   {
    "duration": 35,
    "start_time": "2023-01-17T21:01:54.013Z"
   },
   {
    "duration": 33,
    "start_time": "2023-01-17T21:02:03.025Z"
   },
   {
    "duration": 29,
    "start_time": "2023-01-17T21:02:32.549Z"
   },
   {
    "duration": 1574,
    "start_time": "2023-01-17T21:02:40.741Z"
   },
   {
    "duration": 14,
    "start_time": "2023-01-17T21:02:54.618Z"
   },
   {
    "duration": 378,
    "start_time": "2023-01-17T21:03:10.913Z"
   },
   {
    "duration": 3,
    "start_time": "2023-01-17T21:03:16.065Z"
   },
   {
    "duration": 241,
    "start_time": "2023-01-17T21:03:16.318Z"
   },
   {
    "duration": 33,
    "start_time": "2023-01-17T21:03:16.566Z"
   },
   {
    "duration": 31,
    "start_time": "2023-01-17T21:03:16.680Z"
   },
   {
    "duration": 106,
    "start_time": "2023-01-17T21:03:16.861Z"
   },
   {
    "duration": 6,
    "start_time": "2023-01-17T21:03:17.040Z"
   },
   {
    "duration": 8,
    "start_time": "2023-01-17T21:03:17.855Z"
   },
   {
    "duration": 109,
    "start_time": "2023-01-17T21:03:18.538Z"
   },
   {
    "duration": 19,
    "start_time": "2023-01-17T21:03:18.952Z"
   },
   {
    "duration": 53,
    "start_time": "2023-01-17T21:03:19.286Z"
   },
   {
    "duration": 42,
    "start_time": "2023-01-17T21:03:19.521Z"
   },
   {
    "duration": 13,
    "start_time": "2023-01-17T21:03:28.900Z"
   },
   {
    "duration": 16,
    "start_time": "2023-01-17T21:03:37.138Z"
   },
   {
    "duration": 5,
    "start_time": "2023-01-17T21:03:59.328Z"
   },
   {
    "duration": 3,
    "start_time": "2023-01-17T21:04:06.265Z"
   },
   {
    "duration": 10,
    "start_time": "2023-01-17T21:04:13.191Z"
   },
   {
    "duration": 3,
    "start_time": "2023-01-17T21:04:20.244Z"
   },
   {
    "duration": 9,
    "start_time": "2023-01-17T21:04:27.648Z"
   },
   {
    "duration": 27,
    "start_time": "2023-01-17T21:04:48.246Z"
   },
   {
    "duration": 459,
    "start_time": "2023-01-17T21:05:16.628Z"
   },
   {
    "duration": 20,
    "start_time": "2023-01-17T21:05:31.846Z"
   },
   {
    "duration": 60,
    "start_time": "2023-01-17T21:05:53.615Z"
   },
   {
    "duration": 16,
    "start_time": "2023-01-17T21:06:02.119Z"
   },
   {
    "duration": 13,
    "start_time": "2023-01-17T21:06:09.749Z"
   },
   {
    "duration": 46,
    "start_time": "2023-01-17T21:06:18.956Z"
   },
   {
    "duration": 57,
    "start_time": "2023-01-17T21:06:40.187Z"
   },
   {
    "duration": 66,
    "start_time": "2023-01-17T21:06:49.039Z"
   },
   {
    "duration": 10,
    "start_time": "2023-01-17T21:07:18.867Z"
   },
   {
    "duration": 38,
    "start_time": "2023-01-17T21:07:46.004Z"
   },
   {
    "duration": 62,
    "start_time": "2023-01-17T21:07:57.771Z"
   },
   {
    "duration": 79,
    "start_time": "2023-01-17T21:08:05.650Z"
   },
   {
    "duration": 6,
    "start_time": "2023-01-17T21:08:12.779Z"
   },
   {
    "duration": 15,
    "start_time": "2023-01-17T21:08:18.690Z"
   },
   {
    "duration": 46,
    "start_time": "2023-01-17T21:09:04.425Z"
   },
   {
    "duration": 6,
    "start_time": "2023-01-17T21:22:57.408Z"
   },
   {
    "duration": 165,
    "start_time": "2023-01-17T21:22:58.184Z"
   },
   {
    "duration": 18,
    "start_time": "2023-01-17T21:22:59.372Z"
   },
   {
    "duration": 73,
    "start_time": "2023-01-17T21:23:03.491Z"
   },
   {
    "duration": 61,
    "start_time": "2023-01-17T21:23:12.316Z"
   },
   {
    "duration": 3,
    "start_time": "2023-01-17T21:23:13.932Z"
   },
   {
    "duration": 8,
    "start_time": "2023-01-17T21:23:14.628Z"
   },
   {
    "duration": 67,
    "start_time": "2023-01-17T21:23:16.767Z"
   },
   {
    "duration": 23,
    "start_time": "2023-01-17T21:24:10.608Z"
   },
   {
    "duration": 21,
    "start_time": "2023-01-17T21:24:11.119Z"
   },
   {
    "duration": 4,
    "start_time": "2023-01-17T21:31:18.569Z"
   },
   {
    "duration": 4,
    "start_time": "2023-01-17T21:31:38.745Z"
   },
   {
    "duration": 5,
    "start_time": "2023-01-17T21:32:06.256Z"
   },
   {
    "duration": 822,
    "start_time": "2023-01-17T21:33:47.552Z"
   },
   {
    "duration": 3,
    "start_time": "2023-01-17T21:33:53.879Z"
   },
   {
    "duration": 147,
    "start_time": "2023-01-17T21:33:54.419Z"
   },
   {
    "duration": 17,
    "start_time": "2023-01-17T21:33:54.634Z"
   },
   {
    "duration": 22,
    "start_time": "2023-01-17T21:33:54.877Z"
   },
   {
    "duration": 56,
    "start_time": "2023-01-17T21:33:55.105Z"
   },
   {
    "duration": 3,
    "start_time": "2023-01-17T21:33:55.347Z"
   },
   {
    "duration": 8,
    "start_time": "2023-01-17T21:33:55.553Z"
   },
   {
    "duration": 68,
    "start_time": "2023-01-17T21:33:55.844Z"
   },
   {
    "duration": 703,
    "start_time": "2023-01-17T21:33:56.351Z"
   },
   {
    "duration": 23,
    "start_time": "2023-01-17T21:34:02.424Z"
   },
   {
    "duration": 24,
    "start_time": "2023-01-17T21:34:05.614Z"
   },
   {
    "duration": 26,
    "start_time": "2023-01-17T21:34:06.253Z"
   },
   {
    "duration": 3,
    "start_time": "2023-01-17T21:34:30.671Z"
   },
   {
    "duration": 7,
    "start_time": "2023-01-17T21:35:11.959Z"
   },
   {
    "duration": 7,
    "start_time": "2023-01-17T21:36:02.460Z"
   },
   {
    "duration": 7,
    "start_time": "2023-01-17T21:36:42.653Z"
   },
   {
    "duration": 5,
    "start_time": "2023-01-17T21:38:27.507Z"
   },
   {
    "duration": 6,
    "start_time": "2023-01-17T21:40:12.522Z"
   },
   {
    "duration": 673,
    "start_time": "2023-01-17T21:41:19.364Z"
   },
   {
    "duration": 18,
    "start_time": "2023-01-17T21:44:36.526Z"
   },
   {
    "duration": 36,
    "start_time": "2023-01-17T21:45:25.037Z"
   },
   {
    "duration": 85,
    "start_time": "2023-01-17T21:45:58.613Z"
   },
   {
    "duration": 3,
    "start_time": "2023-01-17T21:46:03.639Z"
   },
   {
    "duration": 165,
    "start_time": "2023-01-17T21:46:03.876Z"
   },
   {
    "duration": 19,
    "start_time": "2023-01-17T21:46:04.115Z"
   },
   {
    "duration": 20,
    "start_time": "2023-01-17T21:46:04.348Z"
   },
   {
    "duration": 58,
    "start_time": "2023-01-17T21:46:04.710Z"
   },
   {
    "duration": 3,
    "start_time": "2023-01-17T21:46:05.244Z"
   },
   {
    "duration": 7,
    "start_time": "2023-01-17T21:46:05.688Z"
   },
   {
    "duration": 67,
    "start_time": "2023-01-17T21:46:06.183Z"
   },
   {
    "duration": 95,
    "start_time": "2023-01-17T21:46:07.347Z"
   },
   {
    "duration": 27,
    "start_time": "2023-01-17T21:46:07.779Z"
   },
   {
    "duration": 4,
    "start_time": "2023-01-17T21:46:16.379Z"
   },
   {
    "duration": 8,
    "start_time": "2023-01-17T21:46:16.679Z"
   },
   {
    "duration": 7,
    "start_time": "2023-01-17T21:46:17.103Z"
   },
   {
    "duration": 6,
    "start_time": "2023-01-17T21:46:17.677Z"
   },
   {
    "duration": 57,
    "start_time": "2023-01-17T21:46:18.805Z"
   },
   {
    "duration": 250,
    "start_time": "2023-01-17T21:48:05.418Z"
   },
   {
    "duration": 235,
    "start_time": "2023-01-17T21:48:16.978Z"
   },
   {
    "duration": 253,
    "start_time": "2023-01-17T21:49:05.394Z"
   },
   {
    "duration": 44,
    "start_time": "2023-01-17T21:52:33.549Z"
   },
   {
    "duration": 201,
    "start_time": "2023-01-17T21:52:45.141Z"
   },
   {
    "duration": 187,
    "start_time": "2023-01-17T21:53:00.751Z"
   },
   {
    "duration": 27,
    "start_time": "2023-01-17T21:53:37.162Z"
   },
   {
    "duration": 107,
    "start_time": "2023-01-17T21:53:39.767Z"
   },
   {
    "duration": 20,
    "start_time": "2023-01-17T21:53:40.025Z"
   },
   {
    "duration": 3,
    "start_time": "2023-01-17T21:53:40.649Z"
   },
   {
    "duration": 7,
    "start_time": "2023-01-17T21:53:40.819Z"
   },
   {
    "duration": 7,
    "start_time": "2023-01-17T21:53:41.007Z"
   },
   {
    "duration": 6,
    "start_time": "2023-01-17T21:53:41.198Z"
   },
   {
    "duration": 267,
    "start_time": "2023-01-17T21:53:41.379Z"
   },
   {
    "duration": 17,
    "start_time": "2023-01-17T21:53:42.571Z"
   },
   {
    "duration": 75,
    "start_time": "2023-01-17T21:53:57.331Z"
   },
   {
    "duration": 78,
    "start_time": "2023-01-17T21:53:59.216Z"
   },
   {
    "duration": 30,
    "start_time": "2023-01-17T21:53:59.571Z"
   },
   {
    "duration": 4,
    "start_time": "2023-01-17T21:54:00.637Z"
   },
   {
    "duration": 7,
    "start_time": "2023-01-17T21:54:01.038Z"
   },
   {
    "duration": 8,
    "start_time": "2023-01-17T21:54:01.413Z"
   },
   {
    "duration": 5,
    "start_time": "2023-01-17T21:54:01.914Z"
   },
   {
    "duration": 254,
    "start_time": "2023-01-17T21:54:02.418Z"
   },
   {
    "duration": 69,
    "start_time": "2023-01-17T21:54:30.875Z"
   },
   {
    "duration": 247,
    "start_time": "2023-01-17T21:54:44.479Z"
   },
   {
    "duration": 20,
    "start_time": "2023-01-17T21:54:46.215Z"
   },
   {
    "duration": 19,
    "start_time": "2023-01-17T21:54:52.714Z"
   },
   {
    "duration": 42,
    "start_time": "2023-01-17T21:55:05.506Z"
   },
   {
    "duration": 4,
    "start_time": "2023-01-17T21:55:10.023Z"
   },
   {
    "duration": 169,
    "start_time": "2023-01-17T21:55:10.446Z"
   },
   {
    "duration": 23,
    "start_time": "2023-01-17T21:55:10.929Z"
   },
   {
    "duration": 30,
    "start_time": "2023-01-17T21:55:11.531Z"
   },
   {
    "duration": 56,
    "start_time": "2023-01-17T21:55:11.967Z"
   },
   {
    "duration": 3,
    "start_time": "2023-01-17T21:55:12.343Z"
   },
   {
    "duration": 8,
    "start_time": "2023-01-17T21:55:12.643Z"
   },
   {
    "duration": 82,
    "start_time": "2023-01-17T21:55:13.018Z"
   },
   {
    "duration": 71,
    "start_time": "2023-01-17T21:55:13.404Z"
   },
   {
    "duration": 29,
    "start_time": "2023-01-17T21:55:13.685Z"
   },
   {
    "duration": 4,
    "start_time": "2023-01-17T21:55:14.671Z"
   },
   {
    "duration": 9,
    "start_time": "2023-01-17T21:55:14.876Z"
   },
   {
    "duration": 9,
    "start_time": "2023-01-17T21:55:15.093Z"
   },
   {
    "duration": 7,
    "start_time": "2023-01-17T21:55:15.309Z"
   },
   {
    "duration": 298,
    "start_time": "2023-01-17T21:55:15.568Z"
   },
   {
    "duration": 89,
    "start_time": "2023-01-17T21:55:19.008Z"
   },
   {
    "duration": 28,
    "start_time": "2023-01-17T21:56:15.110Z"
   },
   {
    "duration": 4,
    "start_time": "2023-01-17T22:00:28.021Z"
   },
   {
    "duration": 3,
    "start_time": "2023-01-17T22:00:44.604Z"
   },
   {
    "duration": 12,
    "start_time": "2023-01-17T22:02:37.586Z"
   },
   {
    "duration": 10,
    "start_time": "2023-01-17T22:03:00.745Z"
   },
   {
    "duration": 9,
    "start_time": "2023-01-17T22:04:17.184Z"
   },
   {
    "duration": 4,
    "start_time": "2023-01-17T22:04:49.887Z"
   },
   {
    "duration": 55,
    "start_time": "2023-01-17T22:05:36.604Z"
   },
   {
    "duration": 3,
    "start_time": "2023-01-17T22:05:48.238Z"
   },
   {
    "duration": 5,
    "start_time": "2023-01-17T22:05:59.605Z"
   },
   {
    "duration": 3,
    "start_time": "2023-01-17T22:06:09.765Z"
   },
   {
    "duration": 4,
    "start_time": "2023-01-17T22:06:27.101Z"
   },
   {
    "duration": 13,
    "start_time": "2023-01-17T22:08:45.876Z"
   },
   {
    "duration": 24,
    "start_time": "2023-01-17T22:09:28.371Z"
   },
   {
    "duration": 22,
    "start_time": "2023-01-17T22:10:39.648Z"
   },
   {
    "duration": 3,
    "start_time": "2023-01-17T22:11:15.481Z"
   },
   {
    "duration": 16,
    "start_time": "2023-01-17T22:11:23.431Z"
   },
   {
    "duration": 23,
    "start_time": "2023-01-17T22:11:36.951Z"
   },
   {
    "duration": 25,
    "start_time": "2023-01-17T22:11:58.783Z"
   },
   {
    "duration": 20,
    "start_time": "2023-01-17T22:12:13.080Z"
   },
   {
    "duration": 43,
    "start_time": "2023-01-17T22:14:59.964Z"
   },
   {
    "duration": 4,
    "start_time": "2023-01-17T22:15:53.138Z"
   },
   {
    "duration": 20,
    "start_time": "2023-01-17T22:15:58.346Z"
   },
   {
    "duration": 18,
    "start_time": "2023-01-17T22:29:13.419Z"
   },
   {
    "duration": 25,
    "start_time": "2023-01-17T22:30:59.297Z"
   },
   {
    "duration": 68,
    "start_time": "2023-01-17T22:39:34.510Z"
   },
   {
    "duration": 259,
    "start_time": "2023-01-17T22:39:52.473Z"
   },
   {
    "duration": 62,
    "start_time": "2023-01-17T22:40:05.278Z"
   },
   {
    "duration": 6,
    "start_time": "2023-01-17T22:41:11.406Z"
   },
   {
    "duration": 180,
    "start_time": "2023-01-17T22:41:35.019Z"
   },
   {
    "duration": 76,
    "start_time": "2023-01-17T22:42:40.434Z"
   },
   {
    "duration": 184,
    "start_time": "2023-01-17T22:42:42.569Z"
   },
   {
    "duration": 162,
    "start_time": "2023-01-17T22:45:19.271Z"
   },
   {
    "duration": 79,
    "start_time": "2023-01-17T22:47:07.836Z"
   },
   {
    "duration": 10,
    "start_time": "2023-01-17T22:51:12.207Z"
   },
   {
    "duration": 9,
    "start_time": "2023-01-17T22:55:55.851Z"
   },
   {
    "duration": 289,
    "start_time": "2023-01-17T22:56:00.381Z"
   },
   {
    "duration": 162,
    "start_time": "2023-01-17T22:57:01.906Z"
   },
   {
    "duration": 3,
    "start_time": "2023-01-17T22:57:11.203Z"
   },
   {
    "duration": 153,
    "start_time": "2023-01-17T22:57:20.058Z"
   },
   {
    "duration": 152,
    "start_time": "2023-01-17T23:02:09.258Z"
   },
   {
    "duration": 14,
    "start_time": "2023-01-17T23:03:40.736Z"
   },
   {
    "duration": 94,
    "start_time": "2023-01-17T23:06:22.834Z"
   },
   {
    "duration": 3,
    "start_time": "2023-01-17T23:06:36.847Z"
   },
   {
    "duration": 174,
    "start_time": "2023-01-17T23:06:37.017Z"
   },
   {
    "duration": 42,
    "start_time": "2023-01-17T23:06:37.200Z"
   },
   {
    "duration": 19,
    "start_time": "2023-01-17T23:06:37.345Z"
   },
   {
    "duration": 59,
    "start_time": "2023-01-17T23:06:37.527Z"
   },
   {
    "duration": 3,
    "start_time": "2023-01-17T23:06:37.682Z"
   },
   {
    "duration": 10,
    "start_time": "2023-01-17T23:06:37.863Z"
   },
   {
    "duration": 82,
    "start_time": "2023-01-17T23:06:38.071Z"
   },
   {
    "duration": 70,
    "start_time": "2023-01-17T23:06:38.220Z"
   },
   {
    "duration": 40,
    "start_time": "2023-01-17T23:06:38.397Z"
   },
   {
    "duration": 3,
    "start_time": "2023-01-17T23:06:38.922Z"
   },
   {
    "duration": 13,
    "start_time": "2023-01-17T23:06:39.109Z"
   },
   {
    "duration": 7,
    "start_time": "2023-01-17T23:06:39.275Z"
   },
   {
    "duration": 6,
    "start_time": "2023-01-17T23:06:39.473Z"
   },
   {
    "duration": 304,
    "start_time": "2023-01-17T23:06:39.641Z"
   },
   {
    "duration": 92,
    "start_time": "2023-01-17T23:06:39.947Z"
   },
   {
    "duration": 3,
    "start_time": "2023-01-17T23:06:40.075Z"
   },
   {
    "duration": 30,
    "start_time": "2023-01-17T23:06:40.273Z"
   },
   {
    "duration": 48,
    "start_time": "2023-01-17T23:06:40.675Z"
   },
   {
    "duration": 26,
    "start_time": "2023-01-17T23:06:44.240Z"
   },
   {
    "duration": 9,
    "start_time": "2023-01-17T23:06:45.062Z"
   },
   {
    "duration": 68,
    "start_time": "2023-01-17T23:06:46.606Z"
   },
   {
    "duration": 88,
    "start_time": "2023-01-17T23:06:57.780Z"
   },
   {
    "duration": 63,
    "start_time": "2023-01-17T23:07:02.522Z"
   },
   {
    "duration": 10,
    "start_time": "2023-01-17T23:07:07.427Z"
   },
   {
    "duration": 69,
    "start_time": "2023-01-17T23:07:11.719Z"
   },
   {
    "duration": 9,
    "start_time": "2023-01-17T23:07:59.462Z"
   },
   {
    "duration": 100,
    "start_time": "2023-01-17T23:08:01.450Z"
   },
   {
    "duration": 14,
    "start_time": "2023-01-17T23:08:24.501Z"
   },
   {
    "duration": 41,
    "start_time": "2023-01-17T23:08:53.396Z"
   },
   {
    "duration": 62,
    "start_time": "2023-01-17T23:08:53.921Z"
   },
   {
    "duration": 13,
    "start_time": "2023-01-17T23:08:58.130Z"
   },
   {
    "duration": 176,
    "start_time": "2023-01-17T23:09:00.281Z"
   },
   {
    "duration": 77,
    "start_time": "2023-01-17T23:09:45.504Z"
   },
   {
    "duration": 78,
    "start_time": "2023-01-17T23:10:03.846Z"
   },
   {
    "duration": 72,
    "start_time": "2023-01-17T23:10:17.369Z"
   },
   {
    "duration": 46,
    "start_time": "2023-01-17T23:21:30.868Z"
   },
   {
    "duration": 9,
    "start_time": "2023-01-17T23:23:03.322Z"
   },
   {
    "duration": 14,
    "start_time": "2023-01-17T23:26:54.789Z"
   },
   {
    "duration": 29,
    "start_time": "2023-01-17T23:27:30.252Z"
   },
   {
    "duration": 34,
    "start_time": "2023-01-17T23:27:41.716Z"
   },
   {
    "duration": 6,
    "start_time": "2023-01-17T23:28:31.219Z"
   },
   {
    "duration": 4,
    "start_time": "2023-01-17T23:29:17.978Z"
   },
   {
    "duration": 5,
    "start_time": "2023-01-17T23:30:18.313Z"
   },
   {
    "duration": 4,
    "start_time": "2023-01-17T23:30:39.457Z"
   },
   {
    "duration": 3,
    "start_time": "2023-01-17T23:30:45.908Z"
   },
   {
    "duration": 4,
    "start_time": "2023-01-17T23:31:22.176Z"
   },
   {
    "duration": 18,
    "start_time": "2023-01-17T23:32:13.409Z"
   },
   {
    "duration": 38,
    "start_time": "2023-01-17T23:32:21.046Z"
   },
   {
    "duration": 15,
    "start_time": "2023-01-17T23:32:49.222Z"
   },
   {
    "duration": 40,
    "start_time": "2023-01-17T23:33:13.982Z"
   },
   {
    "duration": 19,
    "start_time": "2023-01-17T23:33:31.814Z"
   },
   {
    "duration": 38,
    "start_time": "2023-01-17T23:33:40.550Z"
   },
   {
    "duration": 4,
    "start_time": "2023-01-17T23:34:50.184Z"
   },
   {
    "duration": 81,
    "start_time": "2023-01-17T23:38:55.656Z"
   },
   {
    "duration": 3,
    "start_time": "2023-01-17T23:39:12.056Z"
   },
   {
    "duration": 171,
    "start_time": "2023-01-17T23:39:12.252Z"
   },
   {
    "duration": 18,
    "start_time": "2023-01-17T23:39:12.425Z"
   },
   {
    "duration": 23,
    "start_time": "2023-01-17T23:39:12.684Z"
   },
   {
    "duration": 68,
    "start_time": "2023-01-17T23:39:12.872Z"
   },
   {
    "duration": 3,
    "start_time": "2023-01-17T23:39:13.051Z"
   },
   {
    "duration": 11,
    "start_time": "2023-01-17T23:39:13.235Z"
   },
   {
    "duration": 56,
    "start_time": "2023-01-17T23:39:13.420Z"
   },
   {
    "duration": 90,
    "start_time": "2023-01-17T23:39:13.610Z"
   },
   {
    "duration": 34,
    "start_time": "2023-01-17T23:39:13.796Z"
   },
   {
    "duration": 5,
    "start_time": "2023-01-17T23:39:14.391Z"
   },
   {
    "duration": 10,
    "start_time": "2023-01-17T23:39:14.602Z"
   },
   {
    "duration": 13,
    "start_time": "2023-01-17T23:39:14.797Z"
   },
   {
    "duration": 7,
    "start_time": "2023-01-17T23:39:15.027Z"
   },
   {
    "duration": 292,
    "start_time": "2023-01-17T23:39:15.265Z"
   },
   {
    "duration": 78,
    "start_time": "2023-01-17T23:39:15.559Z"
   },
   {
    "duration": 5,
    "start_time": "2023-01-17T23:39:15.960Z"
   },
   {
    "duration": 34,
    "start_time": "2023-01-17T23:39:16.514Z"
   },
   {
    "duration": 43,
    "start_time": "2023-01-17T23:39:17.710Z"
   },
   {
    "duration": 29,
    "start_time": "2023-01-17T23:39:19.406Z"
   },
   {
    "duration": 71,
    "start_time": "2023-01-17T23:39:19.614Z"
   },
   {
    "duration": 15,
    "start_time": "2023-01-17T23:39:20.792Z"
   },
   {
    "duration": 145,
    "start_time": "2023-01-17T23:39:21.435Z"
   },
   {
    "duration": 46,
    "start_time": "2023-01-17T23:39:23.463Z"
   },
   {
    "duration": 4,
    "start_time": "2023-01-17T23:39:26.618Z"
   },
   {
    "duration": 41,
    "start_time": "2023-01-17T23:39:32.309Z"
   },
   {
    "duration": 81,
    "start_time": "2023-01-17T23:39:33.587Z"
   },
   {
    "duration": 79,
    "start_time": "2023-01-17T23:39:54.278Z"
   },
   {
    "duration": 85,
    "start_time": "2023-01-17T23:41:33.244Z"
   },
   {
    "duration": 8,
    "start_time": "2023-01-17T23:41:42.971Z"
   },
   {
    "duration": 7,
    "start_time": "2023-01-17T23:41:50.670Z"
   },
   {
    "duration": 6,
    "start_time": "2023-01-17T23:42:04.851Z"
   },
   {
    "duration": 9,
    "start_time": "2023-01-17T23:42:11.243Z"
   },
   {
    "duration": 9,
    "start_time": "2023-01-17T23:45:00.153Z"
   },
   {
    "duration": 15,
    "start_time": "2023-01-17T23:45:09.489Z"
   },
   {
    "duration": 11,
    "start_time": "2023-01-17T23:46:19.191Z"
   },
   {
    "duration": 9,
    "start_time": "2023-01-17T23:46:32.471Z"
   },
   {
    "duration": 9,
    "start_time": "2023-01-17T23:46:40.575Z"
   },
   {
    "duration": 67,
    "start_time": "2023-01-18T00:14:30.570Z"
   },
   {
    "duration": 69,
    "start_time": "2023-01-18T00:14:43.361Z"
   },
   {
    "duration": 9,
    "start_time": "2023-01-18T00:15:40.121Z"
   },
   {
    "duration": 73,
    "start_time": "2023-01-18T00:15:44.350Z"
   },
   {
    "duration": 11,
    "start_time": "2023-01-18T00:15:45.024Z"
   },
   {
    "duration": 11,
    "start_time": "2023-01-18T00:16:07.152Z"
   },
   {
    "duration": 6,
    "start_time": "2023-01-18T00:16:18.784Z"
   },
   {
    "duration": 76,
    "start_time": "2023-01-18T00:20:06.830Z"
   },
   {
    "duration": 10,
    "start_time": "2023-01-18T00:28:53.841Z"
   },
   {
    "duration": 72,
    "start_time": "2023-01-18T00:32:01.334Z"
   },
   {
    "duration": 5,
    "start_time": "2023-01-18T00:32:01.898Z"
   },
   {
    "duration": 712,
    "start_time": "2023-01-18T00:32:03.444Z"
   },
   {
    "duration": 12,
    "start_time": "2023-01-18T00:34:05.307Z"
   },
   {
    "duration": 11,
    "start_time": "2023-01-18T00:34:23.028Z"
   },
   {
    "duration": 10,
    "start_time": "2023-01-18T00:34:38.522Z"
   },
   {
    "duration": 63,
    "start_time": "2023-01-18T00:34:43.624Z"
   },
   {
    "duration": 9,
    "start_time": "2023-01-18T00:34:44.223Z"
   },
   {
    "duration": 124,
    "start_time": "2023-01-18T00:34:44.578Z"
   },
   {
    "duration": 29,
    "start_time": "2023-01-18T00:34:45.138Z"
   },
   {
    "duration": 3,
    "start_time": "2023-01-18T00:34:45.732Z"
   },
   {
    "duration": 36,
    "start_time": "2023-01-18T00:34:46.116Z"
   },
   {
    "duration": 68,
    "start_time": "2023-01-18T00:34:47.375Z"
   },
   {
    "duration": 10,
    "start_time": "2023-01-18T00:34:48.043Z"
   },
   {
    "duration": 11,
    "start_time": "2023-01-18T00:35:10.865Z"
   },
   {
    "duration": 67,
    "start_time": "2023-01-18T00:38:57.213Z"
   },
   {
    "duration": 9,
    "start_time": "2023-01-18T00:41:36.130Z"
   },
   {
    "duration": 15,
    "start_time": "2023-01-18T00:41:47.386Z"
   },
   {
    "duration": 25,
    "start_time": "2023-01-18T00:41:55.778Z"
   },
   {
    "duration": 5,
    "start_time": "2023-01-18T00:45:41.182Z"
   },
   {
    "duration": 77,
    "start_time": "2023-01-18T00:47:48.187Z"
   },
   {
    "duration": 11,
    "start_time": "2023-01-18T00:49:39.841Z"
   },
   {
    "duration": 2,
    "start_time": "2023-01-18T00:49:47.515Z"
   },
   {
    "duration": 152,
    "start_time": "2023-01-18T00:49:47.739Z"
   },
   {
    "duration": 17,
    "start_time": "2023-01-18T00:49:47.985Z"
   },
   {
    "duration": 18,
    "start_time": "2023-01-18T00:49:48.162Z"
   },
   {
    "duration": 52,
    "start_time": "2023-01-18T00:49:48.361Z"
   },
   {
    "duration": 3,
    "start_time": "2023-01-18T00:49:48.552Z"
   },
   {
    "duration": 7,
    "start_time": "2023-01-18T00:49:48.747Z"
   },
   {
    "duration": 56,
    "start_time": "2023-01-18T00:49:48.954Z"
   },
   {
    "duration": 67,
    "start_time": "2023-01-18T00:49:49.113Z"
   },
   {
    "duration": 25,
    "start_time": "2023-01-18T00:49:49.310Z"
   },
   {
    "duration": 4,
    "start_time": "2023-01-18T00:49:49.890Z"
   },
   {
    "duration": 7,
    "start_time": "2023-01-18T00:49:50.072Z"
   },
   {
    "duration": 8,
    "start_time": "2023-01-18T00:49:50.262Z"
   },
   {
    "duration": 7,
    "start_time": "2023-01-18T00:49:50.470Z"
   },
   {
    "duration": 235,
    "start_time": "2023-01-18T00:49:50.657Z"
   },
   {
    "duration": 61,
    "start_time": "2023-01-18T00:49:50.893Z"
   },
   {
    "duration": 3,
    "start_time": "2023-01-18T00:49:51.052Z"
   },
   {
    "duration": 18,
    "start_time": "2023-01-18T00:49:51.260Z"
   },
   {
    "duration": 32,
    "start_time": "2023-01-18T00:49:51.463Z"
   },
   {
    "duration": 24,
    "start_time": "2023-01-18T00:49:52.301Z"
   },
   {
    "duration": 58,
    "start_time": "2023-01-18T00:49:52.512Z"
   },
   {
    "duration": 8,
    "start_time": "2023-01-18T00:49:53.153Z"
   },
   {
    "duration": 223,
    "start_time": "2023-01-18T00:49:53.606Z"
   },
   {
    "duration": 29,
    "start_time": "2023-01-18T00:49:54.878Z"
   },
   {
    "duration": 5,
    "start_time": "2023-01-18T00:49:56.022Z"
   },
   {
    "duration": 37,
    "start_time": "2023-01-18T00:49:56.519Z"
   },
   {
    "duration": 66,
    "start_time": "2023-01-18T00:49:57.377Z"
   },
   {
    "duration": 10,
    "start_time": "2023-01-18T00:49:58.170Z"
   },
   {
    "duration": 1128,
    "start_time": "2023-01-18T00:50:25.203Z"
   },
   {
    "duration": 171,
    "start_time": "2023-01-18T00:50:26.333Z"
   },
   {
    "duration": 20,
    "start_time": "2023-01-18T00:50:26.505Z"
   },
   {
    "duration": 68,
    "start_time": "2023-01-18T00:50:26.527Z"
   },
   {
    "duration": 61,
    "start_time": "2023-01-18T00:50:26.598Z"
   },
   {
    "duration": 3,
    "start_time": "2023-01-18T00:50:26.661Z"
   },
   {
    "duration": 27,
    "start_time": "2023-01-18T00:50:26.666Z"
   },
   {
    "duration": 74,
    "start_time": "2023-01-18T00:50:26.694Z"
   },
   {
    "duration": 86,
    "start_time": "2023-01-18T00:50:26.770Z"
   },
   {
    "duration": 24,
    "start_time": "2023-01-18T00:50:26.857Z"
   },
   {
    "duration": 3,
    "start_time": "2023-01-18T00:50:26.891Z"
   },
   {
    "duration": 17,
    "start_time": "2023-01-18T00:50:26.896Z"
   },
   {
    "duration": 6,
    "start_time": "2023-01-18T00:50:26.914Z"
   },
   {
    "duration": 5,
    "start_time": "2023-01-18T00:50:26.923Z"
   },
   {
    "duration": 264,
    "start_time": "2023-01-18T00:50:26.930Z"
   },
   {
    "duration": 68,
    "start_time": "2023-01-18T00:50:27.196Z"
   },
   {
    "duration": 5,
    "start_time": "2023-01-18T00:50:27.266Z"
   },
   {
    "duration": 22,
    "start_time": "2023-01-18T00:50:27.292Z"
   },
   {
    "duration": 38,
    "start_time": "2023-01-18T00:50:27.317Z"
   },
   {
    "duration": 44,
    "start_time": "2023-01-18T00:50:27.357Z"
   },
   {
    "duration": 60,
    "start_time": "2023-01-18T00:50:27.402Z"
   },
   {
    "duration": 7,
    "start_time": "2023-01-18T00:50:27.464Z"
   },
   {
    "duration": 139,
    "start_time": "2023-01-18T00:50:27.492Z"
   },
   {
    "duration": 28,
    "start_time": "2023-01-18T00:50:27.632Z"
   },
   {
    "duration": 5,
    "start_time": "2023-01-18T00:50:27.662Z"
   },
   {
    "duration": 53,
    "start_time": "2023-01-18T00:50:27.668Z"
   },
   {
    "duration": 83,
    "start_time": "2023-01-18T00:50:27.722Z"
   },
   {
    "duration": 95,
    "start_time": "2023-01-18T00:50:27.807Z"
   },
   {
    "duration": 13,
    "start_time": "2023-01-18T00:51:14.582Z"
   },
   {
    "duration": 10,
    "start_time": "2023-01-18T00:51:22.599Z"
   },
   {
    "duration": 6,
    "start_time": "2023-01-18T00:51:45.535Z"
   },
   {
    "duration": 1098,
    "start_time": "2023-01-18T00:52:03.004Z"
   },
   {
    "duration": 160,
    "start_time": "2023-01-18T00:52:04.104Z"
   },
   {
    "duration": 19,
    "start_time": "2023-01-18T00:52:04.265Z"
   },
   {
    "duration": 58,
    "start_time": "2023-01-18T00:52:04.285Z"
   },
   {
    "duration": 73,
    "start_time": "2023-01-18T00:52:04.345Z"
   },
   {
    "duration": 3,
    "start_time": "2023-01-18T00:52:04.420Z"
   },
   {
    "duration": 11,
    "start_time": "2023-01-18T00:52:04.424Z"
   },
   {
    "duration": 83,
    "start_time": "2023-01-18T00:52:04.436Z"
   },
   {
    "duration": 81,
    "start_time": "2023-01-18T00:52:04.521Z"
   },
   {
    "duration": 24,
    "start_time": "2023-01-18T00:52:04.604Z"
   },
   {
    "duration": 3,
    "start_time": "2023-01-18T00:52:04.630Z"
   },
   {
    "duration": 12,
    "start_time": "2023-01-18T00:52:04.634Z"
   },
   {
    "duration": 6,
    "start_time": "2023-01-18T00:52:04.648Z"
   },
   {
    "duration": 7,
    "start_time": "2023-01-18T00:52:04.656Z"
   },
   {
    "duration": 284,
    "start_time": "2023-01-18T00:52:04.664Z"
   },
   {
    "duration": 68,
    "start_time": "2023-01-18T00:52:04.950Z"
   },
   {
    "duration": 4,
    "start_time": "2023-01-18T00:52:05.019Z"
   },
   {
    "duration": 27,
    "start_time": "2023-01-18T00:52:05.024Z"
   },
   {
    "duration": 52,
    "start_time": "2023-01-18T00:52:05.052Z"
   },
   {
    "duration": 23,
    "start_time": "2023-01-18T00:52:05.106Z"
   },
   {
    "duration": 71,
    "start_time": "2023-01-18T00:52:05.130Z"
   },
   {
    "duration": 10,
    "start_time": "2023-01-18T00:52:05.202Z"
   },
   {
    "duration": 147,
    "start_time": "2023-01-18T00:52:05.213Z"
   },
   {
    "duration": 38,
    "start_time": "2023-01-18T00:52:05.361Z"
   },
   {
    "duration": 5,
    "start_time": "2023-01-18T00:52:05.400Z"
   },
   {
    "duration": 39,
    "start_time": "2023-01-18T00:52:05.406Z"
   },
   {
    "duration": 96,
    "start_time": "2023-01-18T00:52:05.446Z"
   },
   {
    "duration": 4,
    "start_time": "2023-01-18T00:52:05.543Z"
   },
   {
    "duration": 6,
    "start_time": "2023-01-18T00:52:48.901Z"
   },
   {
    "duration": 6,
    "start_time": "2023-01-18T00:52:59.501Z"
   },
   {
    "duration": 6,
    "start_time": "2023-01-18T00:53:04.741Z"
   },
   {
    "duration": 11,
    "start_time": "2023-01-18T00:53:32.156Z"
   },
   {
    "duration": 5,
    "start_time": "2023-01-18T00:58:44.575Z"
   },
   {
    "duration": 97,
    "start_time": "2023-01-18T00:58:53.710Z"
   },
   {
    "duration": 4,
    "start_time": "2023-01-18T00:59:14.807Z"
   },
   {
    "duration": 19,
    "start_time": "2023-01-18T00:59:17.790Z"
   },
   {
    "duration": 81,
    "start_time": "2023-01-18T01:00:37.334Z"
   },
   {
    "duration": 9,
    "start_time": "2023-01-18T01:00:38.397Z"
   },
   {
    "duration": 5,
    "start_time": "2023-01-18T01:00:43.630Z"
   },
   {
    "duration": 48,
    "start_time": "2023-01-18T01:00:44.145Z"
   },
   {
    "duration": 17,
    "start_time": "2023-01-18T01:00:52.619Z"
   },
   {
    "duration": 1102,
    "start_time": "2023-01-18T01:01:41.795Z"
   },
   {
    "duration": 158,
    "start_time": "2023-01-18T01:01:42.899Z"
   },
   {
    "duration": 20,
    "start_time": "2023-01-18T01:01:43.059Z"
   },
   {
    "duration": 58,
    "start_time": "2023-01-18T01:01:43.080Z"
   },
   {
    "duration": 85,
    "start_time": "2023-01-18T01:01:43.141Z"
   },
   {
    "duration": 3,
    "start_time": "2023-01-18T01:01:43.228Z"
   },
   {
    "duration": 10,
    "start_time": "2023-01-18T01:01:43.233Z"
   },
   {
    "duration": 89,
    "start_time": "2023-01-18T01:01:43.245Z"
   },
   {
    "duration": 83,
    "start_time": "2023-01-18T01:01:43.336Z"
   },
   {
    "duration": 26,
    "start_time": "2023-01-18T01:01:43.421Z"
   },
   {
    "duration": 6,
    "start_time": "2023-01-18T01:01:43.449Z"
   },
   {
    "duration": 13,
    "start_time": "2023-01-18T01:01:43.457Z"
   },
   {
    "duration": 26,
    "start_time": "2023-01-18T01:01:43.471Z"
   },
   {
    "duration": 6,
    "start_time": "2023-01-18T01:01:43.501Z"
   },
   {
    "duration": 293,
    "start_time": "2023-01-18T01:01:43.509Z"
   },
   {
    "duration": 64,
    "start_time": "2023-01-18T01:01:43.804Z"
   },
   {
    "duration": 4,
    "start_time": "2023-01-18T01:01:43.869Z"
   },
   {
    "duration": 63,
    "start_time": "2023-01-18T01:01:43.874Z"
   },
   {
    "duration": 41,
    "start_time": "2023-01-18T01:01:43.939Z"
   },
   {
    "duration": 24,
    "start_time": "2023-01-18T01:01:43.982Z"
   },
   {
    "duration": 75,
    "start_time": "2023-01-18T01:01:44.008Z"
   },
   {
    "duration": 8,
    "start_time": "2023-01-18T01:01:44.085Z"
   },
   {
    "duration": 166,
    "start_time": "2023-01-18T01:01:44.095Z"
   },
   {
    "duration": 35,
    "start_time": "2023-01-18T01:01:44.262Z"
   },
   {
    "duration": 4,
    "start_time": "2023-01-18T01:01:44.299Z"
   },
   {
    "duration": 56,
    "start_time": "2023-01-18T01:01:44.305Z"
   },
   {
    "duration": 76,
    "start_time": "2023-01-18T01:01:44.363Z"
   },
   {
    "duration": 12,
    "start_time": "2023-01-18T01:01:44.441Z"
   },
   {
    "duration": 9,
    "start_time": "2023-01-18T01:01:44.455Z"
   },
   {
    "duration": 895,
    "start_time": "2023-01-18T01:01:44.466Z"
   },
   {
    "duration": 10,
    "start_time": "2023-01-18T01:09:42.154Z"
   },
   {
    "duration": 1057,
    "start_time": "2023-01-18T01:09:51.949Z"
   },
   {
    "duration": 157,
    "start_time": "2023-01-18T01:09:53.008Z"
   },
   {
    "duration": 26,
    "start_time": "2023-01-18T01:09:53.166Z"
   },
   {
    "duration": 55,
    "start_time": "2023-01-18T01:09:53.194Z"
   },
   {
    "duration": 78,
    "start_time": "2023-01-18T01:09:53.251Z"
   },
   {
    "duration": 3,
    "start_time": "2023-01-18T01:09:53.331Z"
   },
   {
    "duration": 23,
    "start_time": "2023-01-18T01:09:53.335Z"
   },
   {
    "duration": 84,
    "start_time": "2023-01-18T01:09:53.360Z"
   },
   {
    "duration": 77,
    "start_time": "2023-01-18T01:09:53.446Z"
   },
   {
    "duration": 25,
    "start_time": "2023-01-18T01:09:53.524Z"
   },
   {
    "duration": 3,
    "start_time": "2023-01-18T01:09:53.550Z"
   },
   {
    "duration": 33,
    "start_time": "2023-01-18T01:09:53.555Z"
   },
   {
    "duration": 6,
    "start_time": "2023-01-18T01:09:53.589Z"
   },
   {
    "duration": 29,
    "start_time": "2023-01-18T01:09:53.598Z"
   },
   {
    "duration": 247,
    "start_time": "2023-01-18T01:09:53.629Z"
   },
   {
    "duration": 67,
    "start_time": "2023-01-18T01:09:53.878Z"
   },
   {
    "duration": 5,
    "start_time": "2023-01-18T01:09:53.946Z"
   },
   {
    "duration": 40,
    "start_time": "2023-01-18T01:09:53.953Z"
   },
   {
    "duration": 31,
    "start_time": "2023-01-18T01:09:53.995Z"
   },
   {
    "duration": 24,
    "start_time": "2023-01-18T01:09:54.028Z"
   },
   {
    "duration": 83,
    "start_time": "2023-01-18T01:09:54.054Z"
   },
   {
    "duration": 9,
    "start_time": "2023-01-18T01:09:54.139Z"
   },
   {
    "duration": 149,
    "start_time": "2023-01-18T01:09:54.150Z"
   },
   {
    "duration": 31,
    "start_time": "2023-01-18T01:09:54.301Z"
   },
   {
    "duration": 5,
    "start_time": "2023-01-18T01:09:54.334Z"
   },
   {
    "duration": 61,
    "start_time": "2023-01-18T01:09:54.341Z"
   },
   {
    "duration": 77,
    "start_time": "2023-01-18T01:09:54.404Z"
   },
   {
    "duration": 12,
    "start_time": "2023-01-18T01:09:54.492Z"
   },
   {
    "duration": 9,
    "start_time": "2023-01-18T01:09:54.506Z"
   },
   {
    "duration": 5,
    "start_time": "2023-01-18T01:12:55.087Z"
   },
   {
    "duration": 9,
    "start_time": "2023-01-18T01:14:02.134Z"
   },
   {
    "duration": 897,
    "start_time": "2023-01-18T01:15:13.069Z"
   },
   {
    "duration": 1091,
    "start_time": "2023-01-18T01:15:22.622Z"
   },
   {
    "duration": 157,
    "start_time": "2023-01-18T01:15:23.715Z"
   },
   {
    "duration": 27,
    "start_time": "2023-01-18T01:15:23.875Z"
   },
   {
    "duration": 55,
    "start_time": "2023-01-18T01:15:23.905Z"
   },
   {
    "duration": 78,
    "start_time": "2023-01-18T01:15:23.963Z"
   },
   {
    "duration": 3,
    "start_time": "2023-01-18T01:15:24.043Z"
   },
   {
    "duration": 16,
    "start_time": "2023-01-18T01:15:24.047Z"
   },
   {
    "duration": 79,
    "start_time": "2023-01-18T01:15:24.064Z"
   },
   {
    "duration": 77,
    "start_time": "2023-01-18T01:15:24.145Z"
   },
   {
    "duration": 24,
    "start_time": "2023-01-18T01:15:24.224Z"
   },
   {
    "duration": 3,
    "start_time": "2023-01-18T01:15:24.249Z"
   },
   {
    "duration": 14,
    "start_time": "2023-01-18T01:15:24.254Z"
   },
   {
    "duration": 28,
    "start_time": "2023-01-18T01:15:24.270Z"
   },
   {
    "duration": 6,
    "start_time": "2023-01-18T01:15:24.302Z"
   },
   {
    "duration": 267,
    "start_time": "2023-01-18T01:15:24.311Z"
   },
   {
    "duration": 63,
    "start_time": "2023-01-18T01:15:24.580Z"
   },
   {
    "duration": 4,
    "start_time": "2023-01-18T01:15:24.644Z"
   },
   {
    "duration": 24,
    "start_time": "2023-01-18T01:15:24.649Z"
   },
   {
    "duration": 48,
    "start_time": "2023-01-18T01:15:24.674Z"
   },
   {
    "duration": 22,
    "start_time": "2023-01-18T01:15:24.723Z"
   },
   {
    "duration": 77,
    "start_time": "2023-01-18T01:15:24.747Z"
   },
   {
    "duration": 8,
    "start_time": "2023-01-18T01:15:24.825Z"
   },
   {
    "duration": 150,
    "start_time": "2023-01-18T01:15:24.834Z"
   },
   {
    "duration": 34,
    "start_time": "2023-01-18T01:15:24.986Z"
   },
   {
    "duration": 5,
    "start_time": "2023-01-18T01:15:25.021Z"
   },
   {
    "duration": 39,
    "start_time": "2023-01-18T01:15:25.028Z"
   },
   {
    "duration": 94,
    "start_time": "2023-01-18T01:15:25.069Z"
   },
   {
    "duration": 29,
    "start_time": "2023-01-18T01:15:25.164Z"
   },
   {
    "duration": 13,
    "start_time": "2023-01-18T01:15:25.195Z"
   },
   {
    "duration": 18,
    "start_time": "2023-01-18T01:15:25.209Z"
   },
   {
    "duration": 860,
    "start_time": "2023-01-18T01:15:25.229Z"
   },
   {
    "duration": 8,
    "start_time": "2023-01-18T01:15:38.941Z"
   },
   {
    "duration": 7,
    "start_time": "2023-01-18T01:16:03.676Z"
   },
   {
    "duration": 7,
    "start_time": "2023-01-18T01:16:35.236Z"
   },
   {
    "duration": 78,
    "start_time": "2023-01-18T01:18:50.065Z"
   },
   {
    "duration": 11,
    "start_time": "2023-01-18T01:19:11.640Z"
   },
   {
    "duration": 34,
    "start_time": "2023-01-18T01:19:39.784Z"
   },
   {
    "duration": 34,
    "start_time": "2023-01-18T01:19:41.731Z"
   },
   {
    "duration": 912,
    "start_time": "2023-01-18T01:19:42.394Z"
   },
   {
    "duration": 0,
    "start_time": "2023-01-18T01:19:43.308Z"
   },
   {
    "duration": 78,
    "start_time": "2023-01-18T01:19:43.411Z"
   },
   {
    "duration": 10,
    "start_time": "2023-01-18T01:19:44.314Z"
   },
   {
    "duration": 5,
    "start_time": "2023-01-18T01:21:51.461Z"
   },
   {
    "duration": 820,
    "start_time": "2023-01-18T01:23:05.588Z"
   },
   {
    "duration": 31,
    "start_time": "2023-01-18T01:23:32.587Z"
   },
   {
    "duration": 6,
    "start_time": "2023-01-18T01:23:34.347Z"
   },
   {
    "duration": 4,
    "start_time": "2023-01-18T01:23:50.427Z"
   },
   {
    "duration": 8,
    "start_time": "2023-01-18T01:23:56.467Z"
   },
   {
    "duration": 3,
    "start_time": "2023-01-18T01:24:11.987Z"
   },
   {
    "duration": 15,
    "start_time": "2023-01-18T01:24:13.645Z"
   },
   {
    "duration": 37,
    "start_time": "2023-01-18T01:24:14.014Z"
   },
   {
    "duration": 76,
    "start_time": "2023-01-18T01:24:14.731Z"
   },
   {
    "duration": 12,
    "start_time": "2023-01-18T01:24:15.182Z"
   },
   {
    "duration": 34,
    "start_time": "2023-01-18T01:24:34.882Z"
   },
   {
    "duration": 9,
    "start_time": "2023-01-18T01:26:54.752Z"
   },
   {
    "duration": 6,
    "start_time": "2023-01-18T01:27:17.815Z"
   },
   {
    "duration": 1037,
    "start_time": "2023-01-18T01:27:28.358Z"
   },
   {
    "duration": 154,
    "start_time": "2023-01-18T01:27:29.397Z"
   },
   {
    "duration": 18,
    "start_time": "2023-01-18T01:27:29.553Z"
   },
   {
    "duration": 59,
    "start_time": "2023-01-18T01:27:29.572Z"
   },
   {
    "duration": 68,
    "start_time": "2023-01-18T01:27:29.633Z"
   },
   {
    "duration": 4,
    "start_time": "2023-01-18T01:27:29.702Z"
   },
   {
    "duration": 11,
    "start_time": "2023-01-18T01:27:29.708Z"
   },
   {
    "duration": 92,
    "start_time": "2023-01-18T01:27:29.721Z"
   },
   {
    "duration": 77,
    "start_time": "2023-01-18T01:27:29.815Z"
   },
   {
    "duration": 27,
    "start_time": "2023-01-18T01:27:29.893Z"
   },
   {
    "duration": 4,
    "start_time": "2023-01-18T01:27:29.922Z"
   },
   {
    "duration": 12,
    "start_time": "2023-01-18T01:27:29.928Z"
   },
   {
    "duration": 7,
    "start_time": "2023-01-18T01:27:29.941Z"
   },
   {
    "duration": 5,
    "start_time": "2023-01-18T01:27:29.951Z"
   },
   {
    "duration": 266,
    "start_time": "2023-01-18T01:27:29.992Z"
   },
   {
    "duration": 68,
    "start_time": "2023-01-18T01:27:30.260Z"
   },
   {
    "duration": 3,
    "start_time": "2023-01-18T01:27:30.330Z"
   },
   {
    "duration": 45,
    "start_time": "2023-01-18T01:27:30.335Z"
   },
   {
    "duration": 33,
    "start_time": "2023-01-18T01:27:30.381Z"
   },
   {
    "duration": 25,
    "start_time": "2023-01-18T01:27:30.416Z"
   },
   {
    "duration": 87,
    "start_time": "2023-01-18T01:27:30.443Z"
   },
   {
    "duration": 9,
    "start_time": "2023-01-18T01:27:30.532Z"
   },
   {
    "duration": 155,
    "start_time": "2023-01-18T01:27:30.543Z"
   },
   {
    "duration": 33,
    "start_time": "2023-01-18T01:27:30.700Z"
   },
   {
    "duration": 6,
    "start_time": "2023-01-18T01:27:30.736Z"
   },
   {
    "duration": 68,
    "start_time": "2023-01-18T01:27:30.744Z"
   },
   {
    "duration": 80,
    "start_time": "2023-01-18T01:27:30.813Z"
   },
   {
    "duration": 10,
    "start_time": "2023-01-18T01:27:30.894Z"
   },
   {
    "duration": 32,
    "start_time": "2023-01-18T01:27:30.905Z"
   },
   {
    "duration": 59,
    "start_time": "2023-01-18T01:27:30.939Z"
   },
   {
    "duration": 27,
    "start_time": "2023-01-18T01:27:31.000Z"
   },
   {
    "duration": 26,
    "start_time": "2023-01-18T01:27:31.029Z"
   },
   {
    "duration": 29,
    "start_time": "2023-01-18T01:27:31.057Z"
   },
   {
    "duration": 1061,
    "start_time": "2023-01-18T01:43:22.541Z"
   },
   {
    "duration": 155,
    "start_time": "2023-01-18T01:43:23.605Z"
   },
   {
    "duration": 18,
    "start_time": "2023-01-18T01:43:23.761Z"
   },
   {
    "duration": 60,
    "start_time": "2023-01-18T01:43:23.780Z"
   },
   {
    "duration": 72,
    "start_time": "2023-01-18T01:43:23.842Z"
   },
   {
    "duration": 2,
    "start_time": "2023-01-18T01:43:23.916Z"
   },
   {
    "duration": 13,
    "start_time": "2023-01-18T01:43:23.920Z"
   },
   {
    "duration": 77,
    "start_time": "2023-01-18T01:43:23.934Z"
   },
   {
    "duration": 79,
    "start_time": "2023-01-18T01:43:24.013Z"
   },
   {
    "duration": 31,
    "start_time": "2023-01-18T01:43:24.093Z"
   },
   {
    "duration": 3,
    "start_time": "2023-01-18T01:43:24.126Z"
   },
   {
    "duration": 23,
    "start_time": "2023-01-18T01:43:24.131Z"
   },
   {
    "duration": 7,
    "start_time": "2023-01-18T01:43:24.155Z"
   },
   {
    "duration": 6,
    "start_time": "2023-01-18T01:43:24.165Z"
   },
   {
    "duration": 262,
    "start_time": "2023-01-18T01:43:24.192Z"
   },
   {
    "duration": 67,
    "start_time": "2023-01-18T01:43:24.456Z"
   },
   {
    "duration": 3,
    "start_time": "2023-01-18T01:43:24.525Z"
   },
   {
    "duration": 22,
    "start_time": "2023-01-18T01:43:24.530Z"
   },
   {
    "duration": 52,
    "start_time": "2023-01-18T01:43:24.553Z"
   },
   {
    "duration": 24,
    "start_time": "2023-01-18T01:43:24.606Z"
   },
   {
    "duration": 75,
    "start_time": "2023-01-18T01:43:24.632Z"
   },
   {
    "duration": 9,
    "start_time": "2023-01-18T01:43:24.710Z"
   },
   {
    "duration": 146,
    "start_time": "2023-01-18T01:43:24.721Z"
   },
   {
    "duration": 39,
    "start_time": "2023-01-18T01:43:24.869Z"
   },
   {
    "duration": 6,
    "start_time": "2023-01-18T01:43:24.909Z"
   },
   {
    "duration": 44,
    "start_time": "2023-01-18T01:43:24.917Z"
   },
   {
    "duration": 99,
    "start_time": "2023-01-18T01:43:24.963Z"
   },
   {
    "duration": 11,
    "start_time": "2023-01-18T01:43:25.064Z"
   },
   {
    "duration": 17,
    "start_time": "2023-01-18T01:43:25.076Z"
   },
   {
    "duration": 39,
    "start_time": "2023-01-18T01:43:25.095Z"
   },
   {
    "duration": 20,
    "start_time": "2023-01-18T01:43:25.136Z"
   },
   {
    "duration": 13,
    "start_time": "2023-01-18T01:43:25.158Z"
   },
   {
    "duration": 9,
    "start_time": "2023-01-18T01:43:25.173Z"
   },
   {
    "duration": 1469,
    "start_time": "2023-01-18T07:35:21.241Z"
   },
   {
    "duration": 773,
    "start_time": "2023-01-18T07:35:22.713Z"
   },
   {
    "duration": 24,
    "start_time": "2023-01-18T07:35:23.488Z"
   },
   {
    "duration": 72,
    "start_time": "2023-01-18T07:35:23.514Z"
   },
   {
    "duration": 82,
    "start_time": "2023-01-18T07:35:23.590Z"
   },
   {
    "duration": 4,
    "start_time": "2023-01-18T07:35:23.674Z"
   },
   {
    "duration": 11,
    "start_time": "2023-01-18T07:35:23.680Z"
   },
   {
    "duration": 100,
    "start_time": "2023-01-18T07:35:23.693Z"
   },
   {
    "duration": 96,
    "start_time": "2023-01-18T07:35:23.795Z"
   },
   {
    "duration": 38,
    "start_time": "2023-01-18T07:35:23.893Z"
   },
   {
    "duration": 3,
    "start_time": "2023-01-18T07:35:23.933Z"
   },
   {
    "duration": 12,
    "start_time": "2023-01-18T07:35:23.950Z"
   },
   {
    "duration": 7,
    "start_time": "2023-01-18T07:35:23.964Z"
   },
   {
    "duration": 6,
    "start_time": "2023-01-18T07:35:23.974Z"
   },
   {
    "duration": 325,
    "start_time": "2023-01-18T07:35:23.982Z"
   },
   {
    "duration": 77,
    "start_time": "2023-01-18T07:35:24.308Z"
   },
   {
    "duration": 4,
    "start_time": "2023-01-18T07:35:24.387Z"
   },
   {
    "duration": 29,
    "start_time": "2023-01-18T07:35:24.392Z"
   },
   {
    "duration": 56,
    "start_time": "2023-01-18T07:35:24.423Z"
   },
   {
    "duration": 26,
    "start_time": "2023-01-18T07:35:24.481Z"
   },
   {
    "duration": 88,
    "start_time": "2023-01-18T07:35:24.509Z"
   },
   {
    "duration": 10,
    "start_time": "2023-01-18T07:35:24.598Z"
   },
   {
    "duration": 171,
    "start_time": "2023-01-18T07:35:24.610Z"
   },
   {
    "duration": 35,
    "start_time": "2023-01-18T07:35:24.783Z"
   },
   {
    "duration": 6,
    "start_time": "2023-01-18T07:35:24.820Z"
   },
   {
    "duration": 60,
    "start_time": "2023-01-18T07:35:24.828Z"
   },
   {
    "duration": 95,
    "start_time": "2023-01-18T07:35:24.890Z"
   },
   {
    "duration": 10,
    "start_time": "2023-01-18T07:35:24.987Z"
   },
   {
    "duration": 7,
    "start_time": "2023-01-18T07:35:25.000Z"
   },
   {
    "duration": 14,
    "start_time": "2023-01-18T07:35:25.009Z"
   },
   {
    "duration": 34,
    "start_time": "2023-01-18T07:35:25.025Z"
   },
   {
    "duration": 27,
    "start_time": "2023-01-18T07:35:25.061Z"
   },
   {
    "duration": 14,
    "start_time": "2023-01-18T07:35:25.090Z"
   },
   {
    "duration": 45,
    "start_time": "2023-01-18T10:09:58.462Z"
   },
   {
    "duration": 1264,
    "start_time": "2023-01-18T10:10:05.760Z"
   },
   {
    "duration": 529,
    "start_time": "2023-01-18T10:10:07.026Z"
   },
   {
    "duration": 20,
    "start_time": "2023-01-18T10:10:07.807Z"
   },
   {
    "duration": 53,
    "start_time": "2023-01-18T10:10:08.858Z"
   },
   {
    "duration": 65,
    "start_time": "2023-01-18T10:10:10.466Z"
   },
   {
    "duration": 15,
    "start_time": "2023-01-18T10:10:11.327Z"
   },
   {
    "duration": 5,
    "start_time": "2023-01-18T10:12:55.737Z"
   },
   {
    "duration": 3,
    "start_time": "2023-01-18T10:12:57.733Z"
   },
   {
    "duration": 159,
    "start_time": "2023-01-18T10:12:58.114Z"
   },
   {
    "duration": 18,
    "start_time": "2023-01-18T10:12:58.315Z"
   },
   {
    "duration": 18,
    "start_time": "2023-01-18T10:12:58.491Z"
   },
   {
    "duration": 51,
    "start_time": "2023-01-18T10:12:58.716Z"
   },
   {
    "duration": 12,
    "start_time": "2023-01-18T10:12:59.361Z"
   },
   {
    "duration": 7,
    "start_time": "2023-01-18T10:12:59.933Z"
   },
   {
    "duration": 61,
    "start_time": "2023-01-18T10:13:00.122Z"
   },
   {
    "duration": 886,
    "start_time": "2023-01-18T10:13:00.460Z"
   },
   {
    "duration": 0,
    "start_time": "2023-01-18T10:13:01.348Z"
   },
   {
    "duration": 4,
    "start_time": "2023-01-18T10:13:01.669Z"
   },
   {
    "duration": 786,
    "start_time": "2023-01-18T10:13:01.859Z"
   },
   {
    "duration": 0,
    "start_time": "2023-01-18T10:13:02.647Z"
   },
   {
    "duration": 0,
    "start_time": "2023-01-18T10:13:02.648Z"
   },
   {
    "duration": 13,
    "start_time": "2023-01-18T10:13:02.712Z"
   },
   {
    "duration": 757,
    "start_time": "2023-01-18T10:13:03.323Z"
   },
   {
    "duration": 4,
    "start_time": "2023-01-18T10:13:54.101Z"
   },
   {
    "duration": 179,
    "start_time": "2023-01-18T10:13:54.488Z"
   },
   {
    "duration": 25,
    "start_time": "2023-01-18T10:13:54.729Z"
   },
   {
    "duration": 22,
    "start_time": "2023-01-18T10:13:55.235Z"
   },
   {
    "duration": 56,
    "start_time": "2023-01-18T10:13:55.688Z"
   },
   {
    "duration": 6,
    "start_time": "2023-01-18T10:13:56.368Z"
   },
   {
    "duration": 8,
    "start_time": "2023-01-18T10:13:57.882Z"
   },
   {
    "duration": 67,
    "start_time": "2023-01-18T10:13:59.217Z"
   },
   {
    "duration": 71,
    "start_time": "2023-01-18T10:13:59.632Z"
   },
   {
    "duration": 27,
    "start_time": "2023-01-18T10:14:01.796Z"
   },
   {
    "duration": 3,
    "start_time": "2023-01-18T10:14:03.529Z"
   },
   {
    "duration": 9,
    "start_time": "2023-01-18T10:14:03.736Z"
   },
   {
    "duration": 7,
    "start_time": "2023-01-18T10:14:05.808Z"
   },
   {
    "duration": 7,
    "start_time": "2023-01-18T10:14:07.264Z"
   },
   {
    "duration": 246,
    "start_time": "2023-01-18T10:14:07.878Z"
   },
   {
    "duration": 73,
    "start_time": "2023-01-18T10:14:09.411Z"
   },
   {
    "duration": 4,
    "start_time": "2023-01-18T10:14:10.863Z"
   },
   {
    "duration": 21,
    "start_time": "2023-01-18T10:14:11.527Z"
   },
   {
    "duration": 33,
    "start_time": "2023-01-18T10:14:12.509Z"
   },
   {
    "duration": 24,
    "start_time": "2023-01-18T10:14:15.187Z"
   },
   {
    "duration": 60,
    "start_time": "2023-01-18T10:14:18.158Z"
   },
   {
    "duration": 9,
    "start_time": "2023-01-18T10:14:27.684Z"
   },
   {
    "duration": 137,
    "start_time": "2023-01-18T10:14:28.137Z"
   },
   {
    "duration": 10,
    "start_time": "2023-01-18T10:15:00.223Z"
   },
   {
    "duration": 834,
    "start_time": "2023-01-18T10:15:44.438Z"
   },
   {
    "duration": 139,
    "start_time": "2023-01-18T10:16:23.413Z"
   },
   {
    "duration": 781,
    "start_time": "2023-01-18T10:17:00.069Z"
   },
   {
    "duration": 10,
    "start_time": "2023-01-18T10:17:09.663Z"
   },
   {
    "duration": 10,
    "start_time": "2023-01-18T10:17:37.093Z"
   },
   {
    "duration": 9,
    "start_time": "2023-01-18T10:19:07.907Z"
   },
   {
    "duration": 10,
    "start_time": "2023-01-18T10:19:20.667Z"
   },
   {
    "duration": 1115,
    "start_time": "2023-01-18T10:21:13.541Z"
   },
   {
    "duration": 198,
    "start_time": "2023-01-18T10:21:14.658Z"
   },
   {
    "duration": 23,
    "start_time": "2023-01-18T10:21:14.857Z"
   },
   {
    "duration": 84,
    "start_time": "2023-01-18T10:21:14.882Z"
   },
   {
    "duration": 83,
    "start_time": "2023-01-18T10:21:14.967Z"
   },
   {
    "duration": 10,
    "start_time": "2023-01-18T10:21:15.051Z"
   },
   {
    "duration": 18,
    "start_time": "2023-01-18T10:21:15.062Z"
   },
   {
    "duration": 107,
    "start_time": "2023-01-18T10:21:15.082Z"
   },
   {
    "duration": 73,
    "start_time": "2023-01-18T10:21:15.191Z"
   },
   {
    "duration": 29,
    "start_time": "2023-01-18T10:21:15.267Z"
   },
   {
    "duration": 4,
    "start_time": "2023-01-18T10:21:15.297Z"
   },
   {
    "duration": 13,
    "start_time": "2023-01-18T10:21:15.302Z"
   },
   {
    "duration": 31,
    "start_time": "2023-01-18T10:21:15.316Z"
   },
   {
    "duration": 5,
    "start_time": "2023-01-18T10:21:15.349Z"
   },
   {
    "duration": 264,
    "start_time": "2023-01-18T10:21:15.356Z"
   },
   {
    "duration": 64,
    "start_time": "2023-01-18T10:21:15.622Z"
   },
   {
    "duration": 3,
    "start_time": "2023-01-18T10:21:15.688Z"
   },
   {
    "duration": 28,
    "start_time": "2023-01-18T10:21:15.692Z"
   },
   {
    "duration": 43,
    "start_time": "2023-01-18T10:21:15.722Z"
   },
   {
    "duration": 23,
    "start_time": "2023-01-18T10:21:15.767Z"
   },
   {
    "duration": 73,
    "start_time": "2023-01-18T10:21:15.792Z"
   },
   {
    "duration": 8,
    "start_time": "2023-01-18T10:21:15.867Z"
   },
   {
    "duration": 147,
    "start_time": "2023-01-18T10:21:15.876Z"
   },
   {
    "duration": 154,
    "start_time": "2023-01-18T10:21:16.025Z"
   },
   {
    "duration": 38,
    "start_time": "2023-01-18T10:21:16.181Z"
   },
   {
    "duration": 6,
    "start_time": "2023-01-18T10:21:16.244Z"
   },
   {
    "duration": 43,
    "start_time": "2023-01-18T10:21:16.252Z"
   },
   {
    "duration": 73,
    "start_time": "2023-01-18T10:21:16.343Z"
   },
   {
    "duration": 8,
    "start_time": "2023-01-18T10:21:16.418Z"
   },
   {
    "duration": 18,
    "start_time": "2023-01-18T10:21:16.427Z"
   },
   {
    "duration": 13,
    "start_time": "2023-01-18T10:21:16.446Z"
   },
   {
    "duration": 12,
    "start_time": "2023-01-18T10:21:16.460Z"
   },
   {
    "duration": 20,
    "start_time": "2023-01-18T10:21:16.474Z"
   },
   {
    "duration": 14,
    "start_time": "2023-01-18T10:21:16.497Z"
   },
   {
    "duration": 1208,
    "start_time": "2023-02-26T05:46:32.314Z"
   },
   {
    "duration": 534,
    "start_time": "2023-02-26T05:46:33.524Z"
   },
   {
    "duration": 20,
    "start_time": "2023-02-26T05:46:34.060Z"
   },
   {
    "duration": 62,
    "start_time": "2023-02-26T05:46:34.083Z"
   },
   {
    "duration": 66,
    "start_time": "2023-02-26T05:46:34.148Z"
   },
   {
    "duration": 8,
    "start_time": "2023-02-26T05:46:34.216Z"
   },
   {
    "duration": 8,
    "start_time": "2023-02-26T05:46:34.245Z"
   },
   {
    "duration": 90,
    "start_time": "2023-02-26T05:46:34.255Z"
   },
   {
    "duration": 85,
    "start_time": "2023-02-26T05:46:34.347Z"
   },
   {
    "duration": 29,
    "start_time": "2023-02-26T05:46:34.444Z"
   },
   {
    "duration": 3,
    "start_time": "2023-02-26T05:46:34.475Z"
   },
   {
    "duration": 17,
    "start_time": "2023-02-26T05:46:34.480Z"
   },
   {
    "duration": 7,
    "start_time": "2023-02-26T05:46:34.499Z"
   },
   {
    "duration": 15,
    "start_time": "2023-02-26T05:46:34.509Z"
   },
   {
    "duration": 289,
    "start_time": "2023-02-26T05:46:34.526Z"
   },
   {
    "duration": 77,
    "start_time": "2023-02-26T05:46:34.817Z"
   },
   {
    "duration": 4,
    "start_time": "2023-02-26T05:46:34.896Z"
   },
   {
    "duration": 22,
    "start_time": "2023-02-26T05:46:34.902Z"
   },
   {
    "duration": 49,
    "start_time": "2023-02-26T05:46:34.926Z"
   },
   {
    "duration": 26,
    "start_time": "2023-02-26T05:46:34.977Z"
   },
   {
    "duration": 89,
    "start_time": "2023-02-26T05:46:35.005Z"
   },
   {
    "duration": 9,
    "start_time": "2023-02-26T05:46:35.096Z"
   },
   {
    "duration": 153,
    "start_time": "2023-02-26T05:46:35.106Z"
   },
   {
    "duration": 126,
    "start_time": "2023-02-26T05:46:35.261Z"
   },
   {
    "duration": 75,
    "start_time": "2023-02-26T05:46:35.390Z"
   },
   {
    "duration": 6,
    "start_time": "2023-02-26T05:46:35.467Z"
   },
   {
    "duration": 105,
    "start_time": "2023-02-26T05:46:35.475Z"
   },
   {
    "duration": 96,
    "start_time": "2023-02-26T05:46:35.582Z"
   },
   {
    "duration": 10,
    "start_time": "2023-02-26T05:46:35.680Z"
   },
   {
    "duration": 7,
    "start_time": "2023-02-26T05:46:35.692Z"
   },
   {
    "duration": 15,
    "start_time": "2023-02-26T05:46:35.701Z"
   },
   {
    "duration": 9,
    "start_time": "2023-02-26T05:46:35.718Z"
   },
   {
    "duration": 10,
    "start_time": "2023-02-26T05:46:35.744Z"
   },
   {
    "duration": 14,
    "start_time": "2023-02-26T05:46:35.755Z"
   }
  ],
  "kernelspec": {
   "display_name": "Python 3 (ipykernel)",
   "language": "python",
   "name": "python3"
  },
  "language_info": {
   "codemirror_mode": {
    "name": "ipython",
    "version": 3
   },
   "file_extension": ".py",
   "mimetype": "text/x-python",
   "name": "python",
   "nbconvert_exporter": "python",
   "pygments_lexer": "ipython3",
   "version": "3.9.13"
  },
  "toc": {
   "base_numbering": 1,
   "nav_menu": {},
   "number_sections": true,
   "sideBar": true,
   "skip_h1_title": true,
   "title_cell": "Table of Contents",
   "title_sidebar": "Contents",
   "toc_cell": false,
   "toc_position": {
    "height": "calc(100% - 180px)",
    "left": "10px",
    "top": "150px",
    "width": "384px"
   },
   "toc_section_display": true,
   "toc_window_display": true
  }
 },
 "nbformat": 4,
 "nbformat_minor": 2
}
